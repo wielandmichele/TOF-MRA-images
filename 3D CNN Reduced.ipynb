{
 "cells": [
  {
   "cell_type": "code",
   "execution_count": 1,
   "metadata": {},
   "outputs": [
    {
     "name": "stdout",
     "output_type": "stream",
     "text": [
      "Collecting statsmodels\n",
      "  Downloading statsmodels-0.12.2-cp36-cp36m-manylinux1_x86_64.whl (9.5 MB)\n",
      "\u001b[K     |████████████████████████████████| 9.5 MB 5.2 MB/s eta 0:00:01     |██████████▌                     | 3.1 MB 5.2 MB/s eta 0:00:02\n",
      "\u001b[?25hCollecting patsy>=0.5\n",
      "  Downloading patsy-0.5.1-py2.py3-none-any.whl (231 kB)\n",
      "\u001b[K     |████████████████████████████████| 231 kB 33.6 MB/s eta 0:00:01\n",
      "\u001b[?25hRequirement already satisfied: numpy>=1.15 in /usr/local/lib/python3.6/dist-packages (from statsmodels) (1.19.4)\n",
      "Requirement already satisfied: pandas>=0.21 in /usr/local/lib/python3.6/dist-packages (from statsmodels) (1.1.5)\n",
      "Requirement already satisfied: scipy>=1.1 in /usr/local/lib/python3.6/dist-packages (from statsmodels) (1.5.4)\n",
      "Requirement already satisfied: python-dateutil>=2.7.3 in /usr/local/lib/python3.6/dist-packages (from pandas>=0.21->statsmodels) (2.8.1)\n",
      "Requirement already satisfied: pytz>=2017.2 in /usr/local/lib/python3.6/dist-packages (from pandas>=0.21->statsmodels) (2021.1)\n",
      "Requirement already satisfied: six in /usr/local/lib/python3.6/dist-packages (from patsy>=0.5->statsmodels) (1.15.0)\n",
      "Installing collected packages: patsy, statsmodels\n",
      "Successfully installed patsy-0.5.1 statsmodels-0.12.2\n"
     ]
    }
   ],
   "source": [
    "!pip install statsmodels"
   ]
  },
  {
   "cell_type": "code",
   "execution_count": 64,
   "metadata": {},
   "outputs": [],
   "source": [
    "import os\n",
    "import pandas as pd\n",
    "import zipfile\n",
    "import numpy as np\n",
    "import tensorflow as tf\n",
    "import h5py\n",
    "import random\n",
    "from scipy import ndimage\n",
    "import shutil\n",
    "import matplotlib.pyplot as plt\n",
    "from sklearn.metrics import confusion_matrix\n",
    "import sklearn\n",
    "import tempfile\n",
    "import datetime\n",
    "from statsmodels.stats.proportion import proportion_confint\n",
    "from functions.auc_delong_xu import auc_ci_Delong\n",
    "\n",
    "from tensorflow import keras\n",
    "from tensorflow.keras import layers\n",
    "from keras.utils import to_categorical\n",
    "from keras.layers.merge import concatenate\n",
    "from tensorflow.keras import regularizers\n",
    "from keras import backend as K"
   ]
  },
  {
   "cell_type": "code",
   "execution_count": 4,
   "metadata": {},
   "outputs": [
    {
     "data": {
      "text/plain": [
       "'2.4.0'"
      ]
     },
     "execution_count": 4,
     "metadata": {},
     "output_type": "execute_result"
    }
   ],
   "source": [
    "tf.__version__"
   ]
  },
  {
   "cell_type": "markdown",
   "metadata": {},
   "source": [
    "### Import data from HD5File"
   ]
  },
  {
   "cell_type": "markdown",
   "metadata": {},
   "source": [
    "Checking the data"
   ]
  },
  {
   "cell_type": "code",
   "execution_count": 3,
   "metadata": {},
   "outputs": [],
   "source": [
    "PATH_3D_H5 = 'Images/tof_data.hdf5'"
   ]
  },
  {
   "cell_type": "code",
   "execution_count": 4,
   "metadata": {},
   "outputs": [
    {
     "name": "stdout",
     "output_type": "stream",
     "text": [
      "['X', 'pat', 'path', 'stroke']\n",
      "(508, 128, 112, 40)\n",
      "(508,)\n"
     ]
    }
   ],
   "source": [
    "with h5py.File(PATH_3D_H5, 'r') as dd:\n",
    "    print(list(dd.keys()))\n",
    "    print(dd['X'].shape)\n",
    "    print(dd['stroke'].shape)"
   ]
  },
  {
   "cell_type": "code",
   "execution_count": 5,
   "metadata": {},
   "outputs": [
    {
     "name": "stdout",
     "output_type": "stream",
     "text": [
      "H5-file:  ['X', 'pat', 'path', 'stroke']\n",
      "508 508 508 508\n"
     ]
    }
   ],
   "source": [
    "def decode_data(string):\n",
    "    decoded_string = [n.decode(\"UTF-8\", \"ignore\") for n in string]\n",
    "    return(decoded_string)\n",
    "\n",
    "with h5py.File(PATH_3D_H5, 'r') as h5:\n",
    "    print('H5-file: ', list(h5.keys()))\n",
    "    \n",
    "    # Image matrices\n",
    "    X = h5[\"X\"][:]\n",
    "    # Patient ID's\n",
    "    pat = h5[\"pat\"][:]\n",
    "    # Path to images\n",
    "    path = decode_data(h5[\"path\"][:])\n",
    "    # Patient labels (1=stroke, 0=TIA)\n",
    "    Y_pat = h5[\"stroke\"][:]\n",
    "    \n",
    "print(len(X), len(Y_pat), len(pat), len(path))"
   ]
  },
  {
   "cell_type": "markdown",
   "metadata": {},
   "source": [
    "### Train, validation, test split (vgl. NB from Lisa)"
   ]
  },
  {
   "cell_type": "markdown",
   "metadata": {},
   "source": [
    "There are 508 patients with TOF-MRA images. We split the dataset in a training, validation and test set.\n",
    "- Training set: 304 images (~60%) -> 211 stroke, 93 non-stroke\n",
    "- Validation set: 102 images (~20%) -> 70 stroke, 32 non-stroke\n",
    "- Test set: 102 images (~20%) -> 70 stroke, 32 non-stroke\n",
    "\n",
    "In every set there is the same percentage of stroke patients vs. non stroke patients (approx. 69% vs. 31%)"
   ]
  },
  {
   "cell_type": "code",
   "execution_count": 6,
   "metadata": {},
   "outputs": [
    {
     "name": "stdout",
     "output_type": "stream",
     "text": [
      "351 157\n"
     ]
    }
   ],
   "source": [
    "# consider stroke and no-stroke patients separately:\n",
    "idx = np.where(Y_pat == 1)[0]\n",
    "stroke_patients = np.unique(pat[idx])\n",
    "idx = np.where(Y_pat == 0)[0]\n",
    "non_stroke_patients = np.unique(pat[idx])\n",
    "print(len(stroke_patients), len(non_stroke_patients))"
   ]
  },
  {
   "cell_type": "code",
   "execution_count": 7,
   "metadata": {},
   "outputs": [],
   "source": [
    "# randomly shuffle the stroke and non-stroke patients\n",
    "np.random.seed(1)\n",
    "stroke_patients_test = np.random.choice(stroke_patients, size=len(stroke_patients), replace=False)\n",
    "non_stroke_patients_test = np.random.choice(non_stroke_patients, size=len(non_stroke_patients), replace=False)"
   ]
  },
  {
   "cell_type": "code",
   "execution_count": 8,
   "metadata": {},
   "outputs": [
    {
     "data": {
      "text/plain": [
       "101"
      ]
     },
     "execution_count": 8,
     "metadata": {},
     "output_type": "execute_result"
    }
   ],
   "source": [
    "#test set\n",
    "np.random.seed(1)\n",
    "test_tmp = np.concatenate([stroke_patients_test[:70], non_stroke_patients_test[:31]], axis=0)\n",
    "test = np.random.choice(test_tmp, size=len(test_tmp), replace=False)\n",
    "len(test)"
   ]
  },
  {
   "cell_type": "code",
   "execution_count": 9,
   "metadata": {},
   "outputs": [
    {
     "name": "stdout",
     "output_type": "stream",
     "text": [
      "281 126\n"
     ]
    }
   ],
   "source": [
    "stroke_patients_run = [i for i in stroke_patients if i not in test]\n",
    "non_stroke_patients_run = [i for i in non_stroke_patients if i not in test]\n",
    "\n",
    "# randomply shuffle the data\n",
    "np.random.seed(100)\n",
    "stroke_patients_tmp = np.random.choice(stroke_patients_run, size=len(stroke_patients_run), replace=False)\n",
    "non_stroke_patients_tmp = np.random.choice(non_stroke_patients_run, size=len(non_stroke_patients_run), replace=False)\n",
    "print(len(stroke_patients_tmp), len(non_stroke_patients_tmp))"
   ]
  },
  {
   "cell_type": "code",
   "execution_count": 10,
   "metadata": {},
   "outputs": [
    {
     "data": {
      "text/plain": [
       "407"
      ]
     },
     "execution_count": 10,
     "metadata": {},
     "output_type": "execute_result"
    }
   ],
   "source": [
    "train_tmp = np.concatenate([stroke_patients_tmp,non_stroke_patients_tmp], axis=0)\n",
    "len(train_tmp)"
   ]
  },
  {
   "cell_type": "code",
   "execution_count": 11,
   "metadata": {},
   "outputs": [
    {
     "name": "stdout",
     "output_type": "stream",
     "text": [
      "407 101\n"
     ]
    }
   ],
   "source": [
    "# randomly shuffle the datasets such that stroke and no-stroke patients are mixed\n",
    "np.random.seed(100)\n",
    "train = np.random.choice(train_tmp, size=len(train_tmp), replace=False)\n",
    "test = np.random.choice(test, size=len(test), replace=False)\n",
    "print(len(train), len(test))"
   ]
  },
  {
   "cell_type": "code",
   "execution_count": 12,
   "metadata": {},
   "outputs": [],
   "source": [
    "def get_datasets(set_i, X, Y_pat, pat, path):\n",
    "    Y_pat_set = []\n",
    "    pat_set = []\n",
    "    path_set = []\n",
    "    # Find the indices corresponding to the patient_i in set_i\n",
    "    idx = [i for i, pat_i in enumerate(pat) if pat_i in set_i]\n",
    "    X_set = X[idx,:,:,:]\n",
    "    for i in idx:\n",
    "        Y_pat_set.append(Y_pat[i])\n",
    "        pat_set.append(pat[i])\n",
    "        path_set.append(path[i])     \n",
    "    return(X_set, np.array(Y_pat_set), np.array(pat_set), np.array(path_set))"
   ]
  },
  {
   "cell_type": "code",
   "execution_count": 251,
   "metadata": {},
   "outputs": [],
   "source": [
    "X_train, Y_train, pat_train, path_train = get_datasets(train, X, Y_pat, pat, path)\n",
    "#X_valid, Y_valid, pat_valid, path_valid = get_datasets(valid, X, Y_pat, pat, path)\n",
    "X_test, Y_test, pat_test, path_test = get_datasets(test, X, Y_pat, pat, path)"
   ]
  },
  {
   "cell_type": "code",
   "execution_count": 14,
   "metadata": {},
   "outputs": [],
   "source": [
    "#for softmax\n",
    "Y_train = to_categorical(Y_train)\n",
    "#Y_valid = to_categorical(Y_valid)\n",
    "Y_test = to_categorical(Y_test)"
   ]
  },
  {
   "cell_type": "markdown",
   "metadata": {},
   "source": [
    "### Preprocess data"
   ]
  },
  {
   "cell_type": "code",
   "execution_count": 252,
   "metadata": {},
   "outputs": [],
   "source": [
    "IMAGE_DIMENSION = (64, 56, 20)\n",
    "#IMAGE_DIMENSION = (96, 84, 30)\n",
    "#IMAGE_DIMENSION = (128, 112, 40)"
   ]
  },
  {
   "cell_type": "code",
   "execution_count": 253,
   "metadata": {},
   "outputs": [],
   "source": [
    "def normalize_array(array):\n",
    "    min = np.min(array)\n",
    "    max = np.max(array)\n",
    "    normalized = (array - min) / (max - min)\n",
    "    return normalized"
   ]
  },
  {
   "cell_type": "code",
   "execution_count": 254,
   "metadata": {},
   "outputs": [],
   "source": [
    "def resize_volume(img):\n",
    "    \"\"\"Resize across z-axis\"\"\"\n",
    "    # Set the desired depth\n",
    "    desired_width = IMAGE_DIMENSION[0]\n",
    "    desired_height = IMAGE_DIMENSION[1]\n",
    "    desired_depth = IMAGE_DIMENSION[2]\n",
    "    # Get current depth\n",
    "    current_depth = img.shape[-1]\n",
    "    current_width = img.shape[0]\n",
    "    current_height = img.shape[1]\n",
    "    # Compute depth factor\n",
    "    depth = current_depth / desired_depth\n",
    "    width = current_width / desired_width\n",
    "    height = current_height / desired_height\n",
    "    depth_factor = 1 / depth\n",
    "    width_factor = 1 / width\n",
    "    height_factor = 1 / height\n",
    "    # Resize across z-axis\n",
    "    img = ndimage.zoom(img, (width_factor, height_factor, depth_factor), order=1)\n",
    "    img = normalize_array(img)\n",
    "    return img"
   ]
  },
  {
   "cell_type": "code",
   "execution_count": 255,
   "metadata": {},
   "outputs": [],
   "source": [
    "X_train = np.array([resize_volume(img) for img in X_train])\n",
    "#X_valid= np.array([resize_volume(img) for img in X_valid])\n",
    "X_test = np.array([resize_volume(img) for img in X_test])"
   ]
  },
  {
   "cell_type": "code",
   "execution_count": 256,
   "metadata": {},
   "outputs": [
    {
     "data": {
      "text/plain": [
       "(407, 64, 56, 20, 1)"
      ]
     },
     "execution_count": 256,
     "metadata": {},
     "output_type": "execute_result"
    }
   ],
   "source": [
    "X_train = np.expand_dims(X_train, axis = 4)\n",
    "X_train.shape"
   ]
  },
  {
   "cell_type": "code",
   "execution_count": 257,
   "metadata": {},
   "outputs": [
    {
     "data": {
      "text/plain": [
       "(101, 64, 56, 20, 1)"
      ]
     },
     "execution_count": 257,
     "metadata": {},
     "output_type": "execute_result"
    }
   ],
   "source": [
    "#X_valid = np.expand_dims(X_valid, axis = 4)\n",
    "#X_valid.shape\n",
    "X_test = np.expand_dims(X_test, axis = 4)\n",
    "X_test.shape"
   ]
  },
  {
   "cell_type": "code",
   "execution_count": 21,
   "metadata": {},
   "outputs": [
    {
     "data": {
      "text/plain": [
       "0.0"
      ]
     },
     "execution_count": 21,
     "metadata": {},
     "output_type": "execute_result"
    }
   ],
   "source": [
    "np.min(X_train[4])"
   ]
  },
  {
   "cell_type": "code",
   "execution_count": 22,
   "metadata": {},
   "outputs": [
    {
     "data": {
      "text/plain": [
       "1.0"
      ]
     },
     "execution_count": 22,
     "metadata": {},
     "output_type": "execute_result"
    }
   ],
   "source": [
    "np.max(X_train[4])"
   ]
  },
  {
   "cell_type": "code",
   "execution_count": 337,
   "metadata": {},
   "outputs": [],
   "source": [
    "##all elements between -0.5 and 0.5\n",
    "X_train = X_train - 0.5\n",
    "X_valid = X_valid - 0.5"
   ]
  },
  {
   "cell_type": "code",
   "execution_count": 338,
   "metadata": {},
   "outputs": [
    {
     "name": "stdout",
     "output_type": "stream",
     "text": [
      "-0.5 0.5\n"
     ]
    }
   ],
   "source": [
    "print(np.min(X_train[0]), np.max(X_train[0]))"
   ]
  },
  {
   "cell_type": "markdown",
   "metadata": {},
   "source": [
    "### Data Augmentation"
   ]
  },
  {
   "cell_type": "markdown",
   "metadata": {},
   "source": [
    "Zoom images"
   ]
  },
  {
   "cell_type": "code",
   "execution_count": 23,
   "metadata": {},
   "outputs": [],
   "source": [
    "# zoom\n",
    "def random_zoom3d(X_im, min_zoom, max_zoom):\n",
    "    z = np.random.sample() *(max_zoom-min_zoom) + min_zoom\n",
    "    zoom_matrix = np.array([[z, 0, 0, 0],\n",
    "                            [0, z, 0, 0],\n",
    "                            [0, 0, z, 0],\n",
    "                            [0, 0, 0, 1]])\n",
    "    return ndimage.affine_transform(X_im, zoom_matrix, mode = \"nearest\", order = 1)"
   ]
  },
  {
   "cell_type": "code",
   "execution_count": 321,
   "metadata": {},
   "outputs": [
    {
     "data": {
      "text/plain": [
       "<matplotlib.image.AxesImage at 0x7f4ba39aff60>"
      ]
     },
     "execution_count": 321,
     "metadata": {},
     "output_type": "execute_result"
    },
    {
     "data": {
      "image/png": "[encoded data removed]",
      "text/plain": [
       "<Figure size 504x720 with 2 Axes>"
      ]
     },
     "metadata": {
      "needs_background": "light"
     },
     "output_type": "display_data"
    }
   ],
   "source": [
    "x = X_train[0]\n",
    "X_aug = random_zoom3d(x, 0.8,1.00)\n",
    "fig, axis= plt.subplots(1,2, figsize = (7,10))\n",
    "\n",
    "axis[0].imshow(np.squeeze(x[:, :, 10]), cmap=\"gray\")\n",
    "axis[1].imshow(np.squeeze(X_aug[:,:,10]), cmap=\"gray\")"
   ]
  },
  {
   "cell_type": "markdown",
   "metadata": {},
   "source": [
    "Rotate images"
   ]
  },
  {
   "cell_type": "code",
   "execution_count": 24,
   "metadata": {},
   "outputs": [],
   "source": [
    "# rotate\n",
    "def random_rotate3d(X_im, min_angle_xy, max_angle_xy, min_angle_xz, max_angle_xz, min_angle_yz, max_angle_yz):\n",
    "    angle_xy = np.random.uniform(min_angle_xy, max_angle_xy)\n",
    "    angle_xz = np.random.uniform(min_angle_xz, max_angle_xz)\n",
    "    angle_yz = np.random.uniform(min_angle_yz, max_angle_yz)\n",
    "    rotation_axis = np.random.choice([0,1,2])\n",
    "    if(rotation_axis == 0):\n",
    "        X_im = ndimage.rotate(X_im, angle = angle_xy, axes = (0,1), mode = \"nearest\", reshape = False, order = 3)\n",
    "    if(rotation_axis == 1):\n",
    "        X_im = ndimage.rotate(X_im, angle = angle_xz, axes = (0,2), mode = \"nearest\", reshape = False, order = 3)\n",
    "    if(rotation_axis == 2):\n",
    "        X_im = ndimage.rotate(X_im, angle = angle_yz, axes = (1,2), mode = \"nearest\", reshape = False, order = 3)\n",
    "    return X_im"
   ]
  },
  {
   "cell_type": "code",
   "execution_count": 294,
   "metadata": {},
   "outputs": [
    {
     "data": {
      "text/plain": [
       "<matplotlib.image.AxesImage at 0x7f4b1865f080>"
      ]
     },
     "execution_count": 294,
     "metadata": {},
     "output_type": "execute_result"
    },
    {
     "data": {
      "image/png": "[encoded data removed]",
      "text/plain": [
       "<Figure size 504x720 with 2 Axes>"
      ]
     },
     "metadata": {
      "needs_background": "light"
     },
     "output_type": "display_data"
    }
   ],
   "source": [
    "x = X_train[0]\n",
    "X_aug = random_rotate3d(x, -20, 20, -10, 10, -5, 5)\n",
    "fig, axis= plt.subplots(1,2, figsize = (7,10))\n",
    "\n",
    "axis[0].imshow(np.squeeze(x[:, :, 10]), cmap=\"gray\")\n",
    "axis[1].imshow(np.squeeze(X_aug[:,:,10]), cmap=\"gray\")"
   ]
  },
  {
   "cell_type": "markdown",
   "metadata": {},
   "source": [
    "Shifting images"
   ]
  },
  {
   "cell_type": "code",
   "execution_count": 25,
   "metadata": {},
   "outputs": [],
   "source": [
    "# shifting\n",
    "def random_shift3d(X_im, min_shift_x, max_shift_x, min_shift_y, max_shift_y, min_shift_z, max_shift_z):\n",
    "    x_shift = np.random.uniform(min_shift_x, max_shift_x)\n",
    "    y_shift = np.random.uniform(min_shift_y, max_shift_y)\n",
    "    z_shift = np.random.uniform(min_shift_z, max_shift_z)\n",
    "    return ndimage.shift(X_im, [x_shift, y_shift, z_shift, 0], mode = \"nearest\", order = 0)"
   ]
  },
  {
   "cell_type": "code",
   "execution_count": 286,
   "metadata": {},
   "outputs": [
    {
     "data": {
      "text/plain": [
       "<matplotlib.image.AxesImage at 0x7f4a74173cc0>"
      ]
     },
     "execution_count": 286,
     "metadata": {},
     "output_type": "execute_result"
    },
    {
     "data": {
      "image/png": "[encoded data removed]",
      "text/plain": [
       "<Figure size 504x720 with 2 Axes>"
      ]
     },
     "metadata": {
      "needs_background": "light"
     },
     "output_type": "display_data"
    }
   ],
   "source": [
    "x = X_train[0]\n",
    "X_aug = random_shift3d(x, -10, 10, -10, 10, 0, 0)\n",
    "fig, axis= plt.subplots(1,2, figsize = (7,10))\n",
    "\n",
    "axis[0].imshow(np.squeeze(x[:, :, 10]), cmap=\"gray\")\n",
    "axis[1].imshow(np.squeeze(X_aug[:,:,10]), cmap=\"gray\")"
   ]
  },
  {
   "cell_type": "markdown",
   "metadata": {},
   "source": [
    "Flipping images"
   ]
  },
  {
   "cell_type": "code",
   "execution_count": 26,
   "metadata": {},
   "outputs": [],
   "source": [
    "def random_flip3d(X_im):\n",
    "    axis = np.random.choice([0,1])\n",
    "    if(axis == 0): # vertical flip\n",
    "        X_im = X_im[:,::-1,:,:]\n",
    "        # X_im = X_im[::-1,:,:,:] #horizontal\n",
    "        # X_im = np.asarray(X_im).swapaxes(0, 1)#left, right flip\n",
    "    return X_im"
   ]
  },
  {
   "cell_type": "code",
   "execution_count": 147,
   "metadata": {},
   "outputs": [
    {
     "data": {
      "text/plain": [
       "<matplotlib.image.AxesImage at 0x7f4bb79248d0>"
      ]
     },
     "execution_count": 147,
     "metadata": {},
     "output_type": "execute_result"
    },
    {
     "data": {
      "image/png": "[encoded data removed]",
      "text/plain": [
       "<Figure size 504x720 with 2 Axes>"
      ]
     },
     "metadata": {
      "needs_background": "light"
     },
     "output_type": "display_data"
    }
   ],
   "source": [
    "x = X_train[0]\n",
    "X_aug = random_flip3d(x)\n",
    "fig, axis= plt.subplots(1,2, figsize = (7,10))\n",
    "\n",
    "axis[0].imshow(np.squeeze(x[:, :, 10]), cmap=\"gray\")\n",
    "axis[1].imshow(np.squeeze(X_aug[:,:,10]), cmap=\"gray\")"
   ]
  },
  {
   "cell_type": "markdown",
   "metadata": {},
   "source": [
    "Gauss filter"
   ]
  },
  {
   "cell_type": "code",
   "execution_count": 27,
   "metadata": {},
   "outputs": [],
   "source": [
    "# Gauss filter (Glättung, Mittelwertberechnung per Pixel basierend auf umgebenden Pixeln ausgewählt mit Gaussfkt.)\n",
    "def random_gaussianfilter3d(X_im, sigma_max):\n",
    "    sigma = np.random.uniform(0, sigma_max)\n",
    "    return ndimage.gaussian_filter(X_im, sigma, mode = \"nearest\")"
   ]
  },
  {
   "cell_type": "code",
   "execution_count": 150,
   "metadata": {},
   "outputs": [
    {
     "data": {
      "text/plain": [
       "<matplotlib.image.AxesImage at 0x7f4bb777d8d0>"
      ]
     },
     "execution_count": 150,
     "metadata": {},
     "output_type": "execute_result"
    },
    {
     "data": {
      "image/png": "[encoded data removed]",
      "text/plain": [
       "<Figure size 504x720 with 2 Axes>"
      ]
     },
     "metadata": {
      "needs_background": "light"
     },
     "output_type": "display_data"
    }
   ],
   "source": [
    "x = X_train[0]\n",
    "X_aug = random_gaussianfilter3d(x, 0.2)\n",
    "fig, axis= plt.subplots(1,2, figsize = (7,10))\n",
    "\n",
    "axis[0].imshow(np.squeeze(x[:, :, 10]), cmap=\"gray\")\n",
    "axis[1].imshow(np.squeeze(X_aug[:,:,10]), cmap=\"gray\")"
   ]
  },
  {
   "cell_type": "code",
   "execution_count": 29,
   "metadata": {},
   "outputs": [],
   "source": [
    "@tf.function\n",
    "def augment_3d_many(volume):\n",
    "    \"\"\"Rotate the volume by a few degrees\"\"\"\n",
    "\n",
    "    def augment(volume):\n",
    "        if IMAGE_DIMENSION == (128, 112, 64):\n",
    "            #volume = random_zoom3d(volume, 0.8, 1.3)\n",
    "            volume = random_rotate3d(volume, -20, 20, -5, 5, -5, 5)\n",
    "            volume = random_shift3d(volume, -20, 20, -20, 20, 0, 0) #do not shift in z direction\n",
    "            #volume = random_flip3d(volume)\n",
    "            #volume = random_gaussianfilter3d(volume, 0.2)\n",
    "            \n",
    "        if IMAGE_DIMENSION == (96,84,30):\n",
    "            volume = random_zoom3d(volume, 0.90,1.1)\n",
    "            volume = random_rotate3d(volume, -20, 20, -5, 5, -5, 5)\n",
    "            volume = random_shift3d(volume, -5, 5, -5, 5, 0, 0)\n",
    "            volume = random_flip3d(volume)\n",
    "            volume = random_gaussianfilter3d(volume, 0.2)\n",
    "            \n",
    "        if IMAGE_DIMENSION == (64,56,20):\n",
    "            #volume = random_zoom3d(volume, 0.95,1.05) \n",
    "            volume = random_rotate3d(volume, -10, 10, -5, 5, -5, 5)\n",
    "            volume = random_shift3d(volume, -5, 5, -5, 5, 0, 0) #do not shift in z direction\n",
    "            #volume = random_flip3d(volume)\n",
    "            #volume = random_gaussianfilter3d(volume, 0.2)\n",
    "            \n",
    "        return volume\n",
    "    \n",
    "    volume_shape = volume.shape\n",
    "    augmented_volume = tf.numpy_function(augment, [volume], np.float64)\n",
    "    augmented_volume = tf.reshape(augmented_volume, volume_shape)\n",
    "    return augmented_volume"
   ]
  },
  {
   "cell_type": "code",
   "execution_count": 176,
   "metadata": {},
   "outputs": [],
   "source": [
    "@tf.function\n",
    "def augment_3d_one(volume):\n",
    "    \"\"\"Rotate the volume by a few degrees\"\"\"\n",
    "\n",
    "    def augment(volume):\n",
    "        rand = np.random.randint(0,6)\n",
    "        \n",
    "        if IMAGE_DIMENSION == (128, 112, 64):\n",
    "            if rand == 0:\n",
    "                volume = random_zoom3d(volume, 0.8, 1.3)\n",
    "            if rand == 1:\n",
    "                volume = random_rotate3d(volume, -20, 20, -5, 5, -5, 5)\n",
    "            if rand == 2:\n",
    "                volume = random_shift3d(volume, -20, 20, -20, 20, 0, 0) #do not shift in z direction\n",
    "            if rand == 3:\n",
    "                volume = random_flip3d(volume)\n",
    "            if rand == 4:\n",
    "                volume = random_gaussianfilter3d(volume, 0.2)\n",
    "            if rand == 5:\n",
    "                volume = volume\n",
    "            \n",
    "        if IMAGE_DIMENSION == (64,56,20):\n",
    "            if rand == 0:\n",
    "                volume = random_zoom3d(volume, 0.8,1.00) \n",
    "            if rand == 1:\n",
    "                volume = random_rotate3d(volume, -20, 20, -10, 10, 0, 0)\n",
    "            if rand == 2:\n",
    "                #volume = random_shift3d(volume, -5, 5, -5, 5, 0, 0) #do not shift in z direction\n",
    "                volume = random_shift3d(volume, -10, 10, -10, 10, 0, 0) #do not shift in z direction\n",
    "            if rand == 3:\n",
    "                volume = random_flip3d(volume)\n",
    "            if rand == 4:\n",
    "                volume = random_gaussianfilter3d(volume, 0.2)\n",
    "            if rand == 5:\n",
    "                volume = volume\n",
    "\n",
    "        return volume\n",
    "    \n",
    "    volume_shape = volume.shape\n",
    "    augmented_volume = tf.numpy_function(augment, [volume], np.float64)\n",
    "    augmented_volume = tf.reshape(augmented_volume, volume_shape)\n",
    "    return augmented_volume"
   ]
  },
  {
   "cell_type": "code",
   "execution_count": 201,
   "metadata": {},
   "outputs": [],
   "source": [
    "@tf.function\n",
    "def augment_3d_two(volume):\n",
    "    \"\"\"Rotate the volume by a few degrees\"\"\"\n",
    "\n",
    "    def augment(volume):\n",
    "        rand = np.random.randint(0,6, size = 2)\n",
    "            \n",
    "        if IMAGE_DIMENSION == (64,56,20):\n",
    "            if 0 in rand:\n",
    "                volume = volume\n",
    "                rand = np.array([0,0])\n",
    "            if 1 in rand:\n",
    "                volume = random_rotate3d(volume, -20, 20, -10, 10, 0, 0)\n",
    "            if 2 in rand:\n",
    "                #volume = random_shift3d(volume, -5, 5, -5, 5, 0, 0) #do not shift in z direction\n",
    "                volume = random_shift3d(volume, -10, 10, -10, 10, 0, 0) #do not shift in z direction\n",
    "            if 3 in rand:\n",
    "                volume = random_flip3d(volume)\n",
    "            if 4 in rand:\n",
    "                volume = random_gaussianfilter3d(volume, 0.2)\n",
    "            if 5 in rand:\n",
    "                volume = random_zoom3d(volume, 0.8,1.00) \n",
    "\n",
    "        return volume\n",
    "    \n",
    "    volume_shape = volume.shape\n",
    "    augmented_volume = tf.numpy_function(augment, [volume], np.float64)\n",
    "    augmented_volume = tf.reshape(augmented_volume, volume_shape)\n",
    "    return augmented_volume"
   ]
  },
  {
   "cell_type": "code",
   "execution_count": 260,
   "metadata": {},
   "outputs": [],
   "source": [
    "def train_preprocessing(volume, label):\n",
    "    volume = augment_3d_one(volume)\n",
    "    return volume, label"
   ]
  },
  {
   "cell_type": "markdown",
   "metadata": {},
   "source": [
    "### Define data loaders"
   ]
  },
  {
   "cell_type": "code",
   "execution_count": 191,
   "metadata": {},
   "outputs": [],
   "source": [
    "# Define data loaders.\n",
    "train_loader = tf.data.Dataset.from_tensor_slices((X_train, Y_train))\n",
    "validation_loader = tf.data.Dataset.from_tensor_slices((X_valid, Y_valid))"
   ]
  },
  {
   "cell_type": "code",
   "execution_count": 107,
   "metadata": {},
   "outputs": [
    {
     "data": {
      "text/plain": [
       "<TensorSliceDataset shapes: ((64, 56, 20, 1), (2,)), types: (tf.float64, tf.float32)>"
      ]
     },
     "execution_count": 107,
     "metadata": {},
     "output_type": "execute_result"
    }
   ],
   "source": [
    "train_loader"
   ]
  },
  {
   "cell_type": "code",
   "execution_count": 254,
   "metadata": {},
   "outputs": [],
   "source": [
    "batch_size = 4\n",
    "# Augment the on the fly during training.\n",
    "train_dataset = (\n",
    "    \n",
    "    train_loader.shuffle(len(X_train))\n",
    "    .map(train_preprocessing)\n",
    "    .batch(batch_size)\n",
    "    .prefetch(2)\n",
    ")\n",
    "# Only rescale.\n",
    "validation_dataset = (\n",
    "    validation_loader.shuffle(len(X_test))\n",
    "    .batch(batch_size)\n",
    "    .prefetch(2)\n",
    ")"
   ]
  },
  {
   "cell_type": "code",
   "execution_count": 193,
   "metadata": {},
   "outputs": [
    {
     "data": {
      "text/plain": [
       "<PrefetchDataset shapes: ((None, 64, 56, 20, 1), (None, 2)), types: (tf.float64, tf.float32)>"
      ]
     },
     "execution_count": 193,
     "metadata": {},
     "output_type": "execute_result"
    }
   ],
   "source": [
    "train_dataset"
   ]
  },
  {
   "cell_type": "code",
   "execution_count": 215,
   "metadata": {},
   "outputs": [
    {
     "name": "stdout",
     "output_type": "stream",
     "text": [
      "Dimension of the CT scan is: (64, 56, 20, 1)\n"
     ]
    },
    {
     "data": {
      "text/plain": [
       "<matplotlib.image.AxesImage at 0x7fe0883bac50>"
      ]
     },
     "execution_count": 215,
     "metadata": {},
     "output_type": "execute_result"
    },
    {
     "data": {
      "image/png": "[encoded data removed]",
      "text/plain": [
       "<Figure size 432x288 with 1 Axes>"
      ]
     },
     "metadata": {
      "needs_background": "light"
     },
     "output_type": "display_data"
    }
   ],
   "source": [
    "data = resampled_data.take(1)\n",
    "images, labels = list(data)[0]\n",
    "images = images.numpy()\n",
    "image = images[0]\n",
    "print(\"Dimension of the CT scan is:\", image.shape)\n",
    "plt.imshow(np.squeeze(image[:, :, 0]), cmap=\"gray\")"
   ]
  },
  {
   "cell_type": "code",
   "execution_count": 19,
   "metadata": {
    "scrolled": true
   },
   "outputs": [],
   "source": [
    "def plot_slices(num_rows, num_columns, width, height, data):\n",
    "    \"\"\"Plot a montage of 20 CT slices\"\"\"\n",
    "    data = np.rot90(np.array(data))\n",
    "    data = np.transpose(data)\n",
    "    data = np.reshape(data, (num_rows, num_columns, width, height))\n",
    "    rows_data, columns_data = data.shape[0], data.shape[1]\n",
    "    heights = [slc[0].shape[0] for slc in data]\n",
    "    widths = [slc.shape[1] for slc in data[0]]\n",
    "    fig_width = 12.0\n",
    "    fig_height = fig_width * sum(heights) / sum(widths)\n",
    "    f, axarr = plt.subplots(\n",
    "        rows_data,\n",
    "        columns_data,\n",
    "        figsize=(fig_width, fig_height),\n",
    "        gridspec_kw={\"height_ratios\": heights},\n",
    "    )\n",
    "    for i in range(rows_data):\n",
    "        for j in range(columns_data):\n",
    "            axarr[i, j].imshow(data[i][j], cmap=\"gray\")\n",
    "            axarr[i, j].axis(\"off\")\n",
    "    plt.subplots_adjust(wspace=0, hspace=0, left=0, right=1, bottom=0, top=1)\n",
    "    fig = plt.gcf()\n",
    "    plt.show()\n",
    "    fig.savefig('Rotatet slices', dpi = 100,bbox_inches='tight')"
   ]
  },
  {
   "cell_type": "code",
   "execution_count": null,
   "metadata": {},
   "outputs": [],
   "source": [
    "# Visualize montage of slices.\n",
    "# 4 rows and 10 columns for 100 slices of the CT scan.\n",
    "plot_slices(4, 10, 128, 112, image[:, :, :40])"
   ]
  },
  {
   "cell_type": "markdown",
   "metadata": {},
   "source": [
    "Balanced dataset with tf.data"
   ]
  },
  {
   "cell_type": "code",
   "execution_count": 258,
   "metadata": {},
   "outputs": [],
   "source": [
    "#bool_train_labels = Y_train[:,1] != 0\n",
    "bool_train_labels = Y_train != 0 #sigmoid\n",
    "pos_features = X_train[bool_train_labels]\n",
    "neg_features = X_train[~bool_train_labels]\n",
    "pos_labels = Y_train[bool_train_labels]\n",
    "neg_labels = Y_train[~bool_train_labels]"
   ]
  },
  {
   "cell_type": "code",
   "execution_count": 259,
   "metadata": {},
   "outputs": [],
   "source": [
    "BUFFER_SIZE = 100000\n",
    "\n",
    "def make_ds(features, labels):\n",
    "  ds = tf.data.Dataset.from_tensor_slices((features, labels))#.cache()\n",
    "  ds = ds.shuffle(BUFFER_SIZE).repeat()\n",
    "  return ds\n",
    "\n",
    "pos_ds = make_ds(pos_features, pos_labels)\n",
    "neg_ds = make_ds(neg_features, neg_labels)"
   ]
  },
  {
   "cell_type": "code",
   "execution_count": 261,
   "metadata": {},
   "outputs": [],
   "source": [
    "resampled_ds = tf.data.experimental.sample_from_datasets([pos_ds, neg_ds], weights=[0.5, 0.5])\n",
    "validation_loader = tf.data.Dataset.from_tensor_slices((X_test, Y_test))\n",
    "\n",
    "batch_size = 4\n",
    "# Augment the on the fly during training.\n",
    "resampled_data = (\n",
    "    \n",
    "    resampled_ds.shuffle(buffer_size = (len(pos_features)*2), reshuffle_each_iteration=True)\n",
    "    .map(train_preprocessing)\n",
    "    .batch(batch_size)\n",
    "    .prefetch(2)\n",
    ")\n",
    "\n",
    "# Only rescale.\n",
    "validation_dataset = (\n",
    "    validation_loader.shuffle(len(X_test))\n",
    "    .batch(batch_size)\n",
    "    .prefetch(2)\n",
    ")"
   ]
  },
  {
   "cell_type": "code",
   "execution_count": 262,
   "metadata": {},
   "outputs": [
    {
     "data": {
      "text/plain": [
       "141.0"
      ]
     },
     "execution_count": 262,
     "metadata": {},
     "output_type": "execute_result"
    }
   ],
   "source": [
    "pos = len(pos_features)\n",
    "neg = len(neg_features)\n",
    "total = pos + neg\n",
    "resampled_steps_per_epoch = np.ceil(2.0*pos/batch_size)\n",
    "resampled_steps_per_epoch"
   ]
  },
  {
   "cell_type": "code",
   "execution_count": 263,
   "metadata": {},
   "outputs": [
    {
     "name": "stdout",
     "output_type": "stream",
     "text": [
      "Weight for class 0: 1.62\n",
      "Weight for class 1: 0.72\n"
     ]
    }
   ],
   "source": [
    "weight_for_0 = (1 / neg)*(total)/2.0 \n",
    "weight_for_1 = (1 / pos)*(total)/2.0\n",
    "\n",
    "class_weight = {0: weight_for_0, 1: weight_for_1}\n",
    "\n",
    "print('Weight for class 0: {:.2f}'.format(weight_for_0))\n",
    "print('Weight for class 1: {:.2f}'.format(weight_for_1))"
   ]
  },
  {
   "cell_type": "markdown",
   "metadata": {},
   "source": [
    "### Train CNN"
   ]
  },
  {
   "cell_type": "code",
   "execution_count": 38,
   "metadata": {},
   "outputs": [],
   "source": [
    "w = IMAGE_DIMENSION[0]\n",
    "h = IMAGE_DIMENSION[1]\n",
    "d = IMAGE_DIMENSION[2]"
   ]
  },
  {
   "cell_type": "code",
   "execution_count": 33,
   "metadata": {},
   "outputs": [],
   "source": [
    "def get_model(width=w, height=h, depth=d):\n",
    "    \"\"\"Build a 3D convolutional neural network model.\"\"\"\n",
    "\n",
    "    inputs = keras.Input((width, height, depth, 1))\n",
    "\n",
    "    x = layers.Conv3D(filters=16, kernel_size=3, activation=\"relu\", padding = 'same')(inputs)\n",
    "    #x = layers.MaxPool3D(pool_size=2)(x)\n",
    "    x = layers.AveragePooling3D(pool_size = 2)(x)\n",
    "    x = layers.BatchNormalization()(x)\n",
    "\n",
    "    x = layers.Conv3D(filters=32, kernel_size=3, activation=\"relu\", padding = 'same')(x)\n",
    "    #x = layers.MaxPool3D(pool_size=2)(x)\n",
    "    x = layers.AveragePooling3D(pool_size = 2)(x)\n",
    "    x = layers.BatchNormalization()(x)\n",
    "    \n",
    "    x = layers.Conv3D(filters=64, kernel_size=3, activation=\"relu\", padding = 'same')(x)\n",
    "    #x = layers.MaxPool3D(pool_size=2)(x)\n",
    "    x = layers.AveragePooling3D(pool_size = 2)(x)\n",
    "    x = layers.BatchNormalization()(x)\n",
    "    \n",
    "    x = layers.Conv3D(filters=64, kernel_size=3, activation=\"relu\", padding = 'same')(x)\n",
    "    #x = layers.MaxPool3D(pool_size=2)(x)\n",
    "    x = layers.AveragePooling3D(pool_size = 2)(x)\n",
    "    x = layers.BatchNormalization()(x)\n",
    "\n",
    "    #x = layers.GlobalAveragePooling3D()(x)\n",
    "    x = layers.Flatten()(x)\n",
    "    x = layers.Dense(units=32, activation=\"relu\")(x)\n",
    "    x = layers.Dropout(0.2)(x) \n",
    "\n",
    "    outputs = layers.Dense(units=2, activation=\"softmax\")(x)\n",
    "\n",
    "    # Define the model.\n",
    "    model = keras.Model(inputs, outputs, name=\"3dcnn\")\n",
    "\n",
    "    return model"
   ]
  },
  {
   "cell_type": "code",
   "execution_count": 264,
   "metadata": {},
   "outputs": [],
   "source": [
    "def get_model(width=w, height=h, depth=d):\n",
    "    \"\"\"Build a 3D convolutional neural network model.\"\"\"\n",
    "\n",
    "    inputs = keras.Input((width, height, depth, 1))\n",
    "\n",
    "    x = layers.Conv3D(filters=16, kernel_size=3, activation=\"relu\", padding = 'same')(inputs)\n",
    "    x = layers.AveragePooling3D(pool_size = 2)(x)\n",
    "    x = layers.BatchNormalization()(x)\n",
    "\n",
    "    x = layers.Conv3D(filters=32, kernel_size=3, activation=\"relu\", padding = 'same')(x)\n",
    "    x = layers.AveragePooling3D(pool_size = 2)(x)\n",
    "    x = layers.BatchNormalization()(x)\n",
    "\n",
    "    x = layers.Flatten()(x)\n",
    "    x = layers.Dense(units=8, activation=\"relu\", kernel_regularizer=regularizers.l2(0.001))(x)\n",
    "    x = layers.Dropout(0.2)(x) \n",
    "\n",
    "    outputs = layers.Dense(units=2, activation=\"softmax\")(x)\n",
    "    #outputs = layers.Dense(units=1, activation=\"sigmoid\")(x)\n",
    "\n",
    "    # Define the model.\n",
    "    model = keras.Model(inputs, outputs, name=\"3dcnn\")\n",
    "\n",
    "    return model"
   ]
  },
  {
   "cell_type": "code",
   "execution_count": 267,
   "metadata": {},
   "outputs": [
    {
     "name": "stdout",
     "output_type": "stream",
     "text": [
      "Model: \"3dcnn\"\n",
      "_________________________________________________________________\n",
      "Layer (type)                 Output Shape              Param #   \n",
      "=================================================================\n",
      "input_51 (InputLayer)        [(None, 64, 56, 20, 1)]   0         \n",
      "_________________________________________________________________\n",
      "conv3d_121 (Conv3D)          (None, 64, 56, 20, 16)    448       \n",
      "_________________________________________________________________\n",
      "average_pooling3d_42 (Averag (None, 32, 28, 10, 16)    0         \n",
      "_________________________________________________________________\n",
      "batch_normalization_46 (Batc (None, 32, 28, 10, 16)    64        \n",
      "_________________________________________________________________\n",
      "conv3d_122 (Conv3D)          (None, 32, 28, 10, 32)    13856     \n",
      "_________________________________________________________________\n",
      "average_pooling3d_43 (Averag (None, 16, 14, 5, 32)     0         \n",
      "_________________________________________________________________\n",
      "batch_normalization_47 (Batc (None, 16, 14, 5, 32)     128       \n",
      "_________________________________________________________________\n",
      "flatten_11 (Flatten)         (None, 35840)             0         \n",
      "_________________________________________________________________\n",
      "dense_50 (Dense)             (None, 8)                 286728    \n",
      "_________________________________________________________________\n",
      "dropout_13 (Dropout)         (None, 8)                 0         \n",
      "_________________________________________________________________\n",
      "dense_51 (Dense)             (None, 1)                 9         \n",
      "=================================================================\n",
      "Total params: 301,233\n",
      "Trainable params: 301,137\n",
      "Non-trainable params: 96\n",
      "_________________________________________________________________\n"
     ]
    }
   ],
   "source": [
    "# Build model softmax\n",
    "model = get_model(width=w, height=h, depth=d)\n",
    "#model.load_weights(initial_weights)\n",
    "model.summary()"
   ]
  },
  {
   "cell_type": "code",
   "execution_count": 268,
   "metadata": {},
   "outputs": [],
   "source": [
    "### define metrics\n",
    "metrics = [\n",
    "      keras.metrics.BinaryAccuracy(name='accuracy'),\n",
    "      keras.metrics.AUC(name='auc')]\n",
    "\n",
    "### prepare files for logging\n",
    "if os.path.exists('results.csv'):\n",
    "    os.remove('results.csv')\n",
    "    \n",
    "shutil.rmtree('History')\n",
    "os.makedirs('History')\n",
    "    \n",
    "filepath = 'History/model.epoch{epoch:02d}.hdf5'\n",
    "    \n",
    "### define callback_list\n",
    "callback_list = [\n",
    "    keras.callbacks.ModelCheckpoint(filepath=filepath, save_freq='epoch', verbose=1), \n",
    "    keras.callbacks.CSVLogger('results.csv')]\n",
    "    \n",
    "model.compile(#loss = \"categorical_crossentropy\",\n",
    "              loss = \"binary_crossentropy\",\n",
    "              #optimizer=keras.optimizers.Adam(learning_rate = 0.00001),\n",
    "              optimizer = keras.optimizers.RMSprop(learning_rate = 0.00001),\n",
    "              metrics = metrics)"
   ]
  },
  {
   "cell_type": "markdown",
   "metadata": {},
   "source": [
    "### Balanced model"
   ]
  },
  {
   "cell_type": "code",
   "execution_count": 269,
   "metadata": {},
   "outputs": [
    {
     "name": "stdout",
     "output_type": "stream",
     "text": [
      "Epoch 1/100\n",
      "141/141 [==============================] - 7s 39ms/step - loss: 0.9194 - accuracy: 0.4394 - auc: 0.4457 - val_loss: 0.7453 - val_accuracy: 0.3069 - val_auc: 0.5756\n",
      "\n",
      "Epoch 00001: saving model to History/model.epoch01.hdf5\n",
      "Epoch 2/100\n",
      "141/141 [==============================] - 5s 38ms/step - loss: 0.7797 - accuracy: 0.5051 - auc: 0.5526 - val_loss: 0.8273 - val_accuracy: 0.3069 - val_auc: 0.5311\n",
      "\n",
      "Epoch 00002: saving model to History/model.epoch02.hdf5\n",
      "Epoch 3/100\n",
      "141/141 [==============================] - 5s 38ms/step - loss: 0.7711 - accuracy: 0.4842 - auc: 0.5452 - val_loss: 0.7763 - val_accuracy: 0.3069 - val_auc: 0.5680\n",
      "\n",
      "Epoch 00003: saving model to History/model.epoch03.hdf5\n",
      "Epoch 4/100\n",
      "141/141 [==============================] - 5s 36ms/step - loss: 0.7531 - accuracy: 0.5188 - auc: 0.5822 - val_loss: 0.8658 - val_accuracy: 0.3069 - val_auc: 0.5332\n",
      "\n",
      "Epoch 00004: saving model to History/model.epoch04.hdf5\n",
      "Epoch 5/100\n",
      "141/141 [==============================] - 5s 37ms/step - loss: 0.7578 - accuracy: 0.4958 - auc: 0.5742 - val_loss: 0.7984 - val_accuracy: 0.3267 - val_auc: 0.5129\n",
      "\n",
      "Epoch 00005: saving model to History/model.epoch05.hdf5\n",
      "Epoch 6/100\n",
      "141/141 [==============================] - 5s 39ms/step - loss: 0.7372 - accuracy: 0.4810 - auc: 0.5891 - val_loss: 0.9272 - val_accuracy: 0.3267 - val_auc: 0.5205\n",
      "\n",
      "Epoch 00006: saving model to History/model.epoch06.hdf5\n",
      "Epoch 7/100\n",
      "141/141 [==============================] - 5s 39ms/step - loss: 0.7200 - accuracy: 0.5035 - auc: 0.6236 - val_loss: 0.8428 - val_accuracy: 0.3465 - val_auc: 0.5578\n",
      "\n",
      "Epoch 00007: saving model to History/model.epoch07.hdf5\n",
      "Epoch 8/100\n",
      "141/141 [==============================] - 5s 39ms/step - loss: 0.7085 - accuracy: 0.5249 - auc: 0.6432 - val_loss: 0.8129 - val_accuracy: 0.3564 - val_auc: 0.5120\n",
      "\n",
      "Epoch 00008: saving model to History/model.epoch08.hdf5\n",
      "Epoch 9/100\n",
      "141/141 [==============================] - 5s 38ms/step - loss: 0.6892 - accuracy: 0.5421 - auc: 0.6717 - val_loss: 0.7551 - val_accuracy: 0.3762 - val_auc: 0.5366\n",
      "\n",
      "Epoch 00009: saving model to History/model.epoch09.hdf5\n",
      "Epoch 10/100\n",
      "141/141 [==============================] - 5s 38ms/step - loss: 0.6917 - accuracy: 0.5329 - auc: 0.6812 - val_loss: 0.9394 - val_accuracy: 0.3366 - val_auc: 0.5426\n",
      "\n",
      "Epoch 00010: saving model to History/model.epoch10.hdf5\n",
      "Epoch 11/100\n",
      "141/141 [==============================] - 5s 37ms/step - loss: 0.6979 - accuracy: 0.5010 - auc: 0.6706 - val_loss: 0.7325 - val_accuracy: 0.3465 - val_auc: 0.5507\n",
      "\n",
      "Epoch 00011: saving model to History/model.epoch11.hdf5\n",
      "Epoch 12/100\n",
      "141/141 [==============================] - 6s 40ms/step - loss: 0.6902 - accuracy: 0.5371 - auc: 0.6672 - val_loss: 0.8153 - val_accuracy: 0.3762 - val_auc: 0.5424\n",
      "\n",
      "Epoch 00012: saving model to History/model.epoch12.hdf5\n",
      "Epoch 13/100\n",
      "141/141 [==============================] - 5s 34ms/step - loss: 0.6708 - accuracy: 0.5746 - auc: 0.6874 - val_loss: 1.1562 - val_accuracy: 0.3267 - val_auc: 0.5668\n",
      "\n",
      "Epoch 00013: saving model to History/model.epoch13.hdf5\n",
      "Epoch 14/100\n",
      "141/141 [==============================] - 5s 37ms/step - loss: 0.6587 - accuracy: 0.5388 - auc: 0.7096 - val_loss: 1.0012 - val_accuracy: 0.3663 - val_auc: 0.5866\n",
      "\n",
      "Epoch 00014: saving model to History/model.epoch14.hdf5\n",
      "Epoch 15/100\n",
      "141/141 [==============================] - 5s 37ms/step - loss: 0.6546 - accuracy: 0.5625 - auc: 0.7191 - val_loss: 0.7953 - val_accuracy: 0.3960 - val_auc: 0.5438\n",
      "\n",
      "Epoch 00015: saving model to History/model.epoch15.hdf5\n",
      "Epoch 16/100\n",
      "141/141 [==============================] - 5s 35ms/step - loss: 0.6534 - accuracy: 0.5257 - auc: 0.7265 - val_loss: 0.9320 - val_accuracy: 0.3762 - val_auc: 0.5364\n",
      "\n",
      "Epoch 00016: saving model to History/model.epoch16.hdf5\n",
      "Epoch 17/100\n",
      "141/141 [==============================] - 5s 38ms/step - loss: 0.6173 - accuracy: 0.5940 - auc: 0.7573 - val_loss: 0.8373 - val_accuracy: 0.3960 - val_auc: 0.5666\n",
      "\n",
      "Epoch 00017: saving model to History/model.epoch17.hdf5\n",
      "Epoch 18/100\n",
      "141/141 [==============================] - 5s 37ms/step - loss: 0.6495 - accuracy: 0.5615 - auc: 0.7234 - val_loss: 0.9522 - val_accuracy: 0.3663 - val_auc: 0.5491\n",
      "\n",
      "Epoch 00018: saving model to History/model.epoch18.hdf5\n",
      "Epoch 19/100\n",
      "141/141 [==============================] - 5s 37ms/step - loss: 0.6150 - accuracy: 0.5656 - auc: 0.7706 - val_loss: 0.8249 - val_accuracy: 0.4059 - val_auc: 0.5159\n",
      "\n",
      "Epoch 00019: saving model to History/model.epoch19.hdf5\n",
      "Epoch 20/100\n",
      "141/141 [==============================] - 5s 36ms/step - loss: 0.6509 - accuracy: 0.5624 - auc: 0.7164 - val_loss: 0.8713 - val_accuracy: 0.3960 - val_auc: 0.5442\n",
      "\n",
      "Epoch 00020: saving model to History/model.epoch20.hdf5\n",
      "Epoch 21/100\n",
      "141/141 [==============================] - 5s 34ms/step - loss: 0.6313 - accuracy: 0.5653 - auc: 0.7457 - val_loss: 0.9193 - val_accuracy: 0.3663 - val_auc: 0.5555\n",
      "\n",
      "Epoch 00021: saving model to History/model.epoch21.hdf5\n",
      "Epoch 22/100\n",
      "141/141 [==============================] - 5s 37ms/step - loss: 0.5977 - accuracy: 0.5874 - auc: 0.7900 - val_loss: 0.8412 - val_accuracy: 0.3762 - val_auc: 0.5309\n",
      "\n",
      "Epoch 00022: saving model to History/model.epoch22.hdf5\n",
      "Epoch 23/100\n",
      "141/141 [==============================] - 5s 37ms/step - loss: 0.6342 - accuracy: 0.5636 - auc: 0.7454 - val_loss: 0.9062 - val_accuracy: 0.3861 - val_auc: 0.5825\n",
      "\n",
      "Epoch 00023: saving model to History/model.epoch23.hdf5\n",
      "Epoch 24/100\n",
      "141/141 [==============================] - 5s 36ms/step - loss: 0.6510 - accuracy: 0.5815 - auc: 0.7103 - val_loss: 1.0165 - val_accuracy: 0.3564 - val_auc: 0.5636\n",
      "\n",
      "Epoch 00024: saving model to History/model.epoch24.hdf5\n",
      "Epoch 25/100\n",
      "141/141 [==============================] - 5s 37ms/step - loss: 0.6127 - accuracy: 0.5805 - auc: 0.7562 - val_loss: 0.8189 - val_accuracy: 0.4356 - val_auc: 0.5493\n",
      "\n",
      "Epoch 00025: saving model to History/model.epoch25.hdf5\n",
      "Epoch 26/100\n",
      "141/141 [==============================] - 5s 38ms/step - loss: 0.6296 - accuracy: 0.5797 - auc: 0.7434 - val_loss: 0.7457 - val_accuracy: 0.5347 - val_auc: 0.5588\n",
      "\n",
      "Epoch 00026: saving model to History/model.epoch26.hdf5\n",
      "Epoch 27/100\n",
      "141/141 [==============================] - 5s 36ms/step - loss: 0.5983 - accuracy: 0.5845 - auc: 0.7741 - val_loss: 0.7409 - val_accuracy: 0.5050 - val_auc: 0.6104\n",
      "\n",
      "Epoch 00027: saving model to History/model.epoch27.hdf5\n",
      "Epoch 28/100\n",
      "141/141 [==============================] - 5s 36ms/step - loss: 0.5723 - accuracy: 0.6475 - auc: 0.8103 - val_loss: 0.9177 - val_accuracy: 0.4059 - val_auc: 0.6058\n",
      "\n",
      "Epoch 00028: saving model to History/model.epoch28.hdf5\n",
      "Epoch 29/100\n",
      "141/141 [==============================] - 5s 36ms/step - loss: 0.5903 - accuracy: 0.6139 - auc: 0.7902 - val_loss: 0.8574 - val_accuracy: 0.4257 - val_auc: 0.6078\n",
      "\n",
      "Epoch 00029: saving model to History/model.epoch29.hdf5\n",
      "Epoch 30/100\n",
      "141/141 [==============================] - 5s 35ms/step - loss: 0.6274 - accuracy: 0.5558 - auc: 0.7583 - val_loss: 0.8553 - val_accuracy: 0.4158 - val_auc: 0.5929\n",
      "\n",
      "Epoch 00030: saving model to History/model.epoch30.hdf5\n",
      "Epoch 31/100\n",
      "141/141 [==============================] - 5s 36ms/step - loss: 0.5902 - accuracy: 0.6238 - auc: 0.7941 - val_loss: 0.8662 - val_accuracy: 0.4059 - val_auc: 0.5806\n",
      "\n",
      "Epoch 00031: saving model to History/model.epoch31.hdf5\n",
      "Epoch 32/100\n",
      "141/141 [==============================] - 5s 38ms/step - loss: 0.5967 - accuracy: 0.5766 - auc: 0.7763 - val_loss: 0.9928 - val_accuracy: 0.3861 - val_auc: 0.5788\n",
      "\n",
      "Epoch 00032: saving model to History/model.epoch32.hdf5\n",
      "Epoch 33/100\n",
      "141/141 [==============================] - 5s 35ms/step - loss: 0.6013 - accuracy: 0.5578 - auc: 0.7908 - val_loss: 0.7640 - val_accuracy: 0.4851 - val_auc: 0.5774\n",
      "\n",
      "Epoch 00033: saving model to History/model.epoch33.hdf5\n",
      "Epoch 34/100\n",
      "141/141 [==============================] - 5s 36ms/step - loss: 0.5655 - accuracy: 0.6371 - auc: 0.8202 - val_loss: 0.9238 - val_accuracy: 0.4059 - val_auc: 0.5853\n",
      "\n",
      "Epoch 00034: saving model to History/model.epoch34.hdf5\n",
      "Epoch 35/100\n",
      "141/141 [==============================] - 5s 38ms/step - loss: 0.5279 - accuracy: 0.6319 - auc: 0.8409 - val_loss: 0.7995 - val_accuracy: 0.4554 - val_auc: 0.5855\n",
      "\n",
      "Epoch 00035: saving model to History/model.epoch35.hdf5\n",
      "Epoch 36/100\n",
      "141/141 [==============================] - 5s 36ms/step - loss: 0.5652 - accuracy: 0.6184 - auc: 0.8230 - val_loss: 1.0423 - val_accuracy: 0.4158 - val_auc: 0.6065\n",
      "\n",
      "Epoch 00036: saving model to History/model.epoch36.hdf5\n",
      "Epoch 37/100\n",
      "141/141 [==============================] - 5s 37ms/step - loss: 0.5366 - accuracy: 0.6615 - auc: 0.8400 - val_loss: 0.8079 - val_accuracy: 0.4653 - val_auc: 0.5786\n",
      "\n",
      "Epoch 00037: saving model to History/model.epoch37.hdf5\n",
      "Epoch 38/100\n",
      "141/141 [==============================] - 5s 36ms/step - loss: 0.5455 - accuracy: 0.6353 - auc: 0.8394 - val_loss: 1.0188 - val_accuracy: 0.4257 - val_auc: 0.6129\n",
      "\n",
      "Epoch 00038: saving model to History/model.epoch38.hdf5\n",
      "Epoch 39/100\n",
      "141/141 [==============================] - 5s 37ms/step - loss: 0.5401 - accuracy: 0.6362 - auc: 0.8383 - val_loss: 0.8206 - val_accuracy: 0.4455 - val_auc: 0.5922\n",
      "\n",
      "Epoch 00039: saving model to History/model.epoch39.hdf5\n",
      "Epoch 40/100\n",
      "141/141 [==============================] - 5s 37ms/step - loss: 0.5430 - accuracy: 0.6784 - auc: 0.8352 - val_loss: 0.7850 - val_accuracy: 0.4752 - val_auc: 0.6088\n",
      "\n",
      "Epoch 00040: saving model to History/model.epoch40.hdf5\n",
      "Epoch 41/100\n",
      "141/141 [==============================] - 5s 36ms/step - loss: 0.5753 - accuracy: 0.6249 - auc: 0.7967 - val_loss: 0.8001 - val_accuracy: 0.4851 - val_auc: 0.5984\n",
      "\n",
      "Epoch 00041: saving model to History/model.epoch41.hdf5\n",
      "Epoch 42/100\n",
      "141/141 [==============================] - 5s 36ms/step - loss: 0.5621 - accuracy: 0.6391 - auc: 0.8248 - val_loss: 0.8179 - val_accuracy: 0.4752 - val_auc: 0.5979\n",
      "\n",
      "Epoch 00042: saving model to History/model.epoch42.hdf5\n",
      "Epoch 43/100\n",
      "141/141 [==============================] - 5s 38ms/step - loss: 0.5421 - accuracy: 0.6577 - auc: 0.8391 - val_loss: 0.8551 - val_accuracy: 0.4356 - val_auc: 0.5908\n",
      "\n",
      "Epoch 00043: saving model to History/model.epoch43.hdf5\n",
      "Epoch 44/100\n",
      "141/141 [==============================] - 5s 36ms/step - loss: 0.5137 - accuracy: 0.6442 - auc: 0.8546 - val_loss: 0.8353 - val_accuracy: 0.4455 - val_auc: 0.6164\n",
      "\n",
      "Epoch 00044: saving model to History/model.epoch44.hdf5\n",
      "Epoch 45/100\n",
      "141/141 [==============================] - 5s 36ms/step - loss: 0.4999 - accuracy: 0.6941 - auc: 0.8768 - val_loss: 0.8137 - val_accuracy: 0.4752 - val_auc: 0.6048\n",
      "\n",
      "Epoch 00045: saving model to History/model.epoch45.hdf5\n",
      "Epoch 46/100\n",
      "141/141 [==============================] - 5s 36ms/step - loss: 0.5141 - accuracy: 0.6805 - auc: 0.8635 - val_loss: 0.7920 - val_accuracy: 0.5347 - val_auc: 0.5942\n",
      "\n",
      "Epoch 00046: saving model to History/model.epoch46.hdf5\n",
      "Epoch 47/100\n",
      "141/141 [==============================] - 5s 38ms/step - loss: 0.5562 - accuracy: 0.6210 - auc: 0.8257 - val_loss: 0.7627 - val_accuracy: 0.5446 - val_auc: 0.6051\n",
      "\n",
      "Epoch 00047: saving model to History/model.epoch47.hdf5\n",
      "Epoch 48/100\n",
      "141/141 [==============================] - 5s 39ms/step - loss: 0.5369 - accuracy: 0.6727 - auc: 0.8305 - val_loss: 0.8397 - val_accuracy: 0.4356 - val_auc: 0.5938\n",
      "\n",
      "Epoch 00048: saving model to History/model.epoch48.hdf5\n",
      "Epoch 49/100\n",
      "141/141 [==============================] - 5s 37ms/step - loss: 0.5023 - accuracy: 0.7242 - auc: 0.8677 - val_loss: 0.7357 - val_accuracy: 0.5545 - val_auc: 0.6101\n",
      "\n",
      "Epoch 00049: saving model to History/model.epoch49.hdf5\n",
      "Epoch 50/100\n",
      "141/141 [==============================] - 5s 35ms/step - loss: 0.5251 - accuracy: 0.6647 - auc: 0.8393 - val_loss: 0.7357 - val_accuracy: 0.5941 - val_auc: 0.6016\n",
      "\n",
      "Epoch 00050: saving model to History/model.epoch50.hdf5\n",
      "Epoch 51/100\n",
      "141/141 [==============================] - 5s 36ms/step - loss: 0.5280 - accuracy: 0.6665 - auc: 0.8417 - val_loss: 0.8457 - val_accuracy: 0.4950 - val_auc: 0.6090\n",
      "\n",
      "Epoch 00051: saving model to History/model.epoch51.hdf5\n",
      "Epoch 52/100\n",
      "141/141 [==============================] - 5s 35ms/step - loss: 0.5391 - accuracy: 0.6969 - auc: 0.8222 - val_loss: 0.7893 - val_accuracy: 0.5545 - val_auc: 0.6184\n",
      "\n",
      "Epoch 00052: saving model to History/model.epoch52.hdf5\n",
      "Epoch 53/100\n",
      "141/141 [==============================] - 5s 37ms/step - loss: 0.4981 - accuracy: 0.7161 - auc: 0.8746 - val_loss: 0.7825 - val_accuracy: 0.5347 - val_auc: 0.5940\n",
      "\n",
      "Epoch 00053: saving model to History/model.epoch53.hdf5\n",
      "Epoch 54/100\n",
      "141/141 [==============================] - 5s 36ms/step - loss: 0.4884 - accuracy: 0.6672 - auc: 0.8718 - val_loss: 0.7774 - val_accuracy: 0.5644 - val_auc: 0.5947\n",
      "\n",
      "Epoch 00054: saving model to History/model.epoch54.hdf5\n",
      "Epoch 55/100\n",
      "141/141 [==============================] - 5s 38ms/step - loss: 0.4998 - accuracy: 0.6731 - auc: 0.8661 - val_loss: 0.8667 - val_accuracy: 0.4950 - val_auc: 0.6253\n",
      "\n",
      "Epoch 00055: saving model to History/model.epoch55.hdf5\n",
      "Epoch 56/100\n",
      "141/141 [==============================] - 5s 35ms/step - loss: 0.4984 - accuracy: 0.6683 - auc: 0.8736 - val_loss: 0.7847 - val_accuracy: 0.5446 - val_auc: 0.6092\n",
      "\n",
      "Epoch 00056: saving model to History/model.epoch56.hdf5\n",
      "Epoch 57/100\n",
      "141/141 [==============================] - 5s 36ms/step - loss: 0.4642 - accuracy: 0.7344 - auc: 0.8939 - val_loss: 0.8048 - val_accuracy: 0.5050 - val_auc: 0.6120\n",
      "\n",
      "Epoch 00057: saving model to History/model.epoch57.hdf5\n",
      "Epoch 58/100\n",
      "141/141 [==============================] - 5s 39ms/step - loss: 0.4836 - accuracy: 0.7098 - auc: 0.8790 - val_loss: 0.9612 - val_accuracy: 0.4752 - val_auc: 0.6189\n",
      "\n",
      "Epoch 00058: saving model to History/model.epoch58.hdf5\n",
      "Epoch 59/100\n",
      "141/141 [==============================] - 5s 35ms/step - loss: 0.4788 - accuracy: 0.7062 - auc: 0.8826 - val_loss: 0.8340 - val_accuracy: 0.5050 - val_auc: 0.6173\n",
      "\n",
      "Epoch 00059: saving model to History/model.epoch59.hdf5\n",
      "Epoch 60/100\n",
      "141/141 [==============================] - 5s 37ms/step - loss: 0.4769 - accuracy: 0.7181 - auc: 0.8886 - val_loss: 0.9021 - val_accuracy: 0.5050 - val_auc: 0.6242\n",
      "\n",
      "Epoch 00060: saving model to History/model.epoch60.hdf5\n",
      "Epoch 61/100\n",
      "141/141 [==============================] - 6s 40ms/step - loss: 0.4947 - accuracy: 0.7119 - auc: 0.8672 - val_loss: 0.8846 - val_accuracy: 0.4950 - val_auc: 0.6228\n",
      "\n",
      "Epoch 00061: saving model to History/model.epoch61.hdf5\n",
      "Epoch 62/100\n",
      "141/141 [==============================] - 5s 37ms/step - loss: 0.4753 - accuracy: 0.6796 - auc: 0.8801 - val_loss: 0.9851 - val_accuracy: 0.4455 - val_auc: 0.6032\n",
      "\n",
      "Epoch 00062: saving model to History/model.epoch62.hdf5\n",
      "Epoch 63/100\n",
      "141/141 [==============================] - 5s 39ms/step - loss: 0.5110 - accuracy: 0.7085 - auc: 0.8564 - val_loss: 0.9191 - val_accuracy: 0.5050 - val_auc: 0.5873\n",
      "\n",
      "Epoch 00063: saving model to History/model.epoch63.hdf5\n"
     ]
    },
    {
     "ename": "KeyboardInterrupt",
     "evalue": "",
     "output_type": "error",
     "traceback": [
      "\u001b[0;31m---------------------------------------------------------------------------\u001b[0m",
      "\u001b[0;31mKeyboardInterrupt\u001b[0m                         Traceback (most recent call last)",
      "\u001b[0;32m<ipython-input-269-d1576fa26da4>\u001b[0m in \u001b[0;36m<module>\u001b[0;34m\u001b[0m\n\u001b[1;32m      6\u001b[0m     \u001b[0mverbose\u001b[0m\u001b[0;34m=\u001b[0m\u001b[0;36m1\u001b[0m\u001b[0;34m,\u001b[0m \u001b[0mcallbacks\u001b[0m\u001b[0;34m=\u001b[0m\u001b[0mcallback_list\u001b[0m\u001b[0;34m,\u001b[0m\u001b[0;34m\u001b[0m\u001b[0;34m\u001b[0m\u001b[0m\n\u001b[1;32m      7\u001b[0m     \u001b[0msteps_per_epoch\u001b[0m \u001b[0;34m=\u001b[0m \u001b[0mresampled_steps_per_epoch\u001b[0m\u001b[0;34m,\u001b[0m\u001b[0;34m\u001b[0m\u001b[0;34m\u001b[0m\u001b[0m\n\u001b[0;32m----> 8\u001b[0;31m     class_weight = class_weight)\n\u001b[0m",
      "\u001b[0;32m/usr/local/lib/python3.6/dist-packages/tensorflow/python/keras/engine/training.py\u001b[0m in \u001b[0;36mfit\u001b[0;34m(self, x, y, batch_size, epochs, verbose, callbacks, validation_split, validation_data, shuffle, class_weight, sample_weight, initial_epoch, steps_per_epoch, validation_steps, validation_batch_size, validation_freq, max_queue_size, workers, use_multiprocessing)\u001b[0m\n\u001b[1;32m   1143\u001b[0m           \u001b[0mepoch_logs\u001b[0m\u001b[0;34m.\u001b[0m\u001b[0mupdate\u001b[0m\u001b[0;34m(\u001b[0m\u001b[0mval_logs\u001b[0m\u001b[0;34m)\u001b[0m\u001b[0;34m\u001b[0m\u001b[0;34m\u001b[0m\u001b[0m\n\u001b[1;32m   1144\u001b[0m \u001b[0;34m\u001b[0m\u001b[0m\n\u001b[0;32m-> 1145\u001b[0;31m         \u001b[0mcallbacks\u001b[0m\u001b[0;34m.\u001b[0m\u001b[0mon_epoch_end\u001b[0m\u001b[0;34m(\u001b[0m\u001b[0mepoch\u001b[0m\u001b[0;34m,\u001b[0m \u001b[0mepoch_logs\u001b[0m\u001b[0;34m)\u001b[0m\u001b[0;34m\u001b[0m\u001b[0;34m\u001b[0m\u001b[0m\n\u001b[0m\u001b[1;32m   1146\u001b[0m         \u001b[0mtraining_logs\u001b[0m \u001b[0;34m=\u001b[0m \u001b[0mepoch_logs\u001b[0m\u001b[0;34m\u001b[0m\u001b[0;34m\u001b[0m\u001b[0m\n\u001b[1;32m   1147\u001b[0m         \u001b[0;32mif\u001b[0m \u001b[0mself\u001b[0m\u001b[0;34m.\u001b[0m\u001b[0mstop_training\u001b[0m\u001b[0;34m:\u001b[0m\u001b[0;34m\u001b[0m\u001b[0;34m\u001b[0m\u001b[0m\n",
      "\u001b[0;32m/usr/local/lib/python3.6/dist-packages/tensorflow/python/keras/callbacks.py\u001b[0m in \u001b[0;36mon_epoch_end\u001b[0;34m(self, epoch, logs)\u001b[0m\n\u001b[1;32m    426\u001b[0m     \u001b[0;32mfor\u001b[0m \u001b[0mcallback\u001b[0m \u001b[0;32min\u001b[0m \u001b[0mself\u001b[0m\u001b[0;34m.\u001b[0m\u001b[0mcallbacks\u001b[0m\u001b[0;34m:\u001b[0m\u001b[0;34m\u001b[0m\u001b[0;34m\u001b[0m\u001b[0m\n\u001b[1;32m    427\u001b[0m       \u001b[0;32mif\u001b[0m \u001b[0mgetattr\u001b[0m\u001b[0;34m(\u001b[0m\u001b[0mcallback\u001b[0m\u001b[0;34m,\u001b[0m \u001b[0;34m'_supports_tf_logs'\u001b[0m\u001b[0;34m,\u001b[0m \u001b[0;32mFalse\u001b[0m\u001b[0;34m)\u001b[0m\u001b[0;34m:\u001b[0m\u001b[0;34m\u001b[0m\u001b[0;34m\u001b[0m\u001b[0m\n\u001b[0;32m--> 428\u001b[0;31m         \u001b[0mcallback\u001b[0m\u001b[0;34m.\u001b[0m\u001b[0mon_epoch_end\u001b[0m\u001b[0;34m(\u001b[0m\u001b[0mepoch\u001b[0m\u001b[0;34m,\u001b[0m \u001b[0mlogs\u001b[0m\u001b[0;34m)\u001b[0m\u001b[0;34m\u001b[0m\u001b[0;34m\u001b[0m\u001b[0m\n\u001b[0m\u001b[1;32m    429\u001b[0m       \u001b[0;32melse\u001b[0m\u001b[0;34m:\u001b[0m\u001b[0;34m\u001b[0m\u001b[0;34m\u001b[0m\u001b[0m\n\u001b[1;32m    430\u001b[0m         \u001b[0;32mif\u001b[0m \u001b[0mnumpy_logs\u001b[0m \u001b[0;32mis\u001b[0m \u001b[0;32mNone\u001b[0m\u001b[0;34m:\u001b[0m  \u001b[0;31m# Only convert once.\u001b[0m\u001b[0;34m\u001b[0m\u001b[0;34m\u001b[0m\u001b[0m\n",
      "\u001b[0;32m/usr/local/lib/python3.6/dist-packages/tensorflow/python/keras/callbacks.py\u001b[0m in \u001b[0;36mon_epoch_end\u001b[0;34m(self, epoch, logs)\u001b[0m\n\u001b[1;32m   1342\u001b[0m     \u001b[0;31m# pylint: disable=protected-access\u001b[0m\u001b[0;34m\u001b[0m\u001b[0;34m\u001b[0m\u001b[0;34m\u001b[0m\u001b[0m\n\u001b[1;32m   1343\u001b[0m     \u001b[0;32mif\u001b[0m \u001b[0mself\u001b[0m\u001b[0;34m.\u001b[0m\u001b[0msave_freq\u001b[0m \u001b[0;34m==\u001b[0m \u001b[0;34m'epoch'\u001b[0m\u001b[0;34m:\u001b[0m\u001b[0;34m\u001b[0m\u001b[0;34m\u001b[0m\u001b[0m\n\u001b[0;32m-> 1344\u001b[0;31m       \u001b[0mself\u001b[0m\u001b[0;34m.\u001b[0m\u001b[0m_save_model\u001b[0m\u001b[0;34m(\u001b[0m\u001b[0mepoch\u001b[0m\u001b[0;34m=\u001b[0m\u001b[0mepoch\u001b[0m\u001b[0;34m,\u001b[0m \u001b[0mlogs\u001b[0m\u001b[0;34m=\u001b[0m\u001b[0mlogs\u001b[0m\u001b[0;34m)\u001b[0m\u001b[0;34m\u001b[0m\u001b[0;34m\u001b[0m\u001b[0m\n\u001b[0m\u001b[1;32m   1345\u001b[0m \u001b[0;34m\u001b[0m\u001b[0m\n\u001b[1;32m   1346\u001b[0m   \u001b[0;32mdef\u001b[0m \u001b[0m_should_save_on_batch\u001b[0m\u001b[0;34m(\u001b[0m\u001b[0mself\u001b[0m\u001b[0;34m,\u001b[0m \u001b[0mbatch\u001b[0m\u001b[0;34m)\u001b[0m\u001b[0;34m:\u001b[0m\u001b[0;34m\u001b[0m\u001b[0;34m\u001b[0m\u001b[0m\n",
      "\u001b[0;32m/usr/local/lib/python3.6/dist-packages/tensorflow/python/keras/callbacks.py\u001b[0m in \u001b[0;36m_save_model\u001b[0;34m(self, epoch, logs)\u001b[0m\n\u001b[1;32m   1406\u001b[0m                 filepath, overwrite=True, options=self._options)\n\u001b[1;32m   1407\u001b[0m           \u001b[0;32melse\u001b[0m\u001b[0;34m:\u001b[0m\u001b[0;34m\u001b[0m\u001b[0;34m\u001b[0m\u001b[0m\n\u001b[0;32m-> 1408\u001b[0;31m             \u001b[0mself\u001b[0m\u001b[0;34m.\u001b[0m\u001b[0mmodel\u001b[0m\u001b[0;34m.\u001b[0m\u001b[0msave\u001b[0m\u001b[0;34m(\u001b[0m\u001b[0mfilepath\u001b[0m\u001b[0;34m,\u001b[0m \u001b[0moverwrite\u001b[0m\u001b[0;34m=\u001b[0m\u001b[0;32mTrue\u001b[0m\u001b[0;34m,\u001b[0m \u001b[0moptions\u001b[0m\u001b[0;34m=\u001b[0m\u001b[0mself\u001b[0m\u001b[0;34m.\u001b[0m\u001b[0m_options\u001b[0m\u001b[0;34m)\u001b[0m\u001b[0;34m\u001b[0m\u001b[0;34m\u001b[0m\u001b[0m\n\u001b[0m\u001b[1;32m   1409\u001b[0m \u001b[0;34m\u001b[0m\u001b[0m\n\u001b[1;32m   1410\u001b[0m         \u001b[0mself\u001b[0m\u001b[0;34m.\u001b[0m\u001b[0m_maybe_remove_file\u001b[0m\u001b[0;34m(\u001b[0m\u001b[0;34m)\u001b[0m\u001b[0;34m\u001b[0m\u001b[0;34m\u001b[0m\u001b[0m\n",
      "\u001b[0;32m/usr/local/lib/python3.6/dist-packages/tensorflow/python/keras/engine/training.py\u001b[0m in \u001b[0;36msave\u001b[0;34m(self, filepath, overwrite, include_optimizer, save_format, signatures, options, save_traces)\u001b[0m\n\u001b[1;32m   2000\u001b[0m     \u001b[0;31m# pylint: enable=line-too-long\u001b[0m\u001b[0;34m\u001b[0m\u001b[0;34m\u001b[0m\u001b[0;34m\u001b[0m\u001b[0m\n\u001b[1;32m   2001\u001b[0m     save.save_model(self, filepath, overwrite, include_optimizer, save_format,\n\u001b[0;32m-> 2002\u001b[0;31m                     signatures, options, save_traces)\n\u001b[0m\u001b[1;32m   2003\u001b[0m \u001b[0;34m\u001b[0m\u001b[0m\n\u001b[1;32m   2004\u001b[0m   def save_weights(self,\n",
      "\u001b[0;32m/usr/local/lib/python3.6/dist-packages/tensorflow/python/keras/saving/save.py\u001b[0m in \u001b[0;36msave_model\u001b[0;34m(model, filepath, overwrite, include_optimizer, save_format, signatures, options, save_traces)\u001b[0m\n\u001b[1;32m    152\u001b[0m           'or using `save_weights`.')\n\u001b[1;32m    153\u001b[0m     hdf5_format.save_model_to_hdf5(\n\u001b[0;32m--> 154\u001b[0;31m         model, filepath, overwrite, include_optimizer)\n\u001b[0m\u001b[1;32m    155\u001b[0m   \u001b[0;32melse\u001b[0m\u001b[0;34m:\u001b[0m\u001b[0;34m\u001b[0m\u001b[0;34m\u001b[0m\u001b[0m\n\u001b[1;32m    156\u001b[0m     saved_model_save.save(model, filepath, overwrite, include_optimizer,\n",
      "\u001b[0;32m/usr/local/lib/python3.6/dist-packages/tensorflow/python/keras/saving/hdf5_format.py\u001b[0m in \u001b[0;36msave_model_to_hdf5\u001b[0;34m(model, filepath, overwrite, include_optimizer)\u001b[0m\n\u001b[1;32m    129\u001b[0m     if (include_optimizer and model.optimizer and\n\u001b[1;32m    130\u001b[0m         not isinstance(model.optimizer, optimizer_v1.TFOptimizer)):\n\u001b[0;32m--> 131\u001b[0;31m       \u001b[0msave_optimizer_weights_to_hdf5_group\u001b[0m\u001b[0;34m(\u001b[0m\u001b[0mf\u001b[0m\u001b[0;34m,\u001b[0m \u001b[0mmodel\u001b[0m\u001b[0;34m.\u001b[0m\u001b[0moptimizer\u001b[0m\u001b[0;34m)\u001b[0m\u001b[0;34m\u001b[0m\u001b[0;34m\u001b[0m\u001b[0m\n\u001b[0m\u001b[1;32m    132\u001b[0m \u001b[0;34m\u001b[0m\u001b[0m\n\u001b[1;32m    133\u001b[0m     \u001b[0mf\u001b[0m\u001b[0;34m.\u001b[0m\u001b[0mflush\u001b[0m\u001b[0;34m(\u001b[0m\u001b[0;34m)\u001b[0m\u001b[0;34m\u001b[0m\u001b[0;34m\u001b[0m\u001b[0m\n",
      "\u001b[0;32m/usr/local/lib/python3.6/dist-packages/tensorflow/python/keras/saving/hdf5_format.py\u001b[0m in \u001b[0;36msave_optimizer_weights_to_hdf5_group\u001b[0;34m(hdf5_group, optimizer)\u001b[0m\n\u001b[1;32m    591\u001b[0m     \u001b[0mweight_names\u001b[0m \u001b[0;34m=\u001b[0m \u001b[0;34m[\u001b[0m\u001b[0mstr\u001b[0m\u001b[0;34m(\u001b[0m\u001b[0mw\u001b[0m\u001b[0;34m.\u001b[0m\u001b[0mname\u001b[0m\u001b[0;34m)\u001b[0m\u001b[0;34m.\u001b[0m\u001b[0mencode\u001b[0m\u001b[0;34m(\u001b[0m\u001b[0;34m'utf8'\u001b[0m\u001b[0;34m)\u001b[0m \u001b[0;32mfor\u001b[0m \u001b[0mw\u001b[0m \u001b[0;32min\u001b[0m \u001b[0msymbolic_weights\u001b[0m\u001b[0;34m]\u001b[0m\u001b[0;34m\u001b[0m\u001b[0;34m\u001b[0m\u001b[0m\n\u001b[1;32m    592\u001b[0m     \u001b[0msave_attributes_to_hdf5_group\u001b[0m\u001b[0;34m(\u001b[0m\u001b[0mweights_group\u001b[0m\u001b[0;34m,\u001b[0m \u001b[0;34m'weight_names'\u001b[0m\u001b[0;34m,\u001b[0m \u001b[0mweight_names\u001b[0m\u001b[0;34m)\u001b[0m\u001b[0;34m\u001b[0m\u001b[0;34m\u001b[0m\u001b[0m\n\u001b[0;32m--> 593\u001b[0;31m     \u001b[0mweight_values\u001b[0m \u001b[0;34m=\u001b[0m \u001b[0mK\u001b[0m\u001b[0;34m.\u001b[0m\u001b[0mbatch_get_value\u001b[0m\u001b[0;34m(\u001b[0m\u001b[0msymbolic_weights\u001b[0m\u001b[0;34m)\u001b[0m\u001b[0;34m\u001b[0m\u001b[0;34m\u001b[0m\u001b[0m\n\u001b[0m\u001b[1;32m    594\u001b[0m     \u001b[0;32mfor\u001b[0m \u001b[0mname\u001b[0m\u001b[0;34m,\u001b[0m \u001b[0mval\u001b[0m \u001b[0;32min\u001b[0m \u001b[0mzip\u001b[0m\u001b[0;34m(\u001b[0m\u001b[0mweight_names\u001b[0m\u001b[0;34m,\u001b[0m \u001b[0mweight_values\u001b[0m\u001b[0;34m)\u001b[0m\u001b[0;34m:\u001b[0m\u001b[0;34m\u001b[0m\u001b[0;34m\u001b[0m\u001b[0m\n\u001b[1;32m    595\u001b[0m       param_dset = weights_group.create_dataset(\n",
      "\u001b[0;32m/usr/local/lib/python3.6/dist-packages/tensorflow/python/util/dispatch.py\u001b[0m in \u001b[0;36mwrapper\u001b[0;34m(*args, **kwargs)\u001b[0m\n\u001b[1;32m    199\u001b[0m     \u001b[0;34m\"\"\"Call target, and fall back on dispatchers if there is a TypeError.\"\"\"\u001b[0m\u001b[0;34m\u001b[0m\u001b[0;34m\u001b[0m\u001b[0m\n\u001b[1;32m    200\u001b[0m     \u001b[0;32mtry\u001b[0m\u001b[0;34m:\u001b[0m\u001b[0;34m\u001b[0m\u001b[0;34m\u001b[0m\u001b[0m\n\u001b[0;32m--> 201\u001b[0;31m       \u001b[0;32mreturn\u001b[0m \u001b[0mtarget\u001b[0m\u001b[0;34m(\u001b[0m\u001b[0;34m*\u001b[0m\u001b[0margs\u001b[0m\u001b[0;34m,\u001b[0m \u001b[0;34m**\u001b[0m\u001b[0mkwargs\u001b[0m\u001b[0;34m)\u001b[0m\u001b[0;34m\u001b[0m\u001b[0;34m\u001b[0m\u001b[0m\n\u001b[0m\u001b[1;32m    202\u001b[0m     \u001b[0;32mexcept\u001b[0m \u001b[0;34m(\u001b[0m\u001b[0mTypeError\u001b[0m\u001b[0;34m,\u001b[0m \u001b[0mValueError\u001b[0m\u001b[0;34m)\u001b[0m\u001b[0;34m:\u001b[0m\u001b[0;34m\u001b[0m\u001b[0;34m\u001b[0m\u001b[0m\n\u001b[1;32m    203\u001b[0m       \u001b[0;31m# Note: convert_to_eager_tensor currently raises a ValueError, not a\u001b[0m\u001b[0;34m\u001b[0m\u001b[0;34m\u001b[0m\u001b[0;34m\u001b[0m\u001b[0m\n",
      "\u001b[0;32m/usr/local/lib/python3.6/dist-packages/tensorflow/python/keras/backend.py\u001b[0m in \u001b[0;36mbatch_get_value\u001b[0;34m(tensors)\u001b[0m\n\u001b[1;32m   3644\u001b[0m   \"\"\"\n\u001b[1;32m   3645\u001b[0m   \u001b[0;32mif\u001b[0m \u001b[0mcontext\u001b[0m\u001b[0;34m.\u001b[0m\u001b[0mexecuting_eagerly\u001b[0m\u001b[0;34m(\u001b[0m\u001b[0;34m)\u001b[0m\u001b[0;34m:\u001b[0m\u001b[0;34m\u001b[0m\u001b[0;34m\u001b[0m\u001b[0m\n\u001b[0;32m-> 3646\u001b[0;31m     \u001b[0;32mreturn\u001b[0m \u001b[0;34m[\u001b[0m\u001b[0mx\u001b[0m\u001b[0;34m.\u001b[0m\u001b[0mnumpy\u001b[0m\u001b[0;34m(\u001b[0m\u001b[0;34m)\u001b[0m \u001b[0;32mfor\u001b[0m \u001b[0mx\u001b[0m \u001b[0;32min\u001b[0m \u001b[0mtensors\u001b[0m\u001b[0;34m]\u001b[0m\u001b[0;34m\u001b[0m\u001b[0;34m\u001b[0m\u001b[0m\n\u001b[0m\u001b[1;32m   3647\u001b[0m   \u001b[0;32melif\u001b[0m \u001b[0mops\u001b[0m\u001b[0;34m.\u001b[0m\u001b[0minside_function\u001b[0m\u001b[0;34m(\u001b[0m\u001b[0;34m)\u001b[0m\u001b[0;34m:\u001b[0m  \u001b[0;31m# pylint: disable=protected-access\u001b[0m\u001b[0;34m\u001b[0m\u001b[0;34m\u001b[0m\u001b[0m\n\u001b[1;32m   3648\u001b[0m     \u001b[0;32mraise\u001b[0m \u001b[0mRuntimeError\u001b[0m\u001b[0;34m(\u001b[0m\u001b[0;34m'Cannot get value inside Tensorflow graph function.'\u001b[0m\u001b[0;34m)\u001b[0m\u001b[0;34m\u001b[0m\u001b[0;34m\u001b[0m\u001b[0m\n",
      "\u001b[0;32m/usr/local/lib/python3.6/dist-packages/tensorflow/python/keras/backend.py\u001b[0m in \u001b[0;36m<listcomp>\u001b[0;34m(.0)\u001b[0m\n\u001b[1;32m   3644\u001b[0m   \"\"\"\n\u001b[1;32m   3645\u001b[0m   \u001b[0;32mif\u001b[0m \u001b[0mcontext\u001b[0m\u001b[0;34m.\u001b[0m\u001b[0mexecuting_eagerly\u001b[0m\u001b[0;34m(\u001b[0m\u001b[0;34m)\u001b[0m\u001b[0;34m:\u001b[0m\u001b[0;34m\u001b[0m\u001b[0;34m\u001b[0m\u001b[0m\n\u001b[0;32m-> 3646\u001b[0;31m     \u001b[0;32mreturn\u001b[0m \u001b[0;34m[\u001b[0m\u001b[0mx\u001b[0m\u001b[0;34m.\u001b[0m\u001b[0mnumpy\u001b[0m\u001b[0;34m(\u001b[0m\u001b[0;34m)\u001b[0m \u001b[0;32mfor\u001b[0m \u001b[0mx\u001b[0m \u001b[0;32min\u001b[0m \u001b[0mtensors\u001b[0m\u001b[0;34m]\u001b[0m\u001b[0;34m\u001b[0m\u001b[0;34m\u001b[0m\u001b[0m\n\u001b[0m\u001b[1;32m   3647\u001b[0m   \u001b[0;32melif\u001b[0m \u001b[0mops\u001b[0m\u001b[0;34m.\u001b[0m\u001b[0minside_function\u001b[0m\u001b[0;34m(\u001b[0m\u001b[0;34m)\u001b[0m\u001b[0;34m:\u001b[0m  \u001b[0;31m# pylint: disable=protected-access\u001b[0m\u001b[0;34m\u001b[0m\u001b[0;34m\u001b[0m\u001b[0m\n\u001b[1;32m   3648\u001b[0m     \u001b[0;32mraise\u001b[0m \u001b[0mRuntimeError\u001b[0m\u001b[0;34m(\u001b[0m\u001b[0;34m'Cannot get value inside Tensorflow graph function.'\u001b[0m\u001b[0;34m)\u001b[0m\u001b[0;34m\u001b[0m\u001b[0;34m\u001b[0m\u001b[0m\n",
      "\u001b[0;32m/usr/local/lib/python3.6/dist-packages/tensorflow/python/ops/resource_variable_ops.py\u001b[0m in \u001b[0;36mnumpy\u001b[0;34m(self)\u001b[0m\n\u001b[1;32m    616\u001b[0m   \u001b[0;32mdef\u001b[0m \u001b[0mnumpy\u001b[0m\u001b[0;34m(\u001b[0m\u001b[0mself\u001b[0m\u001b[0;34m)\u001b[0m\u001b[0;34m:\u001b[0m\u001b[0;34m\u001b[0m\u001b[0;34m\u001b[0m\u001b[0m\n\u001b[1;32m    617\u001b[0m     \u001b[0;32mif\u001b[0m \u001b[0mcontext\u001b[0m\u001b[0;34m.\u001b[0m\u001b[0mexecuting_eagerly\u001b[0m\u001b[0;34m(\u001b[0m\u001b[0;34m)\u001b[0m\u001b[0;34m:\u001b[0m\u001b[0;34m\u001b[0m\u001b[0;34m\u001b[0m\u001b[0m\n\u001b[0;32m--> 618\u001b[0;31m       \u001b[0;32mreturn\u001b[0m \u001b[0mself\u001b[0m\u001b[0;34m.\u001b[0m\u001b[0mread_value\u001b[0m\u001b[0;34m(\u001b[0m\u001b[0;34m)\u001b[0m\u001b[0;34m.\u001b[0m\u001b[0mnumpy\u001b[0m\u001b[0;34m(\u001b[0m\u001b[0;34m)\u001b[0m\u001b[0;34m\u001b[0m\u001b[0;34m\u001b[0m\u001b[0m\n\u001b[0m\u001b[1;32m    619\u001b[0m     raise NotImplementedError(\n\u001b[1;32m    620\u001b[0m         \"numpy() is only available when eager execution is enabled.\")\n",
      "\u001b[0;32m/usr/local/lib/python3.6/dist-packages/tensorflow/python/framework/ops.py\u001b[0m in \u001b[0;36mnumpy\u001b[0;34m(self)\u001b[0m\n\u001b[1;32m   1069\u001b[0m     \"\"\"\n\u001b[1;32m   1070\u001b[0m     \u001b[0;31m# TODO(slebedev): Consider avoiding a copy for non-CPU or remote tensors.\u001b[0m\u001b[0;34m\u001b[0m\u001b[0;34m\u001b[0m\u001b[0;34m\u001b[0m\u001b[0m\n\u001b[0;32m-> 1071\u001b[0;31m     \u001b[0mmaybe_arr\u001b[0m \u001b[0;34m=\u001b[0m \u001b[0mself\u001b[0m\u001b[0;34m.\u001b[0m\u001b[0m_numpy\u001b[0m\u001b[0;34m(\u001b[0m\u001b[0;34m)\u001b[0m  \u001b[0;31m# pylint: disable=protected-access\u001b[0m\u001b[0;34m\u001b[0m\u001b[0;34m\u001b[0m\u001b[0m\n\u001b[0m\u001b[1;32m   1072\u001b[0m     \u001b[0;32mreturn\u001b[0m \u001b[0mmaybe_arr\u001b[0m\u001b[0;34m.\u001b[0m\u001b[0mcopy\u001b[0m\u001b[0;34m(\u001b[0m\u001b[0;34m)\u001b[0m \u001b[0;32mif\u001b[0m \u001b[0misinstance\u001b[0m\u001b[0;34m(\u001b[0m\u001b[0mmaybe_arr\u001b[0m\u001b[0;34m,\u001b[0m \u001b[0mnp\u001b[0m\u001b[0;34m.\u001b[0m\u001b[0mndarray\u001b[0m\u001b[0;34m)\u001b[0m \u001b[0;32melse\u001b[0m \u001b[0mmaybe_arr\u001b[0m\u001b[0;34m\u001b[0m\u001b[0;34m\u001b[0m\u001b[0m\n\u001b[1;32m   1073\u001b[0m \u001b[0;34m\u001b[0m\u001b[0m\n",
      "\u001b[0;32m/usr/local/lib/python3.6/dist-packages/tensorflow/python/framework/ops.py\u001b[0m in \u001b[0;36m_numpy\u001b[0;34m(self)\u001b[0m\n\u001b[1;32m   1035\u001b[0m   \u001b[0;32mdef\u001b[0m \u001b[0m_numpy\u001b[0m\u001b[0;34m(\u001b[0m\u001b[0mself\u001b[0m\u001b[0;34m)\u001b[0m\u001b[0;34m:\u001b[0m\u001b[0;34m\u001b[0m\u001b[0;34m\u001b[0m\u001b[0m\n\u001b[1;32m   1036\u001b[0m     \u001b[0;32mtry\u001b[0m\u001b[0;34m:\u001b[0m\u001b[0;34m\u001b[0m\u001b[0;34m\u001b[0m\u001b[0m\n\u001b[0;32m-> 1037\u001b[0;31m       \u001b[0;32mreturn\u001b[0m \u001b[0mself\u001b[0m\u001b[0;34m.\u001b[0m\u001b[0m_numpy_internal\u001b[0m\u001b[0;34m(\u001b[0m\u001b[0;34m)\u001b[0m\u001b[0;34m\u001b[0m\u001b[0;34m\u001b[0m\u001b[0m\n\u001b[0m\u001b[1;32m   1038\u001b[0m     \u001b[0;32mexcept\u001b[0m \u001b[0mcore\u001b[0m\u001b[0;34m.\u001b[0m\u001b[0m_NotOkStatusException\u001b[0m \u001b[0;32mas\u001b[0m \u001b[0me\u001b[0m\u001b[0;34m:\u001b[0m  \u001b[0;31m# pylint: disable=protected-access\u001b[0m\u001b[0;34m\u001b[0m\u001b[0;34m\u001b[0m\u001b[0m\n\u001b[1;32m   1039\u001b[0m       \u001b[0msix\u001b[0m\u001b[0;34m.\u001b[0m\u001b[0mraise_from\u001b[0m\u001b[0;34m(\u001b[0m\u001b[0mcore\u001b[0m\u001b[0;34m.\u001b[0m\u001b[0m_status_to_exception\u001b[0m\u001b[0;34m(\u001b[0m\u001b[0me\u001b[0m\u001b[0;34m.\u001b[0m\u001b[0mcode\u001b[0m\u001b[0;34m,\u001b[0m \u001b[0me\u001b[0m\u001b[0;34m.\u001b[0m\u001b[0mmessage\u001b[0m\u001b[0;34m)\u001b[0m\u001b[0;34m,\u001b[0m \u001b[0;32mNone\u001b[0m\u001b[0;34m)\u001b[0m  \u001b[0;31m# pylint: disable=protected-access\u001b[0m\u001b[0;34m\u001b[0m\u001b[0;34m\u001b[0m\u001b[0m\n",
      "\u001b[0;31mKeyboardInterrupt\u001b[0m: "
     ]
    }
   ],
   "source": [
    "epochs = 100\n",
    "hist = model.fit(\n",
    "    resampled_data,\n",
    "    validation_data=validation_dataset,\n",
    "    epochs=epochs,\n",
    "    verbose=1, callbacks=callback_list, \n",
    "    steps_per_epoch = resampled_steps_per_epoch,\n",
    "    class_weight = class_weight)"
   ]
  },
  {
   "cell_type": "code",
   "execution_count": 234,
   "metadata": {},
   "outputs": [
    {
     "data": {
      "image/png": "[encoded data removed]",
      "text/plain": [
       "<Figure size 504x1008 with 3 Axes>"
      ]
     },
     "metadata": {
      "needs_background": "light"
     },
     "output_type": "display_data"
    }
   ],
   "source": [
    "dat = pd.read_csv('results.csv', index_col='epoch')\n",
    "\n",
    "fig, ax = plt.subplots(3, 1, figsize=(7,14))\n",
    "metrics = ['accuracy', 'loss', 'auc']\n",
    "\n",
    "for i, metric in enumerate(metrics):\n",
    "    ax[i].plot(dat[metric])\n",
    "    ax[i].plot(dat['val_'+metric])\n",
    "    ax[i].set_title(\"Model {}\".format(metric))\n",
    "    ax[i].set_xlabel(\"epochs\")\n",
    "    ax[i].set_ylabel(metric)\n",
    "    ax[i].legend([\"train\", \"val\"])\n",
    "    \n",
    "    if metric == 'accuracy' or metric == 'auc':\n",
    "        ax[i].set_ylim(0,1)\n",
    "        \n",
    "    else:\n",
    "        ax[i].set_ylim(0)\n",
    "    \n",
    "fig.tight_layout()\n",
    "plt.show()\n",
    "\n",
    "p = 'softmax'+str(IMAGE_DIMENSION)\n",
    "fig.savefig(p)"
   ]
  },
  {
   "cell_type": "markdown",
   "metadata": {},
   "source": [
    "#### Prediction on test data"
   ]
  },
  {
   "cell_type": "code",
   "execution_count": 247,
   "metadata": {},
   "outputs": [
    {
     "name": "stdout",
     "output_type": "stream",
     "text": [
      "82\n"
     ]
    }
   ],
   "source": [
    "best_model = np.where(dat.val_loss == np.min(dat.val_loss))[0][0] \n",
    "print(best_model)\n",
    "best_model = np.where(dat.val_auc == np.max(dat.val_auc))[0][0]\n",
    "#best_model = np.where(dat.val_accuracy == np.max(dat.val_accuracy))[0][0]\n",
    "model.load_weights('History/model.epoch' + str(best_model) + '.hdf5')\n",
    "\n",
    "y_prob = model.predict(X_test, batch_size=batch_size)\n",
    "y_pred = (y_prob[:,1] > 0.5).astype(np.int)\n",
    "\n",
    "y_test = Y_test.argmax(axis = 1) "
   ]
  },
  {
   "cell_type": "code",
   "execution_count": 248,
   "metadata": {},
   "outputs": [],
   "source": [
    "auc, auc_var, ci_auc = auc_ci_Delong(\n",
    "    y_true=y_test,\n",
    "    y_scores=y_prob[:,1])"
   ]
  },
  {
   "cell_type": "code",
   "execution_count": 249,
   "metadata": {},
   "outputs": [],
   "source": [
    "cm = confusion_matrix(y_test, y_pred)\n",
    "lower_acc, upper_acc = proportion_confint(sum(np.diag(cm)), np.sum(cm), 0.05, method = 'wilson')\n",
    "ci_acc = np.array([lower_acc, upper_acc])"
   ]
  },
  {
   "cell_type": "code",
   "execution_count": 250,
   "metadata": {},
   "outputs": [
    {
     "name": "stdout",
     "output_type": "stream",
     "text": [
      "Accuracy:  68.32  CI: [0.587 0.766]\n",
      "AUC:  0.664 CI: [0.547 0.78 ]\n",
      "Confusion matrix: \n",
      " [[13 18]\n",
      " [14 56]]\n",
      "Normalized Confusion matrix: \n",
      " [[0.419 0.581]\n",
      " [0.2   0.8  ]]\n"
     ]
    }
   ],
   "source": [
    "print(\"Accuracy: \", round((np.mean(y_pred == y_test)*100),2), ' CI:', np.round(ci_acc,3) )\n",
    "print(\"AUC: \", round(auc, 3), 'CI:', np.round(ci_auc, 3))\n",
    "print(\"Confusion matrix: \\n\", \n",
    "      confusion_matrix(y_test, y_pred))\n",
    "print(\"Normalized Confusion matrix: \\n\", \n",
    "      np.round(confusion_matrix(y_test, y_pred, normalize = 'true'),3))"
   ]
  },
  {
   "cell_type": "code",
   "execution_count": 360,
   "metadata": {},
   "outputs": [],
   "source": [
    "initial_weights = os.path.join(tempfile.mkdtemp(), 'initial_weights')\n",
    "model.save_weights(initial_weights)"
   ]
  },
  {
   "cell_type": "markdown",
   "metadata": {},
   "source": [
    "#### Prediction on training data"
   ]
  },
  {
   "cell_type": "code",
   "execution_count": 358,
   "metadata": {},
   "outputs": [
    {
     "name": "stdout",
     "output_type": "stream",
     "text": [
      "63\n"
     ]
    }
   ],
   "source": [
    "best_model = np.where(dat.val_loss == np.min(dat.val_loss))[0][0] \n",
    "print(best_model)\n",
    "#best_model = np.where(dat.val_auc == np.max(dat.val_auc))[0][0]\n",
    "#best_model = np.where(dat.val_accuracy == np.max(dat.val_accuracy))[0][0]\n",
    "model.load_weights('History/model.epoch' + str(best_model) + '.hdf5')\n",
    "\n",
    "y_prob = model.predict(X_train, batch_size=batch_size)\n",
    "y_pred = (y_prob[:,1] > 0.5).astype(np.int)\n",
    "\n",
    "y_train = Y_train.argmax(axis = 1) "
   ]
  },
  {
   "cell_type": "code",
   "execution_count": 359,
   "metadata": {},
   "outputs": [],
   "source": [
    "cm = confusion_matrix(y_train, y_pred)\n",
    "lower_acc, upper_acc = proportion_confint(sum(np.diag(cm)), np.sum(cm), 0.05, method = 'wilson')\n",
    "ci_acc = np.array([lower_acc, upper_acc])"
   ]
  },
  {
   "cell_type": "code",
   "execution_count": 293,
   "metadata": {},
   "outputs": [],
   "source": [
    "auc, auc_var, ci_auc = auc_ci_Delong(\n",
    "    y_true=y_train,\n",
    "    y_scores=y_prob[:,1])"
   ]
  },
  {
   "cell_type": "code",
   "execution_count": 360,
   "metadata": {},
   "outputs": [
    {
     "name": "stdout",
     "output_type": "stream",
     "text": [
      "Accuracy:  88.94  CI: [0.855 0.916]\n",
      "AUC:  0.658 CI: [0.544 0.771]\n",
      "Confusion matrix: \n",
      " [[126   0]\n",
      " [ 45 236]]\n",
      "Normalized Confusion matrix: \n",
      " [[1.   0.  ]\n",
      " [0.16 0.84]]\n"
     ]
    }
   ],
   "source": [
    "print(\"Accuracy: \", round((np.mean(y_pred == y_train)*100),2), ' CI:', np.round(ci_acc,3) )\n",
    "print(\"AUC: \", round(auc, 3), 'CI:', np.round(ci_auc, 3))\n",
    "print(\"Confusion matrix: \\n\", \n",
    "      confusion_matrix(y_train, y_pred))\n",
    "print(\"Normalized Confusion matrix: \\n\", \n",
    "      np.round(confusion_matrix(y_train, y_pred, normalize = 'true'),3))"
   ]
  },
  {
   "cell_type": "code",
   "execution_count": 361,
   "metadata": {},
   "outputs": [
    {
     "name": "stdout",
     "output_type": "stream",
     "text": [
      "INFO:tensorflow:Assets written to: my_model/assets\n"
     ]
    }
   ],
   "source": [
    "model.save('my_model')"
   ]
  },
  {
   "cell_type": "markdown",
   "metadata": {},
   "source": [
    "#### Prediction on balanced test data"
   ]
  },
  {
   "cell_type": "code",
   "execution_count": 362,
   "metadata": {},
   "outputs": [],
   "source": [
    "bool_test_labels = Y_test[:,1] != 0\n",
    "pos_features_test = X_test[bool_test_labels]\n",
    "neg_features_test = X_test[~bool_test_labels]\n",
    "pos_labels_test = Y_test[bool_test_labels]\n",
    "neg_labels_test = Y_test[~bool_test_labels]"
   ]
  },
  {
   "cell_type": "code",
   "execution_count": 363,
   "metadata": {},
   "outputs": [],
   "source": [
    "ids = np.arange(len(neg_features_test))\n",
    "choices = np.random.choice(ids, len(pos_features_test))\n",
    "res_neg_features = neg_features_test[choices]\n",
    "res_neg_labels = neg_labels_test[choices]\n",
    "\n",
    "resampled_features = np.concatenate([res_neg_features, pos_features_test], axis=0)\n",
    "resampled_labels = np.concatenate([res_neg_labels, pos_labels_test], axis=0)\n",
    "\n",
    "order = np.arange(len(resampled_labels))\n",
    "np.random.shuffle(order)\n",
    "X_test_balanced = resampled_features[order]\n",
    "Y_test_balanced  = resampled_labels[order]"
   ]
  },
  {
   "cell_type": "code",
   "execution_count": 364,
   "metadata": {},
   "outputs": [
    {
     "name": "stdout",
     "output_type": "stream",
     "text": [
      "63\n"
     ]
    }
   ],
   "source": [
    "best_model = np.where(dat.val_loss == np.min(dat.val_loss))[0][0] \n",
    "print(best_model)\n",
    "#best_model = np.where(dat.val_auc == np.max(dat.val_auc))[0][0]\n",
    "#best_model = np.where(dat.val_accuracy == np.max(dat.val_accuracy))[0][0]\n",
    "model.load_weights('History/model.epoch' + str(best_model) + '.hdf5')\n",
    "\n",
    "y_prob = model.predict(X_test_balanced, batch_size=batch_size)\n",
    "y_pred = (y_prob[:,1] > 0.5).astype(np.int)\n",
    "\n",
    "y_test_balanced = Y_test_balanced.argmax(axis = 1) "
   ]
  },
  {
   "cell_type": "code",
   "execution_count": 365,
   "metadata": {},
   "outputs": [],
   "source": [
    "cm = confusion_matrix(y_test_balanced, y_pred)\n",
    "lower_acc, upper_acc = proportion_confint(sum(np.diag(cm)), np.sum(cm), 0.05, method = 'wilson')\n",
    "ci_acc = np.array([lower_acc, upper_acc])\n",
    "\n",
    "auc, auc_var, ci_auc = auc_ci_Delong(\n",
    "    y_true=y_test_balanced,\n",
    "    y_scores=y_prob[:,1])"
   ]
  },
  {
   "cell_type": "code",
   "execution_count": 366,
   "metadata": {},
   "outputs": [
    {
     "name": "stdout",
     "output_type": "stream",
     "text": [
      "Accuracy:  69.29  CI: [0.612 0.763]\n",
      "AUC:  0.73 CI: [0.646 0.814]\n",
      "Confusion matrix: \n",
      " [[51 19]\n",
      " [24 46]]\n",
      "Normalized Confusion matrix: \n",
      " [[0.729 0.271]\n",
      " [0.343 0.657]]\n"
     ]
    }
   ],
   "source": [
    "print(\"Accuracy: \", round((np.mean(y_pred == y_test_balanced)*100),2), ' CI:', np.round(ci_acc,3) )\n",
    "print(\"AUC: \", round(auc, 3), 'CI:', np.round(ci_auc, 3))\n",
    "print(\"Confusion matrix: \\n\", \n",
    "      confusion_matrix(y_test_balanced, y_pred))\n",
    "print(\"Normalized Confusion matrix: \\n\", \n",
    "      np.round(confusion_matrix(y_test_balanced, y_pred, normalize = 'true'),3))"
   ]
  }
 ],
 "metadata": {
  "kernelspec": {
   "display_name": "Python 3",
   "language": "python",
   "name": "python3"
  },
  "language_info": {
   "codemirror_mode": {
    "name": "ipython",
    "version": 3
   },
   "file_extension": ".py",
   "mimetype": "text/x-python",
   "name": "python",
   "nbconvert_exporter": "python",
   "pygments_lexer": "ipython3",
   "version": "3.6.9"
  }
 },
 "nbformat": 4,
 "nbformat_minor": 5
}
