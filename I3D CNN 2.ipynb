{
 "cells": [
  {
   "cell_type": "code",
   "execution_count": 44,
   "metadata": {},
   "outputs": [
    {
     "name": "stdout",
     "output_type": "stream",
     "text": [
      "2.4.0\n"
     ]
    }
   ],
   "source": [
    "import os\n",
    "import pandas as pd\n",
    "import zipfile\n",
    "import numpy as np\n",
    "import tensorflow as tf\n",
    "print(tf.__version__)\n",
    "import h5py\n",
    "import random\n",
    "from scipy import ndimage\n",
    "import matplotlib.pyplot as plt\n",
    "from sklearn.metrics import confusion_matrix\n",
    "import sklearn\n",
    "import tempfile\n",
    "import gc\n",
    "import shutil\n",
    "from tensorflow.compat.v1 import ConfigProto\n",
    "from tensorflow.compat.v1 import Session\n",
    "\n",
    "from tensorflow import keras\n",
    "from tensorflow.keras import layers\n",
    "from keras.utils import to_categorical\n",
    "\n",
    "from keras import models\n",
    "from keras.models import Model\n",
    "from keras import layers\n",
    "from keras.layers import Activation\n",
    "from keras.models import Sequential\n",
    "from keras.layers import Dense\n",
    "from keras.layers import Input\n",
    "from keras.layers import BatchNormalization\n",
    "from keras.layers import Conv3D\n",
    "from keras.layers import MaxPooling3D\n",
    "from keras.layers import AveragePooling3D\n",
    "from keras.layers import Dropout\n",
    "from keras.layers import Reshape\n",
    "from keras.layers import Lambda\n",
    "from keras.layers import GlobalAveragePooling3D\n",
    "from keras_kinetics_i3d.i3d_inception import Inception_Inflated3d\n",
    "\n",
    "from keras.engine.topology import get_source_inputs\n",
    "from keras.utils import layer_utils\n",
    "from keras.utils.data_utils import get_file\n",
    "from keras import backend as K"
   ]
  },
  {
   "cell_type": "markdown",
   "metadata": {},
   "source": [
    "### Import data from HD5File"
   ]
  },
  {
   "cell_type": "code",
   "execution_count": 9,
   "metadata": {},
   "outputs": [],
   "source": [
    "PATH_3D_H5 = 'Images/tof_data.hdf5'"
   ]
  },
  {
   "cell_type": "code",
   "execution_count": 10,
   "metadata": {},
   "outputs": [
    {
     "name": "stdout",
     "output_type": "stream",
     "text": [
      "['X', 'pat', 'path', 'stroke']\n",
      "(508, 128, 112, 40)\n",
      "(508,)\n"
     ]
    }
   ],
   "source": [
    "with h5py.File(PATH_3D_H5, 'r') as dd:\n",
    "    print(list(dd.keys()))\n",
    "    print(dd['X'].shape)\n",
    "    print(dd['stroke'].shape)"
   ]
  },
  {
   "cell_type": "code",
   "execution_count": 11,
   "metadata": {},
   "outputs": [
    {
     "name": "stdout",
     "output_type": "stream",
     "text": [
      "H5-file:  ['X', 'pat', 'path', 'stroke']\n",
      "508 508 508 508\n"
     ]
    }
   ],
   "source": [
    "def decode_data(string):\n",
    "    decoded_string = [n.decode(\"UTF-8\", \"ignore\") for n in string]\n",
    "    return(decoded_string)\n",
    "\n",
    "with h5py.File(PATH_3D_H5, 'r') as h5:\n",
    "    print('H5-file: ', list(h5.keys()))\n",
    "    \n",
    "    # Image matrices\n",
    "    X = h5[\"X\"][:]\n",
    "    # Patient ID's\n",
    "    pat = h5[\"pat\"][:]\n",
    "    # Path to images\n",
    "    path = decode_data(h5[\"path\"][:])\n",
    "    # Patient labels (1=stroke, 0=TIA)\n",
    "    Y_pat = h5[\"stroke\"][:]\n",
    "    \n",
    "print(len(X), len(Y_pat), len(pat), len(path))"
   ]
  },
  {
   "cell_type": "markdown",
   "metadata": {},
   "source": [
    "### Train, validation, test split (vgl. NB Lisa)"
   ]
  },
  {
   "cell_type": "markdown",
   "metadata": {},
   "source": [
    "There are 508 patients with TOF-MRA images. We split the dataset in a training and test set.\n",
    "- Training set: 407 images (~80%) -> 281 stroke, 126 non-stroke\n",
    "- Test set: 101 images (~20%) -> 70 stroke, 31 non-stroke"
   ]
  },
  {
   "cell_type": "code",
   "execution_count": 12,
   "metadata": {},
   "outputs": [
    {
     "name": "stdout",
     "output_type": "stream",
     "text": [
      "351 157\n"
     ]
    }
   ],
   "source": [
    "# consider stroke and no-stroke patients separately:\n",
    "idx = np.where(Y_pat == 1)[0]\n",
    "stroke_patients = np.unique(pat[idx])\n",
    "idx = np.where(Y_pat == 0)[0]\n",
    "non_stroke_patients = np.unique(pat[idx])\n",
    "print(len(stroke_patients), len(non_stroke_patients))"
   ]
  },
  {
   "cell_type": "code",
   "execution_count": 13,
   "metadata": {},
   "outputs": [],
   "source": [
    "# randomly shuffle the stroke and non-stroke patients\n",
    "np.random.seed(1)\n",
    "stroke_patients_test = np.random.choice(stroke_patients, size=len(stroke_patients), replace=False)\n",
    "non_stroke_patients_test = np.random.choice(non_stroke_patients, size=len(non_stroke_patients), replace=False)"
   ]
  },
  {
   "cell_type": "code",
   "execution_count": 14,
   "metadata": {},
   "outputs": [
    {
     "data": {
      "text/plain": [
       "101"
      ]
     },
     "execution_count": 14,
     "metadata": {},
     "output_type": "execute_result"
    }
   ],
   "source": [
    "#test set\n",
    "np.random.seed(1)\n",
    "test_tmp = np.concatenate([stroke_patients_test[:70], non_stroke_patients_test[:31]], axis=0)\n",
    "test = np.random.choice(test_tmp, size=len(test_tmp), replace=False)\n",
    "len(test)"
   ]
  },
  {
   "cell_type": "code",
   "execution_count": 15,
   "metadata": {},
   "outputs": [
    {
     "name": "stdout",
     "output_type": "stream",
     "text": [
      "281 126\n"
     ]
    }
   ],
   "source": [
    "stroke_patients_run = [i for i in stroke_patients if i not in test]\n",
    "non_stroke_patients_run = [i for i in non_stroke_patients if i not in test]\n",
    "\n",
    "# randomply shuffle the data\n",
    "np.random.seed(100)\n",
    "stroke_patients_tmp = np.random.choice(stroke_patients_run, size=len(stroke_patients_run), replace=False)\n",
    "non_stroke_patients_tmp = np.random.choice(non_stroke_patients_run, size=len(non_stroke_patients_run), replace=False)\n",
    "print(len(stroke_patients_tmp), len(non_stroke_patients_tmp))"
   ]
  },
  {
   "cell_type": "code",
   "execution_count": 16,
   "metadata": {},
   "outputs": [
    {
     "data": {
      "text/plain": [
       "407"
      ]
     },
     "execution_count": 16,
     "metadata": {},
     "output_type": "execute_result"
    }
   ],
   "source": [
    "train_tmp = np.concatenate([stroke_patients_tmp,non_stroke_patients_tmp], axis=0)\n",
    "len(train_tmp)"
   ]
  },
  {
   "cell_type": "code",
   "execution_count": 17,
   "metadata": {},
   "outputs": [
    {
     "name": "stdout",
     "output_type": "stream",
     "text": [
      "407 101\n"
     ]
    }
   ],
   "source": [
    "# randomly shuffle the datasets such that stroke and no-stroke patients are mixed\n",
    "np.random.seed(100)\n",
    "train = np.random.choice(train_tmp, size=len(train_tmp), replace=False)\n",
    "test = np.random.choice(test, size=len(test), replace=False)\n",
    "print(len(train), len(test))"
   ]
  },
  {
   "cell_type": "code",
   "execution_count": 18,
   "metadata": {},
   "outputs": [],
   "source": [
    "def get_datasets(set_i, X, Y_pat, pat, path):\n",
    "    Y_pat_set = []\n",
    "    pat_set = []\n",
    "    path_set = []\n",
    "    # Find the indices corresponding to the patient_i in set_i\n",
    "    idx = [i for i, pat_i in enumerate(pat) if pat_i in set_i]\n",
    "    X_set = X[idx,:,:,:]\n",
    "    for i in idx:\n",
    "        Y_pat_set.append(Y_pat[i])\n",
    "        pat_set.append(pat[i])\n",
    "        path_set.append(path[i])     \n",
    "    return(X_set, np.array(Y_pat_set), np.array(pat_set), np.array(path_set))"
   ]
  },
  {
   "cell_type": "code",
   "execution_count": 19,
   "metadata": {},
   "outputs": [],
   "source": [
    "X_train, Y_train, pat_train, path_train = get_datasets(train, X, Y_pat, pat, path)\n",
    "X_test, Y_test, pat_test, path_test = get_datasets(test, X, Y_pat, pat, path)"
   ]
  },
  {
   "cell_type": "code",
   "execution_count": 20,
   "metadata": {},
   "outputs": [],
   "source": [
    "#for softmax\n",
    "Y_train = to_categorical(Y_train)\n",
    "Y_test = to_categorical(Y_test)"
   ]
  },
  {
   "cell_type": "markdown",
   "metadata": {},
   "source": [
    "### Preprocess data"
   ]
  },
  {
   "cell_type": "code",
   "execution_count": 21,
   "metadata": {},
   "outputs": [],
   "source": [
    "#IMAGE_DIMENSION = (64, 56, 20)\n",
    "#IMAGE_DIMENSION = (96, 84, 30)\n",
    "IMAGE_DIMENSION = (128, 112, 40)\n",
    "#IMAGE_DIMENSION = (128, 128, 40)"
   ]
  },
  {
   "cell_type": "markdown",
   "metadata": {},
   "source": [
    "#### Resize images "
   ]
  },
  {
   "cell_type": "code",
   "execution_count": 110,
   "metadata": {},
   "outputs": [],
   "source": [
    "def normalize_array(array):\n",
    "    min = np.min(array)\n",
    "    max = np.max(array)\n",
    "    normalized = (array - min) / (max - min)\n",
    "    return normalized"
   ]
  },
  {
   "cell_type": "code",
   "execution_count": 63,
   "metadata": {},
   "outputs": [],
   "source": [
    "def resize_volume(img):\n",
    "    \"\"\"Resize across z-axis\"\"\"\n",
    "    # Set the desired depth\n",
    "    desired_width = IMAGE_DIMENSION[0]\n",
    "    desired_height = IMAGE_DIMENSION[1]\n",
    "    desired_depth = IMAGE_DIMENSION[2]\n",
    "    # Get current depth\n",
    "    current_depth = img.shape[-1]\n",
    "    current_width = img.shape[0]\n",
    "    current_height = img.shape[1]\n",
    "    # Compute depth factor\n",
    "    depth = current_depth / desired_depth\n",
    "    width = current_width / desired_width\n",
    "    height = current_height / desired_height\n",
    "    depth_factor = 1 / depth\n",
    "    width_factor = 1 / width\n",
    "    height_factor = 1 / height\n",
    "    # Resize across z-axis\n",
    "    img = ndimage.zoom(img, (width_factor, height_factor, depth_factor), order=1)\n",
    "    img = normalize_array(img)\n",
    "    return img"
   ]
  },
  {
   "cell_type": "code",
   "execution_count": 64,
   "metadata": {},
   "outputs": [],
   "source": [
    "X_train = np.array([resize_volume(img) for img in X_train])\n",
    "X_test = np.array([resize_volume(img) for img in X_test])"
   ]
  },
  {
   "cell_type": "markdown",
   "metadata": {},
   "source": [
    "#### Expand dimensions"
   ]
  },
  {
   "cell_type": "code",
   "execution_count": 22,
   "metadata": {},
   "outputs": [
    {
     "data": {
      "text/plain": [
       "(407, 128, 112, 40, 1)"
      ]
     },
     "execution_count": 22,
     "metadata": {},
     "output_type": "execute_result"
    }
   ],
   "source": [
    "X_train = np.expand_dims(X_train, axis = 4)\n",
    "X_train.shape"
   ]
  },
  {
   "cell_type": "code",
   "execution_count": 23,
   "metadata": {},
   "outputs": [
    {
     "data": {
      "text/plain": [
       "(101, 128, 112, 40, 1)"
      ]
     },
     "execution_count": 23,
     "metadata": {},
     "output_type": "execute_result"
    }
   ],
   "source": [
    "X_test = np.expand_dims(X_test, axis = 4)\n",
    "X_test.shape"
   ]
  },
  {
   "cell_type": "markdown",
   "metadata": {},
   "source": [
    "#### Add channels to images -> 1 to 3"
   ]
  },
  {
   "cell_type": "code",
   "execution_count": 24,
   "metadata": {},
   "outputs": [
    {
     "data": {
      "text/plain": [
       "(407, 128, 112, 40, 3)"
      ]
     },
     "execution_count": 24,
     "metadata": {},
     "output_type": "execute_result"
    }
   ],
   "source": [
    "X_train = np.repeat(X_train, 3, -1)    \n",
    "X_train.shape"
   ]
  },
  {
   "cell_type": "code",
   "execution_count": 25,
   "metadata": {},
   "outputs": [
    {
     "data": {
      "text/plain": [
       "(101, 128, 112, 40, 3)"
      ]
     },
     "execution_count": 25,
     "metadata": {},
     "output_type": "execute_result"
    }
   ],
   "source": [
    "X_test = np.repeat(X_test, 3, -1)    \n",
    "X_test.shape"
   ]
  },
  {
   "cell_type": "markdown",
   "metadata": {},
   "source": [
    "### Move depth axis"
   ]
  },
  {
   "cell_type": "code",
   "execution_count": 26,
   "metadata": {},
   "outputs": [
    {
     "data": {
      "text/plain": [
       "(407, 40, 128, 112, 3)"
      ]
     },
     "execution_count": 26,
     "metadata": {},
     "output_type": "execute_result"
    }
   ],
   "source": [
    "X_train = np.moveaxis(X_train, 3, 1)\n",
    "X_train.shape"
   ]
  },
  {
   "cell_type": "code",
   "execution_count": 27,
   "metadata": {},
   "outputs": [
    {
     "data": {
      "text/plain": [
       "(101, 40, 128, 112, 3)"
      ]
     },
     "execution_count": 27,
     "metadata": {},
     "output_type": "execute_result"
    }
   ],
   "source": [
    "X_test = np.moveaxis(X_test, 3, 1)\n",
    "X_test.shape"
   ]
  },
  {
   "cell_type": "markdown",
   "metadata": {},
   "source": [
    "#### Check if values are betwwen 0 and 1"
   ]
  },
  {
   "cell_type": "code",
   "execution_count": 28,
   "metadata": {},
   "outputs": [
    {
     "name": "stdout",
     "output_type": "stream",
     "text": [
      "0.0 1.0\n"
     ]
    }
   ],
   "source": [
    "print(np.min(X_train[0]), np.max(X_train[0]))"
   ]
  },
  {
   "cell_type": "markdown",
   "metadata": {},
   "source": [
    "##### Optional: all elements between -0.5 and 0.5"
   ]
  },
  {
   "cell_type": "code",
   "execution_count": 337,
   "metadata": {},
   "outputs": [],
   "source": [
    "##all elements between -0.5 and 0.5\n",
    "X_train = X_train - 0.5\n",
    "X_test = X_test - 0.5"
   ]
  },
  {
   "cell_type": "code",
   "execution_count": 338,
   "metadata": {},
   "outputs": [
    {
     "name": "stdout",
     "output_type": "stream",
     "text": [
      "-0.5 0.5\n"
     ]
    }
   ],
   "source": [
    "print(np.min(X_train[0]), np.max(X_train[0]))"
   ]
  },
  {
   "cell_type": "markdown",
   "metadata": {},
   "source": [
    "### Data Augmentation"
   ]
  },
  {
   "cell_type": "markdown",
   "metadata": {},
   "source": [
    "Zoom images"
   ]
  },
  {
   "cell_type": "code",
   "execution_count": 50,
   "metadata": {},
   "outputs": [],
   "source": [
    "# zoom\n",
    "def random_zoom3d(X_im, min_zoom, max_zoom):\n",
    "    z = np.random.sample() *(max_zoom-min_zoom) + min_zoom\n",
    "    zoom_matrix = np.array([[z, 0, 0, 0],\n",
    "                            [0, z, 0, 0],\n",
    "                            [0, 0, z, 0],\n",
    "                            [0, 0, 0, 1]])\n",
    "    return ndimage.affine_transform(X_im, zoom_matrix, mode = \"nearest\", order = 1)"
   ]
  },
  {
   "cell_type": "code",
   "execution_count": 120,
   "metadata": {},
   "outputs": [],
   "source": [
    "X_aug = random_zoom3d(X, 0.8, 1.3)\n",
    "#plot_slices(4, 10, 128, 112, X_aug[:, :, :])\n",
    "#fig, ax = plt.subplots()\n",
    "#pos = ax.imshow(np.squeeze(X_aug[:, :, 10]), cmap=\"gray\")"
   ]
  },
  {
   "cell_type": "markdown",
   "metadata": {},
   "source": [
    "Rotate images"
   ]
  },
  {
   "cell_type": "code",
   "execution_count": 51,
   "metadata": {},
   "outputs": [],
   "source": [
    "# rotate\n",
    "def random_rotate3d(X_im, min_angle_xy, max_angle_xy, min_angle_xz, max_angle_xz, min_angle_yz, max_angle_yz):\n",
    "    angle_xy = np.random.uniform(min_angle_xy, max_angle_xy)\n",
    "    angle_xz = np.random.uniform(min_angle_xz, max_angle_xz)\n",
    "    angle_yz = np.random.uniform(min_angle_yz, max_angle_yz)\n",
    "    rotation_axis = np.random.choice([0,1,2])\n",
    "    if(rotation_axis == 0):\n",
    "        X_im = ndimage.rotate(X_im, angle = angle_xy, axes = (0,1), mode = \"nearest\", reshape = False, order = 3)\n",
    "    if(rotation_axis == 1):\n",
    "        X_im = ndimage.rotate(X_im, angle = angle_xz, axes = (0,2), mode = \"nearest\", reshape = False, order = 3)\n",
    "    if(rotation_axis == 2):\n",
    "        X_im = ndimage.rotate(X_im, angle = angle_yz, axes = (1,2), mode = \"nearest\", reshape = False, order = 3)\n",
    "    return X_im"
   ]
  },
  {
   "cell_type": "code",
   "execution_count": 36,
   "metadata": {},
   "outputs": [
    {
     "data": {
      "image/png": "[encoded data removed]",
      "text/plain": [
       "<Figure size 432x288 with 1 Axes>"
      ]
     },
     "metadata": {
      "needs_background": "light"
     },
     "output_type": "display_data"
    }
   ],
   "source": [
    "X_aug = random_rotate3d(X, -20, 20, -5, 5, -5, 5)\n",
    "fig, ax = plt.subplots()\n",
    "pos = ax.imshow(np.squeeze(X_aug[:, :, 10]), cmap=\"gray\")"
   ]
  },
  {
   "cell_type": "markdown",
   "metadata": {},
   "source": [
    "Shifting images"
   ]
  },
  {
   "cell_type": "code",
   "execution_count": 52,
   "metadata": {},
   "outputs": [],
   "source": [
    "# shifting\n",
    "def random_shift3d(X_im, min_shift_x, max_shift_x, min_shift_y, max_shift_y, min_shift_z, max_shift_z):\n",
    "    x_shift = np.random.uniform(min_shift_x, max_shift_x)\n",
    "    y_shift = np.random.uniform(min_shift_y, max_shift_y)\n",
    "    z_shift = np.random.uniform(min_shift_z, max_shift_z)\n",
    "    return ndimage.shift(X_im, [x_shift, y_shift, z_shift, 0], mode = \"nearest\", order = 0)"
   ]
  },
  {
   "cell_type": "code",
   "execution_count": 39,
   "metadata": {},
   "outputs": [
    {
     "data": {
      "image/png": "[encoded data removed]",
      "text/plain": [
       "<Figure size 432x288 with 1 Axes>"
      ]
     },
     "metadata": {
      "needs_background": "light"
     },
     "output_type": "display_data"
    }
   ],
   "source": [
    "X_aug = random_shift3d(X, -20, 20, -20, 20, 0, 0)\n",
    "fig, ax = plt.subplots()\n",
    "pos = ax.imshow(np.squeeze(X_aug[:, :, 10]), cmap=\"gray\")"
   ]
  },
  {
   "cell_type": "markdown",
   "metadata": {},
   "source": [
    "Flipping images"
   ]
  },
  {
   "cell_type": "code",
   "execution_count": 53,
   "metadata": {},
   "outputs": [],
   "source": [
    "def random_flip3d(X_im):\n",
    "    axis = np.random.choice([0,1])\n",
    "    if(axis == 0): # vertical flip\n",
    "        X_im = X_im[:,::-1,:,:]\n",
    "        # X_im = X_im[::-1,:,:,:] #horizontal\n",
    "        # X_im = np.asarray(X_im).swapaxes(0, 1)#left, right flip\n",
    "    return X_im"
   ]
  },
  {
   "cell_type": "code",
   "execution_count": 45,
   "metadata": {},
   "outputs": [
    {
     "data": {
      "image/png": "[encoded data removed]",
      "text/plain": [
       "<Figure size 432x288 with 1 Axes>"
      ]
     },
     "metadata": {
      "needs_background": "light"
     },
     "output_type": "display_data"
    }
   ],
   "source": [
    "X_aug = random_flip3d(X)\n",
    "fig, ax = plt.subplots()\n",
    "pos = ax.imshow(np.squeeze(X_aug[:, :, 10]), cmap=\"gray\")"
   ]
  },
  {
   "cell_type": "markdown",
   "metadata": {},
   "source": [
    "Gauss filter"
   ]
  },
  {
   "cell_type": "code",
   "execution_count": 54,
   "metadata": {},
   "outputs": [],
   "source": [
    "# Gauss filter (Glättung, Mittelwertberechnung per Pixel basierend auf umgebenden Pixeln ausgewählt mit Gaussfkt.)\n",
    "def random_gaussianfilter3d(X_im, sigma_max):\n",
    "    sigma = np.random.uniform(0, sigma_max)\n",
    "    return ndimage.gaussian_filter(X_im, sigma, mode = \"nearest\")"
   ]
  },
  {
   "cell_type": "code",
   "execution_count": 52,
   "metadata": {},
   "outputs": [
    {
     "data": {
      "image/png": "[encoded data removed]",
      "text/plain": [
       "<Figure size 432x288 with 1 Axes>"
      ]
     },
     "metadata": {
      "needs_background": "light"
     },
     "output_type": "display_data"
    }
   ],
   "source": [
    "X_aug = random_gaussianfilter3d(X, 0.2)\n",
    "fig, ax = plt.subplots()\n",
    "pos = ax.imshow(np.squeeze(X_aug[:, :, 10]), cmap=\"gray\")"
   ]
  },
  {
   "cell_type": "code",
   "execution_count": 311,
   "metadata": {},
   "outputs": [],
   "source": [
    "@tf.function\n",
    "def augment_3d(volume):\n",
    "    \"\"\"Rotate the volume by a few degrees\"\"\"\n",
    "\n",
    "    def augment(volume):\n",
    "        #volume = random_zoom3d(volume, 0.8, 1.3)\n",
    "        volume = random_rotate3d(volume, -20, 20, -5, 5, -5, 5)\n",
    "        volume = random_shift3d(volume, -20, 20, -20, 20, 0, 0) #do not shift in z direction\n",
    "        #volume = random_flip3d(volume)\n",
    "        #volume = random_gaussianfilter3d(volume, 0.2)\n",
    "        return volume\n",
    "    \n",
    "    volume_shape = volume.shape\n",
    "    augmented_volume = tf.numpy_function(augment, [volume], np.float64)\n",
    "    augmented_volume = tf.reshape(augmented_volume, volume_shape)\n",
    "    return augmented_volume"
   ]
  },
  {
   "cell_type": "code",
   "execution_count": 325,
   "metadata": {},
   "outputs": [],
   "source": [
    "@tf.function\n",
    "def augment_3d(volume):\n",
    "    \"\"\"Rotate the volume by a few degrees\"\"\"\n",
    "\n",
    "    def augment(volume):\n",
    "        rand = np.random.randint(0,6)\n",
    "        if rand == 0:\n",
    "            volume = random_zoom3d(volume, 0.8, 1.3)\n",
    "        if rand == 1:\n",
    "            volume = random_rotate3d(volume, -20, 20, -5, 5, -5, 5)\n",
    "        if rand == 2:\n",
    "            volume = random_shift3d(volume, -20, 20, -20, 20, 0, 0) #do not shift in z direction\n",
    "        if rand == 3:\n",
    "            volume = random_flip3d(volume)\n",
    "        if rand == 4:\n",
    "            volume = random_gaussianfilter3d(volume, 0.2)\n",
    "        if rand == 5:\n",
    "            volume = volume\n",
    "        return volume\n",
    "    \n",
    "    volume_shape = volume.shape\n",
    "    augmented_volume = tf.numpy_function(augment, [volume], np.float64)\n",
    "    augmented_volume = tf.reshape(augmented_volume, volume_shape)\n",
    "    return augmented_volume"
   ]
  },
  {
   "cell_type": "code",
   "execution_count": 312,
   "metadata": {},
   "outputs": [],
   "source": [
    "def train_preprocessing(volume, label):\n",
    "    \"\"\"Process training data by rotating and adding a channel.\"\"\"\n",
    "    #volume = tf.expand_dims(volume, axis=3)\n",
    "    volume = augment_3d(volume)\n",
    "    return volume, label\n",
    "\n",
    "\n",
    "def validation_preprocessing(volume, label):\n",
    "    \"\"\"Process validation data by only adding a channel.\"\"\"\n",
    "    #volume = tf.expand_dims(volume, axis=3)\n",
    "    return volume, label"
   ]
  },
  {
   "cell_type": "markdown",
   "metadata": {},
   "source": [
    "### Define data loaders"
   ]
  },
  {
   "cell_type": "code",
   "execution_count": 34,
   "metadata": {},
   "outputs": [],
   "source": [
    "# Define data loaders.\n",
    "train_loader = tf.data.Dataset.from_tensor_slices((X_train, Y_train))\n",
    "validation_loader = tf.data.Dataset.from_tensor_slices((X_test, Y_test))"
   ]
  },
  {
   "cell_type": "code",
   "execution_count": 35,
   "metadata": {},
   "outputs": [
    {
     "data": {
      "text/plain": [
       "<TensorSliceDataset shapes: ((40, 128, 112, 3), (2,)), types: (tf.float64, tf.float32)>"
      ]
     },
     "execution_count": 35,
     "metadata": {},
     "output_type": "execute_result"
    }
   ],
   "source": [
    "train_loader"
   ]
  },
  {
   "cell_type": "code",
   "execution_count": 36,
   "metadata": {},
   "outputs": [],
   "source": [
    "batch_size = 4\n",
    "# Augment the on the fly during training.\n",
    "train_dataset = (\n",
    "    \n",
    "    train_loader.shuffle(len(X_train))\n",
    "    #.map(train_preprocessing)\n",
    "    .batch(batch_size)\n",
    "    .prefetch(2)\n",
    ")\n",
    "# Only rescale.\n",
    "validation_dataset = (\n",
    "    validation_loader.shuffle(len(X_test))\n",
    "    #.map(validation_preprocessing)\n",
    "    .batch(batch_size)\n",
    "    .prefetch(2)\n",
    ")"
   ]
  },
  {
   "cell_type": "code",
   "execution_count": 37,
   "metadata": {},
   "outputs": [
    {
     "data": {
      "text/plain": [
       "<PrefetchDataset shapes: ((None, 40, 128, 112, 3), (None, 2)), types: (tf.float64, tf.float32)>"
      ]
     },
     "execution_count": 37,
     "metadata": {},
     "output_type": "execute_result"
    }
   ],
   "source": [
    "train_dataset"
   ]
  },
  {
   "cell_type": "code",
   "execution_count": 123,
   "metadata": {},
   "outputs": [
    {
     "name": "stdout",
     "output_type": "stream",
     "text": [
      "Dimension of the CT scan is: (40, 128, 112, 3)\n"
     ]
    },
    {
     "data": {
      "text/plain": [
       "<matplotlib.image.AxesImage at 0x7f4265ba6a20>"
      ]
     },
     "execution_count": 123,
     "metadata": {},
     "output_type": "execute_result"
    },
    {
     "data": {
      "image/png": "[encoded data removed]",
      "text/plain": [
       "<Figure size 432x288 with 1 Axes>"
      ]
     },
     "metadata": {
      "needs_background": "light"
     },
     "output_type": "display_data"
    }
   ],
   "source": [
    "data = train_dataset.take(1)\n",
    "images, labels = list(data)[0]\n",
    "images = images.numpy()\n",
    "image = images[0]\n",
    "print(\"Dimension of the CT scan is:\", image.shape)\n",
    "plt.imshow(np.squeeze(image[0, :, :]), cmap=\"gray\")"
   ]
  },
  {
   "cell_type": "code",
   "execution_count": 19,
   "metadata": {
    "scrolled": true
   },
   "outputs": [],
   "source": [
    "def plot_slices(num_rows, num_columns, width, height, data):\n",
    "    \"\"\"Plot a montage of 20 CT slices\"\"\"\n",
    "    data = np.rot90(np.array(data))\n",
    "    data = np.transpose(data)\n",
    "    data = np.reshape(data, (num_rows, num_columns, width, height))\n",
    "    rows_data, columns_data = data.shape[0], data.shape[1]\n",
    "    heights = [slc[0].shape[0] for slc in data]\n",
    "    widths = [slc.shape[1] for slc in data[0]]\n",
    "    fig_width = 12.0\n",
    "    fig_height = fig_width * sum(heights) / sum(widths)\n",
    "    f, axarr = plt.subplots(\n",
    "        rows_data,\n",
    "        columns_data,\n",
    "        figsize=(fig_width, fig_height),\n",
    "        gridspec_kw={\"height_ratios\": heights},\n",
    "    )\n",
    "    for i in range(rows_data):\n",
    "        for j in range(columns_data):\n",
    "            axarr[i, j].imshow(data[i][j], cmap=\"gray\")\n",
    "            axarr[i, j].axis(\"off\")\n",
    "    plt.subplots_adjust(wspace=0, hspace=0, left=0, right=1, bottom=0, top=1)\n",
    "    fig = plt.gcf()\n",
    "    plt.show()\n",
    "    fig.savefig('Rotatet slices', dpi = 100,bbox_inches='tight')"
   ]
  },
  {
   "cell_type": "code",
   "execution_count": null,
   "metadata": {},
   "outputs": [],
   "source": [
    "# Visualize montage of slices.\n",
    "# 4 rows and 10 columns for 100 slices of the CT scan.\n",
    "plot_slices(4, 10, 128, 112, image[:, :, :40])"
   ]
  },
  {
   "cell_type": "markdown",
   "metadata": {},
   "source": [
    "### Build CNN"
   ]
  },
  {
   "cell_type": "code",
   "execution_count": 77,
   "metadata": {},
   "outputs": [],
   "source": [
    "def reset_keras():\n",
    "    \"\"\"\n",
    "    Resets the Tensorflow graph and clears the session. Should be executed after eevery traning session with a model.\n",
    "\n",
    "    :return:\n",
    "    \"\"\"\n",
    "    sess = tf.compat.v1.keras.backend.get_session()\n",
    "    tf.keras.backend.clear_session()\n",
    "    sess.close()\n",
    "    sess = tf.compat.v1.keras.backend.get_session()\n",
    "\n",
    "    try:\n",
    "        del model # this is from global space - change this as you need\n",
    "    except:\n",
    "        pass\n",
    "\n",
    "    print(gc.collect()) # if it's done something you should see a number being outputted\n",
    "\n",
    "    # use the same config as you used to create the session\n",
    "    config = ConfigProto()\n",
    "    config.gpu_options.per_process_gpu_memory_fraction = 1\n",
    "    config.gpu_options.visible_device_list = \"0\"\n",
    "    tf.compat.v1.keras.backend.set_session(Session(config=config))"
   ]
  },
  {
   "cell_type": "code",
   "execution_count": 92,
   "metadata": {},
   "outputs": [
    {
     "name": "stdout",
     "output_type": "stream",
     "text": [
      "1509\n"
     ]
    }
   ],
   "source": [
    "reset_keras()"
   ]
  },
  {
   "cell_type": "markdown",
   "metadata": {},
   "source": [
    "### Build CNN"
   ]
  },
  {
   "cell_type": "code",
   "execution_count": 104,
   "metadata": {},
   "outputs": [
    {
     "name": "stdout",
     "output_type": "stream",
     "text": [
      "Model: \"i3d_inception\"\n",
      "__________________________________________________________________________________________________\n",
      "Layer (type)                    Output Shape         Param #     Connected to                     \n",
      "==================================================================================================\n",
      "input_5 (InputLayer)            [(None, 40, 128, 112 0                                            \n",
      "__________________________________________________________________________________________________\n",
      "Conv3d_1a_7x7_conv (Conv3D)     (None, 20, 64, 56, 6 65856       input_5[0][0]                    \n",
      "__________________________________________________________________________________________________\n",
      "Conv3d_1a_7x7_bn (BatchNormaliz (None, 20, 64, 56, 6 192         Conv3d_1a_7x7_conv[0][0]         \n",
      "__________________________________________________________________________________________________\n",
      "Conv3d_1a_7x7 (Activation)      (None, 20, 64, 56, 6 0           Conv3d_1a_7x7_bn[0][0]           \n",
      "__________________________________________________________________________________________________\n",
      "MaxPool2d_2a_3x3 (MaxPooling3D) (None, 20, 32, 28, 6 0           Conv3d_1a_7x7[0][0]              \n",
      "__________________________________________________________________________________________________\n",
      "Conv3d_2b_1x1_conv (Conv3D)     (None, 20, 32, 28, 6 4096        MaxPool2d_2a_3x3[0][0]           \n",
      "__________________________________________________________________________________________________\n",
      "Conv3d_2b_1x1_bn (BatchNormaliz (None, 20, 32, 28, 6 192         Conv3d_2b_1x1_conv[0][0]         \n",
      "__________________________________________________________________________________________________\n",
      "Conv3d_2b_1x1 (Activation)      (None, 20, 32, 28, 6 0           Conv3d_2b_1x1_bn[0][0]           \n",
      "__________________________________________________________________________________________________\n",
      "Conv3d_2c_3x3_conv (Conv3D)     (None, 20, 32, 28, 1 331776      Conv3d_2b_1x1[0][0]              \n",
      "__________________________________________________________________________________________________\n",
      "Conv3d_2c_3x3_bn (BatchNormaliz (None, 20, 32, 28, 1 576         Conv3d_2c_3x3_conv[0][0]         \n",
      "__________________________________________________________________________________________________\n",
      "Conv3d_2c_3x3 (Activation)      (None, 20, 32, 28, 1 0           Conv3d_2c_3x3_bn[0][0]           \n",
      "__________________________________________________________________________________________________\n",
      "MaxPool2d_3a_3x3 (MaxPooling3D) (None, 20, 16, 14, 1 0           Conv3d_2c_3x3[0][0]              \n",
      "__________________________________________________________________________________________________\n",
      "Conv3d_3b_1a_1x1_conv (Conv3D)  (None, 20, 16, 14, 9 18432       MaxPool2d_3a_3x3[0][0]           \n",
      "__________________________________________________________________________________________________\n",
      "Conv3d_3b_2a_1x1_conv (Conv3D)  (None, 20, 16, 14, 1 3072        MaxPool2d_3a_3x3[0][0]           \n",
      "__________________________________________________________________________________________________\n",
      "Conv3d_3b_1a_1x1_bn (BatchNorma (None, 20, 16, 14, 9 288         Conv3d_3b_1a_1x1_conv[0][0]      \n",
      "__________________________________________________________________________________________________\n",
      "Conv3d_3b_2a_1x1_bn (BatchNorma (None, 20, 16, 14, 1 48          Conv3d_3b_2a_1x1_conv[0][0]      \n",
      "__________________________________________________________________________________________________\n",
      "Conv3d_3b_1a_1x1 (Activation)   (None, 20, 16, 14, 9 0           Conv3d_3b_1a_1x1_bn[0][0]        \n",
      "__________________________________________________________________________________________________\n",
      "Conv3d_3b_2a_1x1 (Activation)   (None, 20, 16, 14, 1 0           Conv3d_3b_2a_1x1_bn[0][0]        \n",
      "__________________________________________________________________________________________________\n",
      "MaxPool2d_3b_3a_3x3 (MaxPooling (None, 20, 16, 14, 1 0           MaxPool2d_3a_3x3[0][0]           \n",
      "__________________________________________________________________________________________________\n",
      "Conv3d_3b_0a_1x1_conv (Conv3D)  (None, 20, 16, 14, 6 12288       MaxPool2d_3a_3x3[0][0]           \n",
      "__________________________________________________________________________________________________\n",
      "Conv3d_3b_1b_3x3_conv (Conv3D)  (None, 20, 16, 14, 1 331776      Conv3d_3b_1a_1x1[0][0]           \n",
      "__________________________________________________________________________________________________\n",
      "Conv3d_3b_2b_3x3_conv (Conv3D)  (None, 20, 16, 14, 3 13824       Conv3d_3b_2a_1x1[0][0]           \n",
      "__________________________________________________________________________________________________\n",
      "Conv3d_3b_3b_1x1_conv (Conv3D)  (None, 20, 16, 14, 3 6144        MaxPool2d_3b_3a_3x3[0][0]        \n",
      "__________________________________________________________________________________________________\n",
      "Conv3d_3b_0a_1x1_bn (BatchNorma (None, 20, 16, 14, 6 192         Conv3d_3b_0a_1x1_conv[0][0]      \n",
      "__________________________________________________________________________________________________\n",
      "Conv3d_3b_1b_3x3_bn (BatchNorma (None, 20, 16, 14, 1 384         Conv3d_3b_1b_3x3_conv[0][0]      \n",
      "__________________________________________________________________________________________________\n",
      "Conv3d_3b_2b_3x3_bn (BatchNorma (None, 20, 16, 14, 3 96          Conv3d_3b_2b_3x3_conv[0][0]      \n",
      "__________________________________________________________________________________________________\n",
      "Conv3d_3b_3b_1x1_bn (BatchNorma (None, 20, 16, 14, 3 96          Conv3d_3b_3b_1x1_conv[0][0]      \n",
      "__________________________________________________________________________________________________\n",
      "Conv3d_3b_0a_1x1 (Activation)   (None, 20, 16, 14, 6 0           Conv3d_3b_0a_1x1_bn[0][0]        \n",
      "__________________________________________________________________________________________________\n",
      "Conv3d_3b_1b_3x3 (Activation)   (None, 20, 16, 14, 1 0           Conv3d_3b_1b_3x3_bn[0][0]        \n",
      "__________________________________________________________________________________________________\n",
      "Conv3d_3b_2b_3x3 (Activation)   (None, 20, 16, 14, 3 0           Conv3d_3b_2b_3x3_bn[0][0]        \n",
      "__________________________________________________________________________________________________\n",
      "Conv3d_3b_3b_1x1 (Activation)   (None, 20, 16, 14, 3 0           Conv3d_3b_3b_1x1_bn[0][0]        \n",
      "__________________________________________________________________________________________________\n",
      "Mixed_3b (Concatenate)          (None, 20, 16, 14, 2 0           Conv3d_3b_0a_1x1[0][0]           \n",
      "                                                                 Conv3d_3b_1b_3x3[0][0]           \n",
      "                                                                 Conv3d_3b_2b_3x3[0][0]           \n",
      "                                                                 Conv3d_3b_3b_1x1[0][0]           \n",
      "__________________________________________________________________________________________________\n",
      "Conv3d_3c_1a_1x1_conv (Conv3D)  (None, 20, 16, 14, 1 32768       Mixed_3b[0][0]                   \n",
      "__________________________________________________________________________________________________\n",
      "Conv3d_3c_2a_1x1_conv (Conv3D)  (None, 20, 16, 14, 3 8192        Mixed_3b[0][0]                   \n",
      "__________________________________________________________________________________________________\n",
      "Conv3d_3c_1a_1x1_bn (BatchNorma (None, 20, 16, 14, 1 384         Conv3d_3c_1a_1x1_conv[0][0]      \n",
      "__________________________________________________________________________________________________\n",
      "Conv3d_3c_2a_1x1_bn (BatchNorma (None, 20, 16, 14, 3 96          Conv3d_3c_2a_1x1_conv[0][0]      \n",
      "__________________________________________________________________________________________________\n",
      "Conv3d_3c_1a_1x1 (Activation)   (None, 20, 16, 14, 1 0           Conv3d_3c_1a_1x1_bn[0][0]        \n",
      "__________________________________________________________________________________________________\n",
      "Conv3d_3c_2a_1x1 (Activation)   (None, 20, 16, 14, 3 0           Conv3d_3c_2a_1x1_bn[0][0]        \n",
      "__________________________________________________________________________________________________\n",
      "MaxPool2d_3c_3a_3x3 (MaxPooling (None, 20, 16, 14, 2 0           Mixed_3b[0][0]                   \n",
      "__________________________________________________________________________________________________\n",
      "Conv3d_3c_0a_1x1_conv (Conv3D)  (None, 20, 16, 14, 1 32768       Mixed_3b[0][0]                   \n",
      "__________________________________________________________________________________________________\n",
      "Conv3d_3c_1b_3x3_conv (Conv3D)  (None, 20, 16, 14, 1 663552      Conv3d_3c_1a_1x1[0][0]           \n",
      "__________________________________________________________________________________________________\n",
      "Conv3d_3c_2b_3x3_conv (Conv3D)  (None, 20, 16, 14, 9 82944       Conv3d_3c_2a_1x1[0][0]           \n",
      "__________________________________________________________________________________________________\n",
      "Conv3d_3c_3b_1x1_conv (Conv3D)  (None, 20, 16, 14, 6 16384       MaxPool2d_3c_3a_3x3[0][0]        \n",
      "__________________________________________________________________________________________________\n",
      "Conv3d_3c_0a_1x1_bn (BatchNorma (None, 20, 16, 14, 1 384         Conv3d_3c_0a_1x1_conv[0][0]      \n",
      "__________________________________________________________________________________________________\n",
      "Conv3d_3c_1b_3x3_bn (BatchNorma (None, 20, 16, 14, 1 576         Conv3d_3c_1b_3x3_conv[0][0]      \n",
      "__________________________________________________________________________________________________\n",
      "Conv3d_3c_2b_3x3_bn (BatchNorma (None, 20, 16, 14, 9 288         Conv3d_3c_2b_3x3_conv[0][0]      \n",
      "__________________________________________________________________________________________________\n",
      "Conv3d_3c_3b_1x1_bn (BatchNorma (None, 20, 16, 14, 6 192         Conv3d_3c_3b_1x1_conv[0][0]      \n",
      "__________________________________________________________________________________________________\n",
      "Conv3d_3c_0a_1x1 (Activation)   (None, 20, 16, 14, 1 0           Conv3d_3c_0a_1x1_bn[0][0]        \n",
      "__________________________________________________________________________________________________\n",
      "Conv3d_3c_1b_3x3 (Activation)   (None, 20, 16, 14, 1 0           Conv3d_3c_1b_3x3_bn[0][0]        \n",
      "__________________________________________________________________________________________________\n",
      "Conv3d_3c_2b_3x3 (Activation)   (None, 20, 16, 14, 9 0           Conv3d_3c_2b_3x3_bn[0][0]        \n",
      "__________________________________________________________________________________________________\n",
      "Conv3d_3c_3b_1x1 (Activation)   (None, 20, 16, 14, 6 0           Conv3d_3c_3b_1x1_bn[0][0]        \n",
      "__________________________________________________________________________________________________\n",
      "Mixed_3c (Concatenate)          (None, 20, 16, 14, 4 0           Conv3d_3c_0a_1x1[0][0]           \n",
      "                                                                 Conv3d_3c_1b_3x3[0][0]           \n",
      "                                                                 Conv3d_3c_2b_3x3[0][0]           \n",
      "                                                                 Conv3d_3c_3b_1x1[0][0]           \n",
      "__________________________________________________________________________________________________\n",
      "MaxPool2d_4a_3x3 (MaxPooling3D) (None, 10, 8, 7, 480 0           Mixed_3c[0][0]                   \n",
      "__________________________________________________________________________________________________\n",
      "Conv3d_4b_1a_1x1_conv (Conv3D)  (None, 10, 8, 7, 96) 46080       MaxPool2d_4a_3x3[0][0]           \n",
      "__________________________________________________________________________________________________\n",
      "Conv3d_4b_2a_1x1_conv (Conv3D)  (None, 10, 8, 7, 16) 7680        MaxPool2d_4a_3x3[0][0]           \n",
      "__________________________________________________________________________________________________\n",
      "Conv3d_4b_1a_1x1_bn (BatchNorma (None, 10, 8, 7, 96) 288         Conv3d_4b_1a_1x1_conv[0][0]      \n",
      "__________________________________________________________________________________________________\n",
      "Conv3d_4b_2a_1x1_bn (BatchNorma (None, 10, 8, 7, 16) 48          Conv3d_4b_2a_1x1_conv[0][0]      \n",
      "__________________________________________________________________________________________________\n",
      "Conv3d_4b_1a_1x1 (Activation)   (None, 10, 8, 7, 96) 0           Conv3d_4b_1a_1x1_bn[0][0]        \n",
      "__________________________________________________________________________________________________\n",
      "Conv3d_4b_2a_1x1 (Activation)   (None, 10, 8, 7, 16) 0           Conv3d_4b_2a_1x1_bn[0][0]        \n",
      "__________________________________________________________________________________________________\n",
      "MaxPool2d_4b_3a_3x3 (MaxPooling (None, 10, 8, 7, 480 0           MaxPool2d_4a_3x3[0][0]           \n",
      "__________________________________________________________________________________________________\n",
      "Conv3d_4b_0a_1x1_conv (Conv3D)  (None, 10, 8, 7, 192 92160       MaxPool2d_4a_3x3[0][0]           \n",
      "__________________________________________________________________________________________________\n",
      "Conv3d_4b_1b_3x3_conv (Conv3D)  (None, 10, 8, 7, 208 539136      Conv3d_4b_1a_1x1[0][0]           \n",
      "__________________________________________________________________________________________________\n",
      "Conv3d_4b_2b_3x3_conv (Conv3D)  (None, 10, 8, 7, 48) 20736       Conv3d_4b_2a_1x1[0][0]           \n",
      "__________________________________________________________________________________________________\n",
      "Conv3d_4b_3b_1x1_conv (Conv3D)  (None, 10, 8, 7, 64) 30720       MaxPool2d_4b_3a_3x3[0][0]        \n",
      "__________________________________________________________________________________________________\n",
      "Conv3d_4b_0a_1x1_bn (BatchNorma (None, 10, 8, 7, 192 576         Conv3d_4b_0a_1x1_conv[0][0]      \n",
      "__________________________________________________________________________________________________\n",
      "Conv3d_4b_1b_3x3_bn (BatchNorma (None, 10, 8, 7, 208 624         Conv3d_4b_1b_3x3_conv[0][0]      \n",
      "__________________________________________________________________________________________________\n",
      "Conv3d_4b_2b_3x3_bn (BatchNorma (None, 10, 8, 7, 48) 144         Conv3d_4b_2b_3x3_conv[0][0]      \n",
      "__________________________________________________________________________________________________\n",
      "Conv3d_4b_3b_1x1_bn (BatchNorma (None, 10, 8, 7, 64) 192         Conv3d_4b_3b_1x1_conv[0][0]      \n",
      "__________________________________________________________________________________________________\n",
      "Conv3d_4b_0a_1x1 (Activation)   (None, 10, 8, 7, 192 0           Conv3d_4b_0a_1x1_bn[0][0]        \n",
      "__________________________________________________________________________________________________\n",
      "Conv3d_4b_1b_3x3 (Activation)   (None, 10, 8, 7, 208 0           Conv3d_4b_1b_3x3_bn[0][0]        \n",
      "__________________________________________________________________________________________________\n",
      "Conv3d_4b_2b_3x3 (Activation)   (None, 10, 8, 7, 48) 0           Conv3d_4b_2b_3x3_bn[0][0]        \n",
      "__________________________________________________________________________________________________\n",
      "Conv3d_4b_3b_1x1 (Activation)   (None, 10, 8, 7, 64) 0           Conv3d_4b_3b_1x1_bn[0][0]        \n",
      "__________________________________________________________________________________________________\n",
      "Mixed_4b (Concatenate)          (None, 10, 8, 7, 512 0           Conv3d_4b_0a_1x1[0][0]           \n",
      "                                                                 Conv3d_4b_1b_3x3[0][0]           \n",
      "                                                                 Conv3d_4b_2b_3x3[0][0]           \n",
      "                                                                 Conv3d_4b_3b_1x1[0][0]           \n",
      "__________________________________________________________________________________________________\n",
      "Conv3d_4c_1a_1x1_conv (Conv3D)  (None, 10, 8, 7, 112 57344       Mixed_4b[0][0]                   \n",
      "__________________________________________________________________________________________________\n",
      "Conv3d_4c_2a_1x1_conv (Conv3D)  (None, 10, 8, 7, 24) 12288       Mixed_4b[0][0]                   \n",
      "__________________________________________________________________________________________________\n",
      "Conv3d_4c_1a_1x1_bn (BatchNorma (None, 10, 8, 7, 112 336         Conv3d_4c_1a_1x1_conv[0][0]      \n",
      "__________________________________________________________________________________________________\n",
      "Conv3d_4c_2a_1x1_bn (BatchNorma (None, 10, 8, 7, 24) 72          Conv3d_4c_2a_1x1_conv[0][0]      \n",
      "__________________________________________________________________________________________________\n",
      "Conv3d_4c_1a_1x1 (Activation)   (None, 10, 8, 7, 112 0           Conv3d_4c_1a_1x1_bn[0][0]        \n",
      "__________________________________________________________________________________________________\n",
      "Conv3d_4c_2a_1x1 (Activation)   (None, 10, 8, 7, 24) 0           Conv3d_4c_2a_1x1_bn[0][0]        \n",
      "__________________________________________________________________________________________________\n",
      "MaxPool2d_4c_3a_3x3 (MaxPooling (None, 10, 8, 7, 512 0           Mixed_4b[0][0]                   \n",
      "__________________________________________________________________________________________________\n",
      "Conv3d_4c_0a_1x1_conv (Conv3D)  (None, 10, 8, 7, 160 81920       Mixed_4b[0][0]                   \n",
      "__________________________________________________________________________________________________\n",
      "Conv3d_4c_1b_3x3_conv (Conv3D)  (None, 10, 8, 7, 224 677376      Conv3d_4c_1a_1x1[0][0]           \n",
      "__________________________________________________________________________________________________\n",
      "Conv3d_4c_2b_3x3_conv (Conv3D)  (None, 10, 8, 7, 64) 41472       Conv3d_4c_2a_1x1[0][0]           \n",
      "__________________________________________________________________________________________________\n",
      "Conv3d_4c_3b_1x1_conv (Conv3D)  (None, 10, 8, 7, 64) 32768       MaxPool2d_4c_3a_3x3[0][0]        \n",
      "__________________________________________________________________________________________________\n",
      "Conv3d_4c_0a_1x1_bn (BatchNorma (None, 10, 8, 7, 160 480         Conv3d_4c_0a_1x1_conv[0][0]      \n",
      "__________________________________________________________________________________________________\n",
      "Conv3d_4c_1b_3x3_bn (BatchNorma (None, 10, 8, 7, 224 672         Conv3d_4c_1b_3x3_conv[0][0]      \n",
      "__________________________________________________________________________________________________\n",
      "Conv3d_4c_2b_3x3_bn (BatchNorma (None, 10, 8, 7, 64) 192         Conv3d_4c_2b_3x3_conv[0][0]      \n",
      "__________________________________________________________________________________________________\n",
      "Conv3d_4c_3b_1x1_bn (BatchNorma (None, 10, 8, 7, 64) 192         Conv3d_4c_3b_1x1_conv[0][0]      \n",
      "__________________________________________________________________________________________________\n",
      "Conv3d_4c_0a_1x1 (Activation)   (None, 10, 8, 7, 160 0           Conv3d_4c_0a_1x1_bn[0][0]        \n",
      "__________________________________________________________________________________________________\n",
      "Conv3d_4c_1b_3x3 (Activation)   (None, 10, 8, 7, 224 0           Conv3d_4c_1b_3x3_bn[0][0]        \n",
      "__________________________________________________________________________________________________\n",
      "Conv3d_4c_2b_3x3 (Activation)   (None, 10, 8, 7, 64) 0           Conv3d_4c_2b_3x3_bn[0][0]        \n",
      "__________________________________________________________________________________________________\n",
      "Conv3d_4c_3b_1x1 (Activation)   (None, 10, 8, 7, 64) 0           Conv3d_4c_3b_1x1_bn[0][0]        \n",
      "__________________________________________________________________________________________________\n",
      "Mixed_4c (Concatenate)          (None, 10, 8, 7, 512 0           Conv3d_4c_0a_1x1[0][0]           \n",
      "                                                                 Conv3d_4c_1b_3x3[0][0]           \n",
      "                                                                 Conv3d_4c_2b_3x3[0][0]           \n",
      "                                                                 Conv3d_4c_3b_1x1[0][0]           \n",
      "__________________________________________________________________________________________________\n",
      "Conv3d_4d_1a_1x1_conv (Conv3D)  (None, 10, 8, 7, 128 65536       Mixed_4c[0][0]                   \n",
      "__________________________________________________________________________________________________\n",
      "Conv3d_4d_2a_1x1_conv (Conv3D)  (None, 10, 8, 7, 24) 12288       Mixed_4c[0][0]                   \n",
      "__________________________________________________________________________________________________\n",
      "Conv3d_4d_1a_1x1_bn (BatchNorma (None, 10, 8, 7, 128 384         Conv3d_4d_1a_1x1_conv[0][0]      \n",
      "__________________________________________________________________________________________________\n",
      "Conv3d_4d_2a_1x1_bn (BatchNorma (None, 10, 8, 7, 24) 72          Conv3d_4d_2a_1x1_conv[0][0]      \n",
      "__________________________________________________________________________________________________\n",
      "Conv3d_4d_1a_1x1 (Activation)   (None, 10, 8, 7, 128 0           Conv3d_4d_1a_1x1_bn[0][0]        \n",
      "__________________________________________________________________________________________________\n",
      "Conv3d_4d_2a_1x1 (Activation)   (None, 10, 8, 7, 24) 0           Conv3d_4d_2a_1x1_bn[0][0]        \n",
      "__________________________________________________________________________________________________\n",
      "MaxPool2d_4d_3a_3x3 (MaxPooling (None, 10, 8, 7, 512 0           Mixed_4c[0][0]                   \n",
      "__________________________________________________________________________________________________\n",
      "Conv3d_4d_0a_1x1_conv (Conv3D)  (None, 10, 8, 7, 128 65536       Mixed_4c[0][0]                   \n",
      "__________________________________________________________________________________________________\n",
      "Conv3d_4d_1b_3x3_conv (Conv3D)  (None, 10, 8, 7, 256 884736      Conv3d_4d_1a_1x1[0][0]           \n",
      "__________________________________________________________________________________________________\n",
      "Conv3d_4d_2b_3x3_conv (Conv3D)  (None, 10, 8, 7, 64) 41472       Conv3d_4d_2a_1x1[0][0]           \n",
      "__________________________________________________________________________________________________\n",
      "Conv3d_4d_3b_1x1_conv (Conv3D)  (None, 10, 8, 7, 64) 32768       MaxPool2d_4d_3a_3x3[0][0]        \n",
      "__________________________________________________________________________________________________\n",
      "Conv3d_4d_0a_1x1_bn (BatchNorma (None, 10, 8, 7, 128 384         Conv3d_4d_0a_1x1_conv[0][0]      \n",
      "__________________________________________________________________________________________________\n",
      "Conv3d_4d_1b_3x3_bn (BatchNorma (None, 10, 8, 7, 256 768         Conv3d_4d_1b_3x3_conv[0][0]      \n",
      "__________________________________________________________________________________________________\n",
      "Conv3d_4d_2b_3x3_bn (BatchNorma (None, 10, 8, 7, 64) 192         Conv3d_4d_2b_3x3_conv[0][0]      \n",
      "__________________________________________________________________________________________________\n",
      "Conv3d_4d_3b_1x1_bn (BatchNorma (None, 10, 8, 7, 64) 192         Conv3d_4d_3b_1x1_conv[0][0]      \n",
      "__________________________________________________________________________________________________\n",
      "Conv3d_4d_0a_1x1 (Activation)   (None, 10, 8, 7, 128 0           Conv3d_4d_0a_1x1_bn[0][0]        \n",
      "__________________________________________________________________________________________________\n",
      "Conv3d_4d_1b_3x3 (Activation)   (None, 10, 8, 7, 256 0           Conv3d_4d_1b_3x3_bn[0][0]        \n",
      "__________________________________________________________________________________________________\n",
      "Conv3d_4d_2b_3x3 (Activation)   (None, 10, 8, 7, 64) 0           Conv3d_4d_2b_3x3_bn[0][0]        \n",
      "__________________________________________________________________________________________________\n",
      "Conv3d_4d_3b_1x1 (Activation)   (None, 10, 8, 7, 64) 0           Conv3d_4d_3b_1x1_bn[0][0]        \n",
      "__________________________________________________________________________________________________\n",
      "Mixed_4d (Concatenate)          (None, 10, 8, 7, 512 0           Conv3d_4d_0a_1x1[0][0]           \n",
      "                                                                 Conv3d_4d_1b_3x3[0][0]           \n",
      "                                                                 Conv3d_4d_2b_3x3[0][0]           \n",
      "                                                                 Conv3d_4d_3b_1x1[0][0]           \n",
      "__________________________________________________________________________________________________\n",
      "Conv3d_4e_1a_1x1_conv (Conv3D)  (None, 10, 8, 7, 144 73728       Mixed_4d[0][0]                   \n",
      "__________________________________________________________________________________________________\n",
      "Conv3d_4e_2a_1x1_conv (Conv3D)  (None, 10, 8, 7, 32) 16384       Mixed_4d[0][0]                   \n",
      "__________________________________________________________________________________________________\n",
      "Conv3d_4e_1a_1x1_bn (BatchNorma (None, 10, 8, 7, 144 432         Conv3d_4e_1a_1x1_conv[0][0]      \n",
      "__________________________________________________________________________________________________\n",
      "Conv3d_4e_2a_1x1_bn (BatchNorma (None, 10, 8, 7, 32) 96          Conv3d_4e_2a_1x1_conv[0][0]      \n",
      "__________________________________________________________________________________________________\n",
      "Conv3d_4e_1a_1x1 (Activation)   (None, 10, 8, 7, 144 0           Conv3d_4e_1a_1x1_bn[0][0]        \n",
      "__________________________________________________________________________________________________\n",
      "Conv3d_4e_2a_1x1 (Activation)   (None, 10, 8, 7, 32) 0           Conv3d_4e_2a_1x1_bn[0][0]        \n",
      "__________________________________________________________________________________________________\n",
      "MaxPool2d_4e_3a_3x3 (MaxPooling (None, 10, 8, 7, 512 0           Mixed_4d[0][0]                   \n",
      "__________________________________________________________________________________________________\n",
      "Conv3d_4e_0a_1x1_conv (Conv3D)  (None, 10, 8, 7, 112 57344       Mixed_4d[0][0]                   \n",
      "__________________________________________________________________________________________________\n",
      "Conv3d_4e_1b_3x3_conv (Conv3D)  (None, 10, 8, 7, 288 1119744     Conv3d_4e_1a_1x1[0][0]           \n",
      "__________________________________________________________________________________________________\n",
      "Conv3d_4e_2b_3x3_conv (Conv3D)  (None, 10, 8, 7, 64) 55296       Conv3d_4e_2a_1x1[0][0]           \n",
      "__________________________________________________________________________________________________\n",
      "Conv3d_4e_3b_1x1_conv (Conv3D)  (None, 10, 8, 7, 64) 32768       MaxPool2d_4e_3a_3x3[0][0]        \n",
      "__________________________________________________________________________________________________\n",
      "Conv3d_4e_0a_1x1_bn (BatchNorma (None, 10, 8, 7, 112 336         Conv3d_4e_0a_1x1_conv[0][0]      \n",
      "__________________________________________________________________________________________________\n",
      "Conv3d_4e_1b_3x3_bn (BatchNorma (None, 10, 8, 7, 288 864         Conv3d_4e_1b_3x3_conv[0][0]      \n",
      "__________________________________________________________________________________________________\n",
      "Conv3d_4e_2b_3x3_bn (BatchNorma (None, 10, 8, 7, 64) 192         Conv3d_4e_2b_3x3_conv[0][0]      \n",
      "__________________________________________________________________________________________________\n",
      "Conv3d_4e_3b_1x1_bn (BatchNorma (None, 10, 8, 7, 64) 192         Conv3d_4e_3b_1x1_conv[0][0]      \n",
      "__________________________________________________________________________________________________\n",
      "Conv3d_4e_0a_1x1 (Activation)   (None, 10, 8, 7, 112 0           Conv3d_4e_0a_1x1_bn[0][0]        \n",
      "__________________________________________________________________________________________________\n",
      "Conv3d_4e_1b_3x3 (Activation)   (None, 10, 8, 7, 288 0           Conv3d_4e_1b_3x3_bn[0][0]        \n",
      "__________________________________________________________________________________________________\n",
      "Conv3d_4e_2b_3x3 (Activation)   (None, 10, 8, 7, 64) 0           Conv3d_4e_2b_3x3_bn[0][0]        \n",
      "__________________________________________________________________________________________________\n",
      "Conv3d_4e_3b_1x1 (Activation)   (None, 10, 8, 7, 64) 0           Conv3d_4e_3b_1x1_bn[0][0]        \n",
      "__________________________________________________________________________________________________\n",
      "Mixed_4e (Concatenate)          (None, 10, 8, 7, 528 0           Conv3d_4e_0a_1x1[0][0]           \n",
      "                                                                 Conv3d_4e_1b_3x3[0][0]           \n",
      "                                                                 Conv3d_4e_2b_3x3[0][0]           \n",
      "                                                                 Conv3d_4e_3b_1x1[0][0]           \n",
      "__________________________________________________________________________________________________\n",
      "Conv3d_4f_1a_1x1_conv (Conv3D)  (None, 10, 8, 7, 160 84480       Mixed_4e[0][0]                   \n",
      "__________________________________________________________________________________________________\n",
      "Conv3d_4f_2a_1x1_conv (Conv3D)  (None, 10, 8, 7, 32) 16896       Mixed_4e[0][0]                   \n",
      "__________________________________________________________________________________________________\n",
      "Conv3d_4f_1a_1x1_bn (BatchNorma (None, 10, 8, 7, 160 480         Conv3d_4f_1a_1x1_conv[0][0]      \n",
      "__________________________________________________________________________________________________\n",
      "Conv3d_4f_2a_1x1_bn (BatchNorma (None, 10, 8, 7, 32) 96          Conv3d_4f_2a_1x1_conv[0][0]      \n",
      "__________________________________________________________________________________________________\n",
      "Conv3d_4f_1a_1x1 (Activation)   (None, 10, 8, 7, 160 0           Conv3d_4f_1a_1x1_bn[0][0]        \n",
      "__________________________________________________________________________________________________\n",
      "Conv3d_4f_2a_1x1 (Activation)   (None, 10, 8, 7, 32) 0           Conv3d_4f_2a_1x1_bn[0][0]        \n",
      "__________________________________________________________________________________________________\n",
      "MaxPool2d_4f_3a_3x3 (MaxPooling (None, 10, 8, 7, 528 0           Mixed_4e[0][0]                   \n",
      "__________________________________________________________________________________________________\n",
      "Conv3d_4f_0a_1x1_conv (Conv3D)  (None, 10, 8, 7, 256 135168      Mixed_4e[0][0]                   \n",
      "__________________________________________________________________________________________________\n",
      "Conv3d_4f_1b_3x3_conv (Conv3D)  (None, 10, 8, 7, 320 1382400     Conv3d_4f_1a_1x1[0][0]           \n",
      "__________________________________________________________________________________________________\n",
      "Conv3d_4f_2b_3x3_conv (Conv3D)  (None, 10, 8, 7, 128 110592      Conv3d_4f_2a_1x1[0][0]           \n",
      "__________________________________________________________________________________________________\n",
      "Conv3d_4f_3b_1x1_conv (Conv3D)  (None, 10, 8, 7, 128 67584       MaxPool2d_4f_3a_3x3[0][0]        \n",
      "__________________________________________________________________________________________________\n",
      "Conv3d_4f_0a_1x1_bn (BatchNorma (None, 10, 8, 7, 256 768         Conv3d_4f_0a_1x1_conv[0][0]      \n",
      "__________________________________________________________________________________________________\n",
      "Conv3d_4f_1b_3x3_bn (BatchNorma (None, 10, 8, 7, 320 960         Conv3d_4f_1b_3x3_conv[0][0]      \n",
      "__________________________________________________________________________________________________\n",
      "Conv3d_4f_2b_3x3_bn (BatchNorma (None, 10, 8, 7, 128 384         Conv3d_4f_2b_3x3_conv[0][0]      \n",
      "__________________________________________________________________________________________________\n",
      "Conv3d_4f_3b_1x1_bn (BatchNorma (None, 10, 8, 7, 128 384         Conv3d_4f_3b_1x1_conv[0][0]      \n",
      "__________________________________________________________________________________________________\n",
      "Conv3d_4f_0a_1x1 (Activation)   (None, 10, 8, 7, 256 0           Conv3d_4f_0a_1x1_bn[0][0]        \n",
      "__________________________________________________________________________________________________\n",
      "Conv3d_4f_1b_3x3 (Activation)   (None, 10, 8, 7, 320 0           Conv3d_4f_1b_3x3_bn[0][0]        \n",
      "__________________________________________________________________________________________________\n",
      "Conv3d_4f_2b_3x3 (Activation)   (None, 10, 8, 7, 128 0           Conv3d_4f_2b_3x3_bn[0][0]        \n",
      "__________________________________________________________________________________________________\n",
      "Conv3d_4f_3b_1x1 (Activation)   (None, 10, 8, 7, 128 0           Conv3d_4f_3b_1x1_bn[0][0]        \n",
      "__________________________________________________________________________________________________\n",
      "Mixed_4f (Concatenate)          (None, 10, 8, 7, 832 0           Conv3d_4f_0a_1x1[0][0]           \n",
      "                                                                 Conv3d_4f_1b_3x3[0][0]           \n",
      "                                                                 Conv3d_4f_2b_3x3[0][0]           \n",
      "                                                                 Conv3d_4f_3b_1x1[0][0]           \n",
      "__________________________________________________________________________________________________\n",
      "MaxPool2d_5a_2x2 (MaxPooling3D) (None, 5, 4, 4, 832) 0           Mixed_4f[0][0]                   \n",
      "__________________________________________________________________________________________________\n",
      "Conv3d_5b_1a_1x1_conv (Conv3D)  (None, 5, 4, 4, 160) 133120      MaxPool2d_5a_2x2[0][0]           \n",
      "__________________________________________________________________________________________________\n",
      "Conv3d_5b_2a_1x1_conv (Conv3D)  (None, 5, 4, 4, 32)  26624       MaxPool2d_5a_2x2[0][0]           \n",
      "__________________________________________________________________________________________________\n",
      "Conv3d_5b_1a_1x1_bn (BatchNorma (None, 5, 4, 4, 160) 480         Conv3d_5b_1a_1x1_conv[0][0]      \n",
      "__________________________________________________________________________________________________\n",
      "Conv3d_5b_2a_1x1_bn (BatchNorma (None, 5, 4, 4, 32)  96          Conv3d_5b_2a_1x1_conv[0][0]      \n",
      "__________________________________________________________________________________________________\n",
      "Conv3d_5b_1a_1x1 (Activation)   (None, 5, 4, 4, 160) 0           Conv3d_5b_1a_1x1_bn[0][0]        \n",
      "__________________________________________________________________________________________________\n",
      "Conv3d_5b_2a_1x1 (Activation)   (None, 5, 4, 4, 32)  0           Conv3d_5b_2a_1x1_bn[0][0]        \n",
      "__________________________________________________________________________________________________\n",
      "MaxPool2d_5b_3a_3x3 (MaxPooling (None, 5, 4, 4, 832) 0           MaxPool2d_5a_2x2[0][0]           \n",
      "__________________________________________________________________________________________________\n",
      "Conv3d_5b_0a_1x1_conv (Conv3D)  (None, 5, 4, 4, 256) 212992      MaxPool2d_5a_2x2[0][0]           \n",
      "__________________________________________________________________________________________________\n",
      "Conv3d_5b_1b_3x3_conv (Conv3D)  (None, 5, 4, 4, 320) 1382400     Conv3d_5b_1a_1x1[0][0]           \n",
      "__________________________________________________________________________________________________\n",
      "Conv3d_5b_2b_3x3_conv (Conv3D)  (None, 5, 4, 4, 128) 110592      Conv3d_5b_2a_1x1[0][0]           \n",
      "__________________________________________________________________________________________________\n",
      "Conv3d_5b_3b_1x1_conv (Conv3D)  (None, 5, 4, 4, 128) 106496      MaxPool2d_5b_3a_3x3[0][0]        \n",
      "__________________________________________________________________________________________________\n",
      "Conv3d_5b_0a_1x1_bn (BatchNorma (None, 5, 4, 4, 256) 768         Conv3d_5b_0a_1x1_conv[0][0]      \n",
      "__________________________________________________________________________________________________\n",
      "Conv3d_5b_1b_3x3_bn (BatchNorma (None, 5, 4, 4, 320) 960         Conv3d_5b_1b_3x3_conv[0][0]      \n",
      "__________________________________________________________________________________________________\n",
      "Conv3d_5b_2b_3x3_bn (BatchNorma (None, 5, 4, 4, 128) 384         Conv3d_5b_2b_3x3_conv[0][0]      \n",
      "__________________________________________________________________________________________________\n",
      "Conv3d_5b_3b_1x1_bn (BatchNorma (None, 5, 4, 4, 128) 384         Conv3d_5b_3b_1x1_conv[0][0]      \n",
      "__________________________________________________________________________________________________\n",
      "Conv3d_5b_0a_1x1 (Activation)   (None, 5, 4, 4, 256) 0           Conv3d_5b_0a_1x1_bn[0][0]        \n",
      "__________________________________________________________________________________________________\n",
      "Conv3d_5b_1b_3x3 (Activation)   (None, 5, 4, 4, 320) 0           Conv3d_5b_1b_3x3_bn[0][0]        \n",
      "__________________________________________________________________________________________________\n",
      "Conv3d_5b_2b_3x3 (Activation)   (None, 5, 4, 4, 128) 0           Conv3d_5b_2b_3x3_bn[0][0]        \n",
      "__________________________________________________________________________________________________\n",
      "Conv3d_5b_3b_1x1 (Activation)   (None, 5, 4, 4, 128) 0           Conv3d_5b_3b_1x1_bn[0][0]        \n",
      "__________________________________________________________________________________________________\n",
      "Mixed_5b (Concatenate)          (None, 5, 4, 4, 832) 0           Conv3d_5b_0a_1x1[0][0]           \n",
      "                                                                 Conv3d_5b_1b_3x3[0][0]           \n",
      "                                                                 Conv3d_5b_2b_3x3[0][0]           \n",
      "                                                                 Conv3d_5b_3b_1x1[0][0]           \n",
      "__________________________________________________________________________________________________\n",
      "Conv3d_5c_1a_1x1_conv (Conv3D)  (None, 5, 4, 4, 192) 159744      Mixed_5b[0][0]                   \n",
      "__________________________________________________________________________________________________\n",
      "Conv3d_5c_2a_1x1_conv (Conv3D)  (None, 5, 4, 4, 48)  39936       Mixed_5b[0][0]                   \n",
      "__________________________________________________________________________________________________\n",
      "Conv3d_5c_1a_1x1_bn (BatchNorma (None, 5, 4, 4, 192) 576         Conv3d_5c_1a_1x1_conv[0][0]      \n",
      "__________________________________________________________________________________________________\n",
      "Conv3d_5c_2a_1x1_bn (BatchNorma (None, 5, 4, 4, 48)  144         Conv3d_5c_2a_1x1_conv[0][0]      \n",
      "__________________________________________________________________________________________________\n",
      "Conv3d_5c_1a_1x1 (Activation)   (None, 5, 4, 4, 192) 0           Conv3d_5c_1a_1x1_bn[0][0]        \n",
      "__________________________________________________________________________________________________\n",
      "Conv3d_5c_2a_1x1 (Activation)   (None, 5, 4, 4, 48)  0           Conv3d_5c_2a_1x1_bn[0][0]        \n",
      "__________________________________________________________________________________________________\n",
      "MaxPool2d_5c_3a_3x3 (MaxPooling (None, 5, 4, 4, 832) 0           Mixed_5b[0][0]                   \n",
      "__________________________________________________________________________________________________\n",
      "Conv3d_5c_0a_1x1_conv (Conv3D)  (None, 5, 4, 4, 384) 319488      Mixed_5b[0][0]                   \n",
      "__________________________________________________________________________________________________\n",
      "Conv3d_5c_1b_3x3_conv (Conv3D)  (None, 5, 4, 4, 384) 1990656     Conv3d_5c_1a_1x1[0][0]           \n",
      "__________________________________________________________________________________________________\n",
      "Conv3d_5c_2b_3x3_conv (Conv3D)  (None, 5, 4, 4, 128) 165888      Conv3d_5c_2a_1x1[0][0]           \n",
      "__________________________________________________________________________________________________\n",
      "Conv3d_5c_3b_1x1_conv (Conv3D)  (None, 5, 4, 4, 128) 106496      MaxPool2d_5c_3a_3x3[0][0]        \n",
      "__________________________________________________________________________________________________\n",
      "Conv3d_5c_0a_1x1_bn (BatchNorma (None, 5, 4, 4, 384) 1152        Conv3d_5c_0a_1x1_conv[0][0]      \n",
      "__________________________________________________________________________________________________\n",
      "Conv3d_5c_1b_3x3_bn (BatchNorma (None, 5, 4, 4, 384) 1152        Conv3d_5c_1b_3x3_conv[0][0]      \n",
      "__________________________________________________________________________________________________\n",
      "Conv3d_5c_2b_3x3_bn (BatchNorma (None, 5, 4, 4, 128) 384         Conv3d_5c_2b_3x3_conv[0][0]      \n",
      "__________________________________________________________________________________________________\n",
      "Conv3d_5c_3b_1x1_bn (BatchNorma (None, 5, 4, 4, 128) 384         Conv3d_5c_3b_1x1_conv[0][0]      \n",
      "__________________________________________________________________________________________________\n",
      "Conv3d_5c_0a_1x1 (Activation)   (None, 5, 4, 4, 384) 0           Conv3d_5c_0a_1x1_bn[0][0]        \n",
      "__________________________________________________________________________________________________\n",
      "Conv3d_5c_1b_3x3 (Activation)   (None, 5, 4, 4, 384) 0           Conv3d_5c_1b_3x3_bn[0][0]        \n",
      "__________________________________________________________________________________________________\n",
      "Conv3d_5c_2b_3x3 (Activation)   (None, 5, 4, 4, 128) 0           Conv3d_5c_2b_3x3_bn[0][0]        \n",
      "__________________________________________________________________________________________________\n",
      "Conv3d_5c_3b_1x1 (Activation)   (None, 5, 4, 4, 128) 0           Conv3d_5c_3b_1x1_bn[0][0]        \n",
      "__________________________________________________________________________________________________\n",
      "Mixed_5c (Concatenate)          (None, 5, 4, 4, 1024 0           Conv3d_5c_0a_1x1[0][0]           \n",
      "                                                                 Conv3d_5c_1b_3x3[0][0]           \n",
      "                                                                 Conv3d_5c_2b_3x3[0][0]           \n",
      "                                                                 Conv3d_5c_3b_1x1[0][0]           \n",
      "__________________________________________________________________________________________________\n",
      "global_avg_pool (AveragePooling (None, 4, 1, 1, 1024 0           Mixed_5c[0][0]                   \n",
      "==================================================================================================\n",
      "Total params: 12,294,544\n",
      "Trainable params: 12,279,984\n",
      "Non-trainable params: 14,560\n",
      "__________________________________________________________________________________________________\n"
     ]
    }
   ],
   "source": [
    "conv_base = Inception_Inflated3d(include_top = False,\n",
    "                             weights = 'rgb_imagenet_and_kinetics',\n",
    "                             input_shape = X_train[0].shape)\n",
    "conv_base.summary()"
   ]
  },
  {
   "cell_type": "code",
   "execution_count": 97,
   "metadata": {},
   "outputs": [],
   "source": [
    "def create_model(dropout_rate, img_dim, weights = None, trainable_layer = 'all'):\n",
    "    '''\n",
    "    Creates an I3D model with a new classifier for the specified classification task.\n",
    "\n",
    "    :param dropout_rate: Dropout rate of the last dropout layer of the 3D CNN\n",
    "    :param trainable_layer: Up to which layer, all layers.trainable are set to false\n",
    "    :param learning_rate: Learning rate of the model\n",
    "    :param optimizer: Optimizer of the model (RMSprop, SGD or Adam)\n",
    "    :return: The complete I3D model\n",
    "    '''\n",
    "    \n",
    "    conv_base = Inception_Inflated3d(include_top = False,\n",
    "                             weights = weights,\n",
    "                             input_shape = img_dim)\n",
    "        \n",
    "    if trainable_layer == \"freeze_base\":\n",
    "        conv_base.trainable = False\n",
    "        \n",
    "    elif trainable_layer != \"all\":\n",
    "        ##Freeze layers\n",
    "        for num, layer in enumerate(conv_base.layers):\n",
    "            layer.trainable = False\n",
    "            if layer.name == trainable_layer:\n",
    "                n_layer = num\n",
    "                break\n",
    "    \n",
    "        ###Check if freezing has worked\n",
    "        for i in range(len(base_model.layers)):\n",
    "            if i <= n_layer:\n",
    "                if base_model.layers[i].trainable == True:\n",
    "                    print(\"Error in freezing layers (bottom half)\")\n",
    "            if i > n_layer:\n",
    "                if base_model.layers[i].trainable == False:\n",
    "                    print(\"Error in freezing layers (top half)\")\n",
    "\n",
    "    ###Define aditional layers for classification at the end\n",
    "    global_average_layer = GlobalAveragePooling3D()\n",
    "    dropout_layer = Dropout(dropout_rate)\n",
    "    prediction_layer = Dense(units = 2, activation='softmax', kernel_initializer='random_uniform')\n",
    "\n",
    "    # Setup the models as a Keras sequential model\n",
    "    model = Sequential([\n",
    "        conv_base,\n",
    "        global_average_layer,\n",
    "        dropout_layer,\n",
    "        prediction_layer\n",
    "    ])\n",
    "    \n",
    "    return model"
   ]
  },
  {
   "cell_type": "markdown",
   "metadata": {},
   "source": [
    "### Only train classification layer"
   ]
  },
  {
   "cell_type": "code",
   "execution_count": 84,
   "metadata": {},
   "outputs": [
    {
     "name": "stdout",
     "output_type": "stream",
     "text": [
      "Model: \"sequential\"\n",
      "_________________________________________________________________\n",
      "Layer (type)                 Output Shape              Param #   \n",
      "=================================================================\n",
      "i3d_inception (Functional)   (None, 4, 1, 1, 1024)     12294544  \n",
      "_________________________________________________________________\n",
      "global_average_pooling3d (Gl (None, 1024)              0         \n",
      "_________________________________________________________________\n",
      "dropout (Dropout)            (None, 1024)              0         \n",
      "_________________________________________________________________\n",
      "dense (Dense)                (None, 2)                 2050      \n",
      "=================================================================\n",
      "Total params: 12,296,594\n",
      "Trainable params: 2,050\n",
      "Non-trainable params: 12,294,544\n",
      "_________________________________________________________________\n"
     ]
    }
   ],
   "source": [
    "pretrained_weights = 'rgb_imagenet_and_kinetics'\n",
    "model = create_model(dropout_rate = 0.2, \n",
    "                     weights = pretrained_weights, \n",
    "                     img_dim = X_train[0].shape,\n",
    "                    trainable_layer = 'freeze_base')\n",
    "model.summary()"
   ]
  },
  {
   "cell_type": "markdown",
   "metadata": {},
   "source": [
    "#### Compile model"
   ]
  },
  {
   "cell_type": "code",
   "execution_count": 85,
   "metadata": {},
   "outputs": [],
   "source": [
    "### define metrics\n",
    "metrics = [\n",
    "      keras.metrics.BinaryAccuracy(name='accuracy'),\n",
    "      keras.metrics.AUC(name='auc')]\n",
    "\n",
    "### prepare files for logging\n",
    "if os.path.exists('results.csv'):\n",
    "    os.remove('results.csv')\n",
    "    \n",
    "shutil.rmtree('History')\n",
    "os.makedirs('History')\n",
    "    \n",
    "filepath = 'History/model.epoch{epoch:02d}.hdf5'\n",
    "    \n",
    "### define callback_list\n",
    "callback_list = [\n",
    "    keras.callbacks.ModelCheckpoint(filepath=filepath, save_freq='epoch', verbose=1), \n",
    "    keras.callbacks.CSVLogger('results.csv')]\n",
    "    \n",
    "model.compile(loss = \"categorical_crossentropy\", \n",
    "              optimizer=keras.optimizers.Adam(learning_rate = 0.000001),\n",
    "              metrics = metrics)"
   ]
  },
  {
   "cell_type": "code",
   "execution_count": 86,
   "metadata": {},
   "outputs": [
    {
     "name": "stdout",
     "output_type": "stream",
     "text": [
      "Epoch 1/60\n",
      "102/102 [==============================] - 24s 141ms/step - loss: 0.9271 - accuracy: 0.3177 - auc: 0.3180 - val_loss: 0.8920 - val_accuracy: 0.3069 - val_auc: 0.2878\n",
      "\n",
      "Epoch 00001: saving model to History/model.epoch01.hdf5\n",
      "Epoch 2/60\n",
      "102/102 [==============================] - 15s 122ms/step - loss: 0.9125 - accuracy: 0.3080 - auc: 0.2991 - val_loss: 0.8728 - val_accuracy: 0.3069 - val_auc: 0.2859\n",
      "\n",
      "Epoch 00002: saving model to History/model.epoch02.hdf5\n",
      "Epoch 3/60\n",
      "102/102 [==============================] - 15s 124ms/step - loss: 0.8651 - accuracy: 0.3275 - auc: 0.3243 - val_loss: 0.8550 - val_accuracy: 0.3069 - val_auc: 0.2876\n",
      "\n",
      "Epoch 00003: saving model to History/model.epoch03.hdf5\n",
      "Epoch 4/60\n",
      "102/102 [==============================] - 16s 122ms/step - loss: 0.8562 - accuracy: 0.3796 - auc: 0.3371 - val_loss: 0.8378 - val_accuracy: 0.3168 - val_auc: 0.2895\n",
      "\n",
      "Epoch 00004: saving model to History/model.epoch04.hdf5\n",
      "Epoch 5/60\n",
      "102/102 [==============================] - 16s 120ms/step - loss: 0.8165 - accuracy: 0.3757 - auc: 0.3700 - val_loss: 0.8218 - val_accuracy: 0.3069 - val_auc: 0.2872\n",
      "\n",
      "Epoch 00005: saving model to History/model.epoch05.hdf5\n",
      "Epoch 6/60\n",
      "102/102 [==============================] - 15s 122ms/step - loss: 0.8339 - accuracy: 0.3418 - auc: 0.3144 - val_loss: 0.8068 - val_accuracy: 0.3168 - val_auc: 0.2880\n",
      "\n",
      "Epoch 00006: saving model to History/model.epoch06.hdf5\n",
      "Epoch 7/60\n",
      "102/102 [==============================] - 15s 122ms/step - loss: 0.8073 - accuracy: 0.3772 - auc: 0.3582 - val_loss: 0.7935 - val_accuracy: 0.3168 - val_auc: 0.2912\n",
      "\n",
      "Epoch 00007: saving model to History/model.epoch07.hdf5\n",
      "Epoch 8/60\n",
      "102/102 [==============================] - 16s 117ms/step - loss: 0.8012 - accuracy: 0.3909 - auc: 0.3599 - val_loss: 0.7798 - val_accuracy: 0.2970 - val_auc: 0.2925\n",
      "\n",
      "Epoch 00008: saving model to History/model.epoch08.hdf5\n",
      "Epoch 9/60\n",
      "102/102 [==============================] - 15s 122ms/step - loss: 0.7782 - accuracy: 0.4015 - auc: 0.3892 - val_loss: 0.7679 - val_accuracy: 0.3069 - val_auc: 0.2982\n",
      "\n",
      "Epoch 00009: saving model to History/model.epoch09.hdf5\n",
      "Epoch 10/60\n",
      "102/102 [==============================] - 16s 124ms/step - loss: 0.7619 - accuracy: 0.4020 - auc: 0.4029 - val_loss: 0.7566 - val_accuracy: 0.3168 - val_auc: 0.3039\n",
      "\n",
      "Epoch 00010: saving model to History/model.epoch10.hdf5\n",
      "Epoch 11/60\n",
      "102/102 [==============================] - 16s 120ms/step - loss: 0.7417 - accuracy: 0.4394 - auc: 0.4319 - val_loss: 0.7460 - val_accuracy: 0.3564 - val_auc: 0.3171\n",
      "\n",
      "Epoch 00011: saving model to History/model.epoch11.hdf5\n",
      "Epoch 12/60\n",
      "102/102 [==============================] - 15s 122ms/step - loss: 0.7299 - accuracy: 0.4585 - auc: 0.4749 - val_loss: 0.7360 - val_accuracy: 0.3465 - val_auc: 0.3382\n",
      "\n",
      "Epoch 00012: saving model to History/model.epoch12.hdf5\n",
      "Epoch 13/60\n",
      "102/102 [==============================] - 15s 122ms/step - loss: 0.7384 - accuracy: 0.4336 - auc: 0.4362 - val_loss: 0.7274 - val_accuracy: 0.3861 - val_auc: 0.3607\n",
      "\n",
      "Epoch 00013: saving model to History/model.epoch13.hdf5\n",
      "Epoch 14/60\n",
      "102/102 [==============================] - 16s 120ms/step - loss: 0.7555 - accuracy: 0.4490 - auc: 0.4010 - val_loss: 0.7188 - val_accuracy: 0.4059 - val_auc: 0.3960\n",
      "\n",
      "Epoch 00014: saving model to History/model.epoch14.hdf5\n",
      "Epoch 15/60\n",
      "102/102 [==============================] - 15s 122ms/step - loss: 0.7182 - accuracy: 0.5144 - auc: 0.4868 - val_loss: 0.7111 - val_accuracy: 0.4554 - val_auc: 0.4318\n",
      "\n",
      "Epoch 00015: saving model to History/model.epoch15.hdf5\n",
      "Epoch 16/60\n",
      "102/102 [==============================] - 15s 122ms/step - loss: 0.7143 - accuracy: 0.5047 - auc: 0.5103 - val_loss: 0.7036 - val_accuracy: 0.5050 - val_auc: 0.4687\n",
      "\n",
      "Epoch 00016: saving model to History/model.epoch16.hdf5\n",
      "Epoch 17/60\n",
      "102/102 [==============================] - 15s 119ms/step - loss: 0.6970 - accuracy: 0.5347 - auc: 0.5524 - val_loss: 0.6972 - val_accuracy: 0.5545 - val_auc: 0.5097\n",
      "\n",
      "Epoch 00017: saving model to History/model.epoch17.hdf5\n",
      "Epoch 18/60\n",
      "102/102 [==============================] - 16s 121ms/step - loss: 0.6742 - accuracy: 0.5888 - auc: 0.6111 - val_loss: 0.6917 - val_accuracy: 0.5446 - val_auc: 0.5476\n",
      "\n",
      "Epoch 00018: saving model to History/model.epoch18.hdf5\n",
      "Epoch 19/60\n",
      "102/102 [==============================] - 15s 123ms/step - loss: 0.7058 - accuracy: 0.4884 - auc: 0.5206 - val_loss: 0.6857 - val_accuracy: 0.5545 - val_auc: 0.5793\n",
      "\n",
      "Epoch 00019: saving model to History/model.epoch19.hdf5\n",
      "Epoch 20/60\n",
      "102/102 [==============================] - 15s 119ms/step - loss: 0.6998 - accuracy: 0.5366 - auc: 0.5442 - val_loss: 0.6808 - val_accuracy: 0.5941 - val_auc: 0.6035\n",
      "\n",
      "Epoch 00020: saving model to History/model.epoch20.hdf5\n",
      "Epoch 21/60\n",
      "102/102 [==============================] - 16s 120ms/step - loss: 0.6936 - accuracy: 0.5342 - auc: 0.5592 - val_loss: 0.6759 - val_accuracy: 0.5842 - val_auc: 0.6280\n",
      "\n",
      "Epoch 00021: saving model to History/model.epoch21.hdf5\n",
      "Epoch 22/60\n",
      "102/102 [==============================] - 15s 121ms/step - loss: 0.6909 - accuracy: 0.5892 - auc: 0.5790 - val_loss: 0.6715 - val_accuracy: 0.5842 - val_auc: 0.6416\n",
      "\n",
      "Epoch 00022: saving model to History/model.epoch22.hdf5\n",
      "Epoch 23/60\n",
      "102/102 [==============================] - 15s 121ms/step - loss: 0.6772 - accuracy: 0.5903 - auc: 0.5950 - val_loss: 0.6674 - val_accuracy: 0.6139 - val_auc: 0.6591\n",
      "\n",
      "Epoch 00023: saving model to History/model.epoch23.hdf5\n",
      "Epoch 24/60\n",
      "102/102 [==============================] - 16s 119ms/step - loss: 0.6659 - accuracy: 0.5735 - auc: 0.6273 - val_loss: 0.6635 - val_accuracy: 0.6436 - val_auc: 0.6650\n",
      "\n",
      "Epoch 00024: saving model to History/model.epoch24.hdf5\n",
      "Epoch 25/60\n",
      "102/102 [==============================] - 15s 122ms/step - loss: 0.6600 - accuracy: 0.5896 - auc: 0.6437 - val_loss: 0.6603 - val_accuracy: 0.6634 - val_auc: 0.6704\n",
      "\n",
      "Epoch 00025: saving model to History/model.epoch25.hdf5\n",
      "Epoch 26/60\n",
      "102/102 [==============================] - 15s 122ms/step - loss: 0.6738 - accuracy: 0.5866 - auc: 0.6138 - val_loss: 0.6572 - val_accuracy: 0.6634 - val_auc: 0.6765\n",
      "\n",
      "Epoch 00026: saving model to History/model.epoch26.hdf5\n",
      "Epoch 27/60\n",
      "102/102 [==============================] - 15s 118ms/step - loss: 0.6556 - accuracy: 0.6368 - auc: 0.6752 - val_loss: 0.6540 - val_accuracy: 0.6832 - val_auc: 0.6778\n",
      "\n",
      "Epoch 00027: saving model to History/model.epoch27.hdf5\n",
      "Epoch 28/60\n",
      "102/102 [==============================] - 15s 119ms/step - loss: 0.6623 - accuracy: 0.6049 - auc: 0.6419 - val_loss: 0.6516 - val_accuracy: 0.6931 - val_auc: 0.6798\n",
      "\n",
      "Epoch 00028: saving model to History/model.epoch28.hdf5\n",
      "Epoch 29/60\n",
      "102/102 [==============================] - 15s 122ms/step - loss: 0.6397 - accuracy: 0.6618 - auc: 0.7023 - val_loss: 0.6495 - val_accuracy: 0.6931 - val_auc: 0.6812\n",
      "\n",
      "Epoch 00029: saving model to History/model.epoch29.hdf5\n",
      "Epoch 30/60\n",
      "102/102 [==============================] - 15s 118ms/step - loss: 0.6692 - accuracy: 0.5872 - auc: 0.6326 - val_loss: 0.6471 - val_accuracy: 0.7030 - val_auc: 0.6793\n",
      "\n",
      "Epoch 00030: saving model to History/model.epoch30.hdf5\n",
      "Epoch 31/60\n",
      "102/102 [==============================] - 16s 118ms/step - loss: 0.6322 - accuracy: 0.6815 - auc: 0.7064 - val_loss: 0.6451 - val_accuracy: 0.7030 - val_auc: 0.6805\n",
      "\n",
      "Epoch 00031: saving model to History/model.epoch31.hdf5\n",
      "Epoch 32/60\n",
      "102/102 [==============================] - 15s 122ms/step - loss: 0.6381 - accuracy: 0.6509 - auc: 0.6997 - val_loss: 0.6433 - val_accuracy: 0.7030 - val_auc: 0.6822\n",
      "\n",
      "Epoch 00032: saving model to History/model.epoch32.hdf5\n",
      "Epoch 33/60\n",
      "102/102 [==============================] - 16s 124ms/step - loss: 0.6353 - accuracy: 0.6627 - auc: 0.6923 - val_loss: 0.6419 - val_accuracy: 0.6931 - val_auc: 0.6817\n",
      "\n",
      "Epoch 00033: saving model to History/model.epoch33.hdf5\n",
      "Epoch 34/60\n",
      "102/102 [==============================] - 16s 119ms/step - loss: 0.6358 - accuracy: 0.6430 - auc: 0.6887 - val_loss: 0.6402 - val_accuracy: 0.6931 - val_auc: 0.6819\n",
      "\n",
      "Epoch 00034: saving model to History/model.epoch34.hdf5\n",
      "Epoch 35/60\n",
      "102/102 [==============================] - 15s 122ms/step - loss: 0.6321 - accuracy: 0.6592 - auc: 0.6989 - val_loss: 0.6389 - val_accuracy: 0.6931 - val_auc: 0.6822\n",
      "\n",
      "Epoch 00035: saving model to History/model.epoch35.hdf5\n",
      "Epoch 36/60\n",
      "102/102 [==============================] - 16s 118ms/step - loss: 0.5990 - accuracy: 0.7143 - auc: 0.7524 - val_loss: 0.6332 - val_accuracy: 0.6931 - val_auc: 0.6833\n",
      "\n",
      "Epoch 00041: saving model to History/model.epoch41.hdf5\n",
      "Epoch 42/60\n",
      "102/102 [==============================] - 15s 120ms/step - loss: 0.6352 - accuracy: 0.6388 - auc: 0.6939 - val_loss: 0.6325 - val_accuracy: 0.6931 - val_auc: 0.6819\n",
      "\n",
      "Epoch 00042: saving model to History/model.epoch42.hdf5\n",
      "Epoch 43/60\n",
      "102/102 [==============================] - 15s 121ms/step - loss: 0.6666 - accuracy: 0.6246 - auc: 0.6462 - val_loss: 0.6320 - val_accuracy: 0.6931 - val_auc: 0.6838\n",
      "\n",
      "Epoch 00043: saving model to History/model.epoch43.hdf5\n",
      "Epoch 44/60\n",
      "102/102 [==============================] - 16s 118ms/step - loss: 0.6468 - accuracy: 0.6267 - auc: 0.6734 - val_loss: 0.6315 - val_accuracy: 0.6931 - val_auc: 0.6820\n",
      "\n",
      "Epoch 00044: saving model to History/model.epoch44.hdf5\n",
      "Epoch 45/60\n",
      "102/102 [==============================] - 15s 122ms/step - loss: 0.6216 - accuracy: 0.6863 - auc: 0.7098 - val_loss: 0.6309 - val_accuracy: 0.6931 - val_auc: 0.6840\n",
      "\n",
      "Epoch 00045: saving model to History/model.epoch45.hdf5\n",
      "Epoch 46/60\n",
      "102/102 [==============================] - 16s 123ms/step - loss: 0.6401 - accuracy: 0.6439 - auc: 0.6877 - val_loss: 0.6305 - val_accuracy: 0.6931 - val_auc: 0.6826\n",
      "\n",
      "Epoch 00046: saving model to History/model.epoch46.hdf5\n",
      "Epoch 47/60\n",
      "102/102 [==============================] - 16s 120ms/step - loss: 0.6435 - accuracy: 0.6600 - auc: 0.6786 - val_loss: 0.6301 - val_accuracy: 0.6931 - val_auc: 0.6833\n",
      "\n",
      "Epoch 00047: saving model to History/model.epoch47.hdf5\n",
      "Epoch 48/60\n",
      "102/102 [==============================] - 15s 118ms/step - loss: 0.6136 - accuracy: 0.6677 - auc: 0.7242 - val_loss: 0.6297 - val_accuracy: 0.6931 - val_auc: 0.6834\n",
      "\n",
      "Epoch 00048: saving model to History/model.epoch48.hdf5\n",
      "Epoch 49/60\n",
      "102/102 [==============================] - 15s 123ms/step - loss: 0.6418 - accuracy: 0.6696 - auc: 0.6827 - val_loss: 0.6295 - val_accuracy: 0.6931 - val_auc: 0.6831\n",
      "\n",
      "Epoch 00049: saving model to History/model.epoch49.hdf5\n",
      "Epoch 50/60\n",
      "102/102 [==============================] - 15s 117ms/step - loss: 0.6358 - accuracy: 0.6823 - auc: 0.6896 - val_loss: 0.6292 - val_accuracy: 0.6931 - val_auc: 0.6832\n",
      "\n",
      "Epoch 00050: saving model to History/model.epoch50.hdf5\n",
      "Epoch 51/60\n",
      "102/102 [==============================] - 16s 119ms/step - loss: 0.6337 - accuracy: 0.6805 - auc: 0.7002 - val_loss: 0.6289 - val_accuracy: 0.6931 - val_auc: 0.6827\n",
      "\n",
      "Epoch 00051: saving model to History/model.epoch51.hdf5\n",
      "Epoch 52/60\n",
      "102/102 [==============================] - 14s 120ms/step - loss: 0.6425 - accuracy: 0.6547 - auc: 0.6830 - val_loss: 0.6287 - val_accuracy: 0.6931 - val_auc: 0.6833\n",
      "\n",
      "Epoch 00052: saving model to History/model.epoch52.hdf5\n",
      "Epoch 53/60\n",
      "102/102 [==============================] - 15s 121ms/step - loss: 0.6348 - accuracy: 0.6931 - auc: 0.6915 - val_loss: 0.6285 - val_accuracy: 0.6931 - val_auc: 0.6841\n",
      "\n",
      "Epoch 00053: saving model to History/model.epoch53.hdf5\n",
      "Epoch 54/60\n",
      "102/102 [==============================] - 16s 120ms/step - loss: 0.5996 - accuracy: 0.7150 - auc: 0.7407 - val_loss: 0.6283 - val_accuracy: 0.6931 - val_auc: 0.6847\n",
      "\n",
      "Epoch 00054: saving model to History/model.epoch54.hdf5\n",
      "Epoch 55/60\n",
      "102/102 [==============================] - 15s 121ms/step - loss: 0.6220 - accuracy: 0.6549 - auc: 0.7108 - val_loss: 0.6282 - val_accuracy: 0.6931 - val_auc: 0.6828\n",
      "\n",
      "Epoch 00055: saving model to History/model.epoch55.hdf5\n",
      "Epoch 56/60\n",
      "102/102 [==============================] - 15s 121ms/step - loss: 0.6116 - accuracy: 0.6985 - auc: 0.7219 - val_loss: 0.6280 - val_accuracy: 0.6931 - val_auc: 0.6824\n",
      "\n",
      "Epoch 00056: saving model to History/model.epoch56.hdf5\n",
      "Epoch 57/60\n",
      "102/102 [==============================] - 15s 117ms/step - loss: 0.6498 - accuracy: 0.6430 - auc: 0.6806 - val_loss: 0.6279 - val_accuracy: 0.6931 - val_auc: 0.6850\n",
      "\n",
      "Epoch 00057: saving model to History/model.epoch57.hdf5\n",
      "Epoch 58/60\n",
      "102/102 [==============================] - 15s 119ms/step - loss: 0.6193 - accuracy: 0.6944 - auc: 0.7087 - val_loss: 0.6277 - val_accuracy: 0.6931 - val_auc: 0.6873\n",
      "\n",
      "Epoch 00058: saving model to History/model.epoch58.hdf5\n",
      "Epoch 59/60\n",
      "102/102 [==============================] - 15s 122ms/step - loss: 0.6416 - accuracy: 0.6739 - auc: 0.6800 - val_loss: 0.6276 - val_accuracy: 0.6931 - val_auc: 0.6821\n",
      "\n",
      "Epoch 00059: saving model to History/model.epoch59.hdf5\n",
      "Epoch 60/60\n",
      "102/102 [==============================] - 15s 119ms/step - loss: 0.6197 - accuracy: 0.6838 - auc: 0.7081 - val_loss: 0.6275 - val_accuracy: 0.6931 - val_auc: 0.6838\n",
      "\n",
      "Epoch 00060: saving model to History/model.epoch60.hdf5\n"
     ]
    }
   ],
   "source": [
    "epochs = 60\n",
    "model.fit(\n",
    "    train_dataset,\n",
    "    validation_data=validation_dataset,\n",
    "    epochs=epochs,\n",
    "    verbose=1,\n",
    "    callbacks=callback_list)\n",
    "\n",
    "model.save_weights('Trained_weights/trained_classification_block.h5')"
   ]
  },
  {
   "cell_type": "code",
   "execution_count": 101,
   "metadata": {},
   "outputs": [
    {
     "data": {
      "image/png": "[encoded data removed]",
      "text/plain": [
       "<Figure size 504x1008 with 3 Axes>"
      ]
     },
     "metadata": {
      "needs_background": "light"
     },
     "output_type": "display_data"
    }
   ],
   "source": [
    "dat = pd.read_csv('results.csv', index_col='epoch')\n",
    "\n",
    "fig, ax = plt.subplots(3, 1, figsize=(7,14))\n",
    "metrics = ['accuracy', 'loss', 'auc']\n",
    "\n",
    "for i, metric in enumerate(metrics):\n",
    "    ax[i].plot(dat[metric])\n",
    "    ax[i].plot(dat['val_'+metric])\n",
    "    ax[i].set_title(\"Model {}\".format(metric))\n",
    "    ax[i].set_xlabel(\"epochs\")\n",
    "    ax[i].set_ylabel(metric)\n",
    "    ax[i].legend([\"train\", \"val\"])\n",
    "    \n",
    "    if metric == 'accuracy' or metric == 'auc':\n",
    "        ax[i].set_ylim(0,1)\n",
    "        \n",
    "    else:\n",
    "        ax[i].set_ylim(0)\n",
    "    \n",
    "fig.tight_layout()\n",
    "plt.show()\n",
    "\n",
    "p = 'softmax'+str(IMAGE_DIMENSION)\n",
    "fig.savefig(p)"
   ]
  },
  {
   "cell_type": "code",
   "execution_count": 90,
   "metadata": {},
   "outputs": [
    {
     "name": "stdout",
     "output_type": "stream",
     "text": [
      "59\n"
     ]
    }
   ],
   "source": [
    "best_model = np.where(dat.val_loss == np.min(dat.val_loss))[0][0] \n",
    "print(best_model)\n",
    "model.load_weights('History/model.epoch' + str(best_model) + '.hdf5')\n",
    "\n",
    "y_prob = model.predict(X_test, batch_size=batch_size)\n",
    "y_pred = (y_prob[:,1] > 0.5).astype(np.int)\n",
    "\n",
    "y_test = Y_test.argmax(axis = 1) "
   ]
  },
  {
   "cell_type": "code",
   "execution_count": 91,
   "metadata": {},
   "outputs": [
    {
     "name": "stdout",
     "output_type": "stream",
     "text": [
      "Accuracy:  69.31\n",
      "AUC:  0.478\n",
      "Confusion matrix: \n",
      " [[ 0 31]\n",
      " [ 0 70]]\n"
     ]
    }
   ],
   "source": [
    "print(\"Accuracy: \", np.mean(y_pred == y_test).round(4)*100)\n",
    "print(\"AUC: \", sklearn.metrics.roc_auc_score(y_test, y_prob[:,1]).round(3))\n",
    "print(\"Confusion matrix: \\n\", \n",
    "      confusion_matrix(y_test, y_pred))"
   ]
  },
  {
   "cell_type": "markdown",
   "metadata": {},
   "source": [
    "### Train all layers"
   ]
  },
  {
   "cell_type": "code",
   "execution_count": 100,
   "metadata": {},
   "outputs": [
    {
     "name": "stdout",
     "output_type": "stream",
     "text": [
      "Model: \"sequential_3\"\n",
      "_________________________________________________________________\n",
      "Layer (type)                 Output Shape              Param #   \n",
      "=================================================================\n",
      "i3d_inception (Functional)   (None, 4, 1, 1, 1024)     12294544  \n",
      "_________________________________________________________________\n",
      "global_average_pooling3d_3 ( (None, 1024)              0         \n",
      "_________________________________________________________________\n",
      "dropout_3 (Dropout)          (None, 1024)              0         \n",
      "_________________________________________________________________\n",
      "dense_3 (Dense)              (None, 2)                 2050      \n",
      "=================================================================\n",
      "Total params: 12,296,594\n",
      "Trainable params: 12,282,034\n",
      "Non-trainable params: 14,560\n",
      "_________________________________________________________________\n"
     ]
    }
   ],
   "source": [
    "weights = 'Trained_weights/trained_classification_block.h5'\n",
    "full_model = create_model(dropout_rate = 0.2, \n",
    "                     img_dim = X_train[0].shape)\n",
    "#full_model.load_weights(weights)\n",
    "full_model.summary()"
   ]
  },
  {
   "cell_type": "code",
   "execution_count": null,
   "metadata": {},
   "outputs": [],
   "source": [
    "### define metrics\n",
    "metrics = [\n",
    "      keras.metrics.BinaryAccuracy(name='accuracy'),\n",
    "      keras.metrics.AUC(name='auc')]\n",
    "\n",
    "### prepare files for logging\n",
    "if os.path.exists('results.csv'):\n",
    "    os.remove('results.csv')\n",
    "    \n",
    "shutil.rmtree('History')\n",
    "os.makedirs('History')\n",
    "    \n",
    "filepath = 'History/model.epoch{epoch:02d}.hdf5'\n",
    "    \n",
    "### define callback_list\n",
    "callback_list = [\n",
    "    keras.callbacks.ModelCheckpoint(filepath=filepath, save_freq='epoch', verbose=1), \n",
    "    keras.callbacks.CSVLogger('results.csv')]\n",
    "    \n",
    "full_model.compile(loss = \"categorical_crossentropy\", \n",
    "              optimizer=keras.optimizers.Adam(learning_rate = 0.000001),\n",
    "              metrics = metrics)"
   ]
  },
  {
   "cell_type": "code",
   "execution_count": null,
   "metadata": {},
   "outputs": [],
   "source": [
    "epochs = 100\n",
    "full_model.fit(\n",
    "    train_dataset,\n",
    "    validation_data=validation_dataset,\n",
    "    epochs=epochs,\n",
    "    verbose=1,\n",
    "    callbacks=callback_list)\n",
    "\n",
    "model.save_weights('Trained_weights/full_model_weights.h5')"
   ]
  }
 ],
 "metadata": {
  "kernelspec": {
   "display_name": "Python 3",
   "language": "python",
   "name": "python3"
  },
  "language_info": {
   "codemirror_mode": {
    "name": "ipython",
    "version": 3
   },
   "file_extension": ".py",
   "mimetype": "text/x-python",
   "name": "python",
   "nbconvert_exporter": "python",
   "pygments_lexer": "ipython3",
   "version": "3.6.9"
  }
 },
 "nbformat": 4,
 "nbformat_minor": 5
}
