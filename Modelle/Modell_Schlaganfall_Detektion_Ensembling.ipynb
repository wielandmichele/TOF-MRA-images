{
 "cells": [
  {
   "cell_type": "code",
   "execution_count": null,
   "metadata": {},
   "outputs": [],
   "source": [
    "!pip install statsmodels"
   ]
  },
  {
   "cell_type": "code",
   "execution_count": null,
   "metadata": {},
   "outputs": [],
   "source": [
    "import pandas as pd\n",
    "import numpy as np\n",
    "\n",
    "from matplotlib import pyplot, cm\n",
    "from matplotlib import pyplot as plt\n",
    "\n",
    "from sklearn.metrics import confusion_matrix\n",
    "from sklearn.metrics import roc_auc_score \n",
    "from sklearn import metrics\n",
    "\n",
    "from statsmodels.stats.proportion import proportion_confint\n",
    "from Functions.auc_delong_xu import auc_ci_Delong"
   ]
  },
  {
   "cell_type": "code",
   "execution_count": null,
   "metadata": {},
   "outputs": [],
   "source": [
    "#read file with predictions from 5 runs\n",
    "pred = pd.read_csv('~/deepensemble.csv', sep = \";\")\n",
    "pred"
   ]
  },
  {
   "cell_type": "code",
   "execution_count": null,
   "metadata": {},
   "outputs": [],
   "source": [
    "cm = confusion_matrix(pred.y_test, pred.y_pred)\n",
    "lower_acc, upper_acc = proportion_confint(sum(np.diag(cm)), np.sum(cm), 0.05, method = 'wilson')\n",
    "ci_acc = np.array([lower_acc, upper_acc])\n",
    "\n",
    "auc, auc_var, ci_auc = auc_ci_Delong(\n",
    "    y_true=pred.y_test,\n",
    "    y_scores=pred.y_prob_mean)\n",
    "\n",
    "sensitivity = cm[1,1]/(cm[1,1]+cm[1,0])\n",
    "lower_sens, upper_sens = proportion_confint(cm[1,1], (cm[1,1]+cm[1,0]), 0.05, method = 'wilson')\n",
    "ci_sens = np.array([lower_sens, upper_sens])\n",
    "\n",
    "specificity = cm[0,0]/(cm[0,0]+cm[0,1])\n",
    "lower_spec, upper_spec = proportion_confint(cm[0,0], (cm[0,0]+cm[0,1]), 0.05, method = 'wilson')\n",
    "ci_spec = np.array([lower_spec, upper_spec])\n",
    "\n",
    "nll = log_loss(pred.y_test, pred.y_prob_mean)\n",
    "\n",
    "print(\"Accuracy: \", round((np.mean(pred.y_pred == pred.y_test)),3), ' CI:', np.round(ci_acc,4) )\n",
    "print(\"AUC: \", round(auc, 3), 'CI:', np.round(ci_auc, 3))\n",
    "print(\"Sensitivity: \", round(sensitivity,3), 'CI:', np.round(ci_sens, 3))\n",
    "print(\"Specificity: \", round(specificity,3), 'CI:', np.round(ci_spec, 3))\n",
    "print(\"NLL: \", round(nll,4))\n",
    "print(\"Confusion matrix: \\n\", \n",
    "      cm)\n",
    "print(\"Normalized Confusion matrix: \\n\", \n",
    "      np.round(confusion_matrix(pred.y_test, pred.y_pred, normalize = 'true'),3))"
   ]
  },
  {
   "cell_type": "code",
   "execution_count": null,
   "metadata": {},
   "outputs": [],
   "source": [
    "def ensembling_measures(df):\n",
    "    print(\"Mittelwert: \", df.mean())\n",
    "    print(\"Median: \", df.median())\n",
    "    print(\"25% Quantile: \", df.quantile(0.25))\n",
    "    print(\"75% Quantile: \", df.quantile(0.75))\n",
    "    print(\"IQR Range: \", df.quantile(0.75) - df.quantile(0.25))"
   ]
  },
  {
   "cell_type": "code",
   "execution_count": null,
   "metadata": {},
   "outputs": [],
   "source": [
    "correct_class = pred.loc[lambda pred: pred['y_test'] == pred['y_pred']]\n",
    "print(\"Richtige Klasse -----------------------------------------------------------\")\n",
    "ensembling_measures(correct_class['prob_var'])\n",
    "\n",
    "incorrect_class = pred.loc[lambda pred: pred['y_test'] != pred['y_pred']]\n",
    "print(\"-----------------------------------------------------------\")\n",
    "print(\"Falsche Klasse\")\n",
    "ensembling_measures(incorrect_class['prob_var'])\n",
    "\n",
    "correct_stroke = pred.loc[(pred['y_test']== pred['y_pred']) & (pred['y_test'] == 1)]\n",
    "print(\"-----------------------------------------------------------\")\n",
    "print(\"Richtige Schlaganfall\")\n",
    "ensembling_measures(correct_stroke['prob_var'])\n",
    "\n",
    "incorrect_stroke = pred.loc[(pred['y_test'] != pred['y_pred']) & (pred['y_test'] == 1)]\n",
    "print(\"-----------------------------------------------------------\")\n",
    "print(\"Falsche Schlaganfall\")\n",
    "ensembling_measures(incorrect_stroke['prob_var'])\n",
    "\n",
    "correct_tia = pred.loc[(pred['y_test']== pred['y_pred']) & (pred['y_test'] == 0)]\n",
    "print(\"-----------------------------------------------------------\")\n",
    "print(\"Richtige TIA\")\n",
    "ensembling_measures(correct_tia['prob_var'])\n",
    "\n",
    "incorrect_tia = pred.loc[(pred['y_test'] != pred['y_pred']) & (pred['y_test'] == 0)]\n",
    "print(\"-----------------------------------------------------------\")\n",
    "print(\"Falsche TIA\")\n",
    "ensembling_measures(incorrect_tia['prob_var'])"
   ]
  },
  {
   "cell_type": "code",
   "execution_count": null,
   "metadata": {},
   "outputs": [],
   "source": [
    "plt.hist(correct_class['prob_var'], bins = 20, color = \"#2F5597\")\n",
    "plt.title(\"Varianz der Richtig-Klassifizierungen\")\n",
    "plt.xlabel(\"Varianz der Vorhersage-Wahrscheinlichkeiten\")\n",
    "plt.ylabel(\"Anzahl Vorhersagen\")\n",
    "plt.xlim(right = 0.16)\n",
    "fig1 = plt.gcf()\n",
    "plt.show()\n",
    "p = '~/Histogramm_Varianzen_korrekte_Klasse.png'\n",
    "fig1.savefig(p, dpi = 300,bbox_inches='tight')"
   ]
  },
  {
   "cell_type": "code",
   "execution_count": null,
   "metadata": {},
   "outputs": [],
   "source": [
    "plt.hist(incorrect_class['prob_var'], bins = 20, color = '#7F7F7F')\n",
    "plt.title(\"Varianz der Falsch-Klassifizierungen\")\n",
    "plt.xlabel(\"Varianz der Vorhersage-Wahrscheinlichkeiten\")\n",
    "plt.ylabel(\"Anzahl Vorhersagen\")\n",
    "plt.xlim(right = 0.16)\n",
    "fig1 = plt.gcf()\n",
    "plt.show()\n",
    "p = '~/Histogramm_Varianzen_inkorrekte_Klasse.png'\n",
    "fig1.savefig(p, dpi = 300,bbox_inches='tight')"
   ]
  },
  {
   "cell_type": "code",
   "execution_count": null,
   "metadata": {},
   "outputs": [],
   "source": [
    "plt.hist(correct_stroke['prob_var'], bins = 20, color = \"#2F5597\")\n",
    "plt.title(\"Varianz Richtig-Klassifizierungen der Klasse Schlaganfall\")\n",
    "plt.xlabel(\"Varianz der Vorhersage-Wahrscheinlichkeiten\")\n",
    "plt.ylabel(\"Anzahl Vorhersagen\")\n",
    "plt.xlim(right = 0.16)\n",
    "fig1 = plt.gcf()\n",
    "plt.show()\n",
    "p = '~/Histogramm_Varianzen_korrekte_Stroke.png'\n",
    "fig1.savefig(p, dpi = 300,bbox_inches='tight')"
   ]
  },
  {
   "cell_type": "code",
   "execution_count": null,
   "metadata": {},
   "outputs": [],
   "source": [
    "plt.hist(incorrect_stroke['prob_var'], bins = 20, color = '#7F7F7F')\n",
    "plt.title(\"Varianz Falsch-Klassifizierungen der Klasse Schlaganfall\")\n",
    "plt.xlabel(\"Varianz der Vorhersage-Wahrscheinlichkeiten\")\n",
    "plt.ylabel(\"Anzahl Vorhersagen\")\n",
    "plt.xlim(right = 0.16)\n",
    "fig1 = plt.gcf()\n",
    "plt.show()\n",
    "p = '~/Histogramm_Varianzen_inkorrekte_Stroke.png'\n",
    "fig1.savefig(p, dpi = 300,bbox_inches='tight')"
   ]
  },
  {
   "cell_type": "code",
   "execution_count": null,
   "metadata": {},
   "outputs": [],
   "source": [
    "plt.hist(correct_tia['prob_var'], bins = 20, color = \"#2F5597\")\n",
    "plt.title(\"Varianz Richtig-Klassifizierungen der Klasse TIA\")\n",
    "plt.xlabel(\"Varianz der Vorhersage-Wahrscheinlichkeiten\")\n",
    "plt.ylabel(\"Anzahl Vorhersagen\")\n",
    "plt.xlim(right = 0.16)\n",
    "fig1 = plt.gcf()\n",
    "plt.show()\n",
    "p = '~/Histogramm_Varianzen_korrekte_TIA.png'\n",
    "fig1.savefig(p, dpi = 300,bbox_inches='tight')"
   ]
  },
  {
   "cell_type": "code",
   "execution_count": null,
   "metadata": {},
   "outputs": [],
   "source": [
    "plt.hist(incorrect_tia['prob_var'], bins = 20,  color = '#7F7F7F')\n",
    "plt.title(\"Varianz Falsch-Klassifizierungen der Klasse TIA\")\n",
    "plt.xlabel(\"Varianz der Vorhersage-Wahrscheinlichkeiten\")\n",
    "plt.ylabel(\"Anzahl Vorhersagen\")\n",
    "plt.xlim(right = 0.16)\n",
    "fig1 = plt.gcf()\n",
    "plt.show()\n",
    "p = '~/Histogramm_Varianzen_inkorrekt_TIA.png'\n",
    "fig1.savefig(p, dpi = 300,bbox_inches='tight')"
   ]
  }
 ],
 "metadata": {
  "kernelspec": {
   "display_name": "Python 3",
   "language": "python",
   "name": "python3"
  },
  "language_info": {
   "codemirror_mode": {
    "name": "ipython",
    "version": 3
   },
   "file_extension": ".py",
   "mimetype": "text/x-python",
   "name": "python",
   "nbconvert_exporter": "python",
   "pygments_lexer": "ipython3",
   "version": "3.6.12"
  }
 },
 "nbformat": 4,
 "nbformat_minor": 2
}
