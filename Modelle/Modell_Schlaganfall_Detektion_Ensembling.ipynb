{
 "cells": [
  {
   "cell_type": "code",
   "execution_count": 1,
   "metadata": {},
   "outputs": [
    {
     "name": "stdout",
     "output_type": "stream",
     "text": [
      "Requirement already satisfied: statsmodels in c:\\users\\schule\\anaconda3.5.1\\lib\\site-packages (0.12.2)\n",
      "Requirement already satisfied: patsy>=0.5 in c:\\users\\schule\\anaconda3.5.1\\lib\\site-packages (from statsmodels) (0.5.1)\n",
      "Requirement already satisfied: pandas>=0.21 in c:\\users\\schule\\anaconda3.5.1\\lib\\site-packages (from statsmodels) (1.1.5)\n",
      "Requirement already satisfied: numpy>=1.15 in c:\\users\\schule\\anaconda3.5.1\\lib\\site-packages (from statsmodels) (1.19.2)\n",
      "Requirement already satisfied: scipy>=1.1 in c:\\users\\schule\\anaconda3.5.1\\lib\\site-packages (from statsmodels) (1.5.2)\n",
      "Requirement already satisfied: pytz>=2017.2 in c:\\users\\schule\\anaconda3.5.1\\lib\\site-packages (from pandas>=0.21->statsmodels) (2020.5)\n",
      "Requirement already satisfied: python-dateutil>=2.7.3 in c:\\users\\schule\\anaconda3.5.1\\lib\\site-packages (from pandas>=0.21->statsmodels) (2.8.1)\n",
      "Requirement already satisfied: six in c:\\users\\schule\\anaconda3.5.1\\lib\\site-packages (from patsy>=0.5->statsmodels) (1.15.0)\n"
     ]
    }
   ],
   "source": [
    "!pip install statsmodels"
   ]
  },
  {
   "cell_type": "code",
   "execution_count": 2,
   "metadata": {},
   "outputs": [],
   "source": [
    "import pandas as pd\n",
    "import numpy as np\n",
    "from sklearn.metrics import confusion_matrix\n",
    "from matplotlib import pyplot, cm\n",
    "from matplotlib import pyplot as plt\n",
    "import pydicom\n",
    "import math\n",
    "from sklearn.metrics import roc_auc_score\n",
    "import matplotlib.pyplot as plt  \n",
    "from sklearn import metrics\n",
    "from statsmodels.stats.proportion import proportion_confint\n",
    "from Functions.auc_delong_xu import auc_ci_Delong"
   ]
  },
  {
   "cell_type": "code",
   "execution_count": 3,
   "metadata": {},
   "outputs": [
    {
     "data": {
      "text/html": [
       "<div>\n",
       "<style scoped>\n",
       "    .dataframe tbody tr th:only-of-type {\n",
       "        vertical-align: middle;\n",
       "    }\n",
       "\n",
       "    .dataframe tbody tr th {\n",
       "        vertical-align: top;\n",
       "    }\n",
       "\n",
       "    .dataframe thead th {\n",
       "        text-align: right;\n",
       "    }\n",
       "</style>\n",
       "<table border=\"1\" class=\"dataframe\">\n",
       "  <thead>\n",
       "    <tr style=\"text-align: right;\">\n",
       "      <th></th>\n",
       "      <th>pat_id</th>\n",
       "      <th>y_test</th>\n",
       "      <th>y_pred_1</th>\n",
       "      <th>y_prob_1</th>\n",
       "      <th>cat_cross_1</th>\n",
       "      <th>y_pred_2</th>\n",
       "      <th>y_prob_2</th>\n",
       "      <th>cat_cross_2</th>\n",
       "      <th>y_pred_3</th>\n",
       "      <th>y_prob_3</th>\n",
       "      <th>cat_cross_3</th>\n",
       "      <th>y_pred_4</th>\n",
       "      <th>y_prob_4</th>\n",
       "      <th>cat_cross_4</th>\n",
       "      <th>y_pred_5</th>\n",
       "      <th>y_prob_5</th>\n",
       "      <th>cat_cross_5</th>\n",
       "      <th>y_prob_mean</th>\n",
       "      <th>y_pred</th>\n",
       "      <th>prob_var</th>\n",
       "    </tr>\n",
       "  </thead>\n",
       "  <tbody>\n",
       "    <tr>\n",
       "      <th>0</th>\n",
       "      <td>b'214'</td>\n",
       "      <td>1</td>\n",
       "      <td>1</td>\n",
       "      <td>0.648868</td>\n",
       "      <td>NaN</td>\n",
       "      <td>1</td>\n",
       "      <td>0.787003</td>\n",
       "      <td>0.644894</td>\n",
       "      <td>0</td>\n",
       "      <td>0.426100</td>\n",
       "      <td>0.762409</td>\n",
       "      <td>1</td>\n",
       "      <td>0.734037</td>\n",
       "      <td>0.703254</td>\n",
       "      <td>1</td>\n",
       "      <td>0.665187</td>\n",
       "      <td>0.629985</td>\n",
       "      <td>0.652239</td>\n",
       "      <td>1</td>\n",
       "      <td>0.019043</td>\n",
       "    </tr>\n",
       "    <tr>\n",
       "      <th>1</th>\n",
       "      <td>b'530'</td>\n",
       "      <td>1</td>\n",
       "      <td>1</td>\n",
       "      <td>0.979525</td>\n",
       "      <td>NaN</td>\n",
       "      <td>0</td>\n",
       "      <td>0.316994</td>\n",
       "      <td>0.644894</td>\n",
       "      <td>1</td>\n",
       "      <td>0.585746</td>\n",
       "      <td>0.762409</td>\n",
       "      <td>1</td>\n",
       "      <td>0.646319</td>\n",
       "      <td>0.703254</td>\n",
       "      <td>1</td>\n",
       "      <td>0.636919</td>\n",
       "      <td>0.629985</td>\n",
       "      <td>0.633100</td>\n",
       "      <td>1</td>\n",
       "      <td>0.055591</td>\n",
       "    </tr>\n",
       "    <tr>\n",
       "      <th>2</th>\n",
       "      <td>b'458'</td>\n",
       "      <td>1</td>\n",
       "      <td>1</td>\n",
       "      <td>0.993579</td>\n",
       "      <td>NaN</td>\n",
       "      <td>1</td>\n",
       "      <td>0.962975</td>\n",
       "      <td>0.644894</td>\n",
       "      <td>1</td>\n",
       "      <td>0.697914</td>\n",
       "      <td>0.762409</td>\n",
       "      <td>1</td>\n",
       "      <td>0.830974</td>\n",
       "      <td>0.703254</td>\n",
       "      <td>1</td>\n",
       "      <td>0.729043</td>\n",
       "      <td>0.629985</td>\n",
       "      <td>0.842897</td>\n",
       "      <td>1</td>\n",
       "      <td>0.017812</td>\n",
       "    </tr>\n",
       "    <tr>\n",
       "      <th>3</th>\n",
       "      <td>b'396'</td>\n",
       "      <td>1</td>\n",
       "      <td>1</td>\n",
       "      <td>0.950613</td>\n",
       "      <td>NaN</td>\n",
       "      <td>1</td>\n",
       "      <td>0.771483</td>\n",
       "      <td>0.644894</td>\n",
       "      <td>1</td>\n",
       "      <td>0.806141</td>\n",
       "      <td>0.762409</td>\n",
       "      <td>1</td>\n",
       "      <td>0.606691</td>\n",
       "      <td>0.703254</td>\n",
       "      <td>1</td>\n",
       "      <td>0.696687</td>\n",
       "      <td>0.629985</td>\n",
       "      <td>0.766323</td>\n",
       "      <td>1</td>\n",
       "      <td>0.016477</td>\n",
       "    </tr>\n",
       "    <tr>\n",
       "      <th>4</th>\n",
       "      <td>b'233'</td>\n",
       "      <td>1</td>\n",
       "      <td>0</td>\n",
       "      <td>0.156692</td>\n",
       "      <td>NaN</td>\n",
       "      <td>0</td>\n",
       "      <td>0.315955</td>\n",
       "      <td>0.644894</td>\n",
       "      <td>0</td>\n",
       "      <td>0.325972</td>\n",
       "      <td>0.762409</td>\n",
       "      <td>0</td>\n",
       "      <td>0.369222</td>\n",
       "      <td>0.703254</td>\n",
       "      <td>1</td>\n",
       "      <td>0.590114</td>\n",
       "      <td>0.629985</td>\n",
       "      <td>0.351591</td>\n",
       "      <td>0</td>\n",
       "      <td>0.024279</td>\n",
       "    </tr>\n",
       "    <tr>\n",
       "      <th>...</th>\n",
       "      <td>...</td>\n",
       "      <td>...</td>\n",
       "      <td>...</td>\n",
       "      <td>...</td>\n",
       "      <td>...</td>\n",
       "      <td>...</td>\n",
       "      <td>...</td>\n",
       "      <td>...</td>\n",
       "      <td>...</td>\n",
       "      <td>...</td>\n",
       "      <td>...</td>\n",
       "      <td>...</td>\n",
       "      <td>...</td>\n",
       "      <td>...</td>\n",
       "      <td>...</td>\n",
       "      <td>...</td>\n",
       "      <td>...</td>\n",
       "      <td>...</td>\n",
       "      <td>...</td>\n",
       "      <td>...</td>\n",
       "    </tr>\n",
       "    <tr>\n",
       "      <th>503</th>\n",
       "      <td>b'108'</td>\n",
       "      <td>0</td>\n",
       "      <td>0</td>\n",
       "      <td>0.486297</td>\n",
       "      <td>NaN</td>\n",
       "      <td>1</td>\n",
       "      <td>0.797980</td>\n",
       "      <td>0.629122</td>\n",
       "      <td>1</td>\n",
       "      <td>0.864499</td>\n",
       "      <td>0.688893</td>\n",
       "      <td>0</td>\n",
       "      <td>0.427547</td>\n",
       "      <td>0.618755</td>\n",
       "      <td>1</td>\n",
       "      <td>0.552668</td>\n",
       "      <td>0.675023</td>\n",
       "      <td>0.625798</td>\n",
       "      <td>1</td>\n",
       "      <td>0.037684</td>\n",
       "    </tr>\n",
       "    <tr>\n",
       "      <th>504</th>\n",
       "      <td>b'184'</td>\n",
       "      <td>0</td>\n",
       "      <td>0</td>\n",
       "      <td>0.298177</td>\n",
       "      <td>NaN</td>\n",
       "      <td>0</td>\n",
       "      <td>0.486809</td>\n",
       "      <td>0.629122</td>\n",
       "      <td>0</td>\n",
       "      <td>0.194467</td>\n",
       "      <td>0.688893</td>\n",
       "      <td>0</td>\n",
       "      <td>0.193021</td>\n",
       "      <td>0.618755</td>\n",
       "      <td>0</td>\n",
       "      <td>0.195967</td>\n",
       "      <td>0.675023</td>\n",
       "      <td>0.273688</td>\n",
       "      <td>0</td>\n",
       "      <td>0.016211</td>\n",
       "    </tr>\n",
       "    <tr>\n",
       "      <th>505</th>\n",
       "      <td>b'260'</td>\n",
       "      <td>0</td>\n",
       "      <td>1</td>\n",
       "      <td>0.700794</td>\n",
       "      <td>NaN</td>\n",
       "      <td>1</td>\n",
       "      <td>0.599810</td>\n",
       "      <td>0.629122</td>\n",
       "      <td>0</td>\n",
       "      <td>0.324655</td>\n",
       "      <td>0.688893</td>\n",
       "      <td>1</td>\n",
       "      <td>0.632402</td>\n",
       "      <td>0.618755</td>\n",
       "      <td>1</td>\n",
       "      <td>0.827856</td>\n",
       "      <td>0.675023</td>\n",
       "      <td>0.617103</td>\n",
       "      <td>1</td>\n",
       "      <td>0.034370</td>\n",
       "    </tr>\n",
       "    <tr>\n",
       "      <th>506</th>\n",
       "      <td>b'127'</td>\n",
       "      <td>0</td>\n",
       "      <td>1</td>\n",
       "      <td>0.601724</td>\n",
       "      <td>NaN</td>\n",
       "      <td>0</td>\n",
       "      <td>0.247425</td>\n",
       "      <td>0.629122</td>\n",
       "      <td>1</td>\n",
       "      <td>0.711224</td>\n",
       "      <td>0.688893</td>\n",
       "      <td>1</td>\n",
       "      <td>0.646688</td>\n",
       "      <td>0.618755</td>\n",
       "      <td>1</td>\n",
       "      <td>0.500378</td>\n",
       "      <td>0.675023</td>\n",
       "      <td>0.541488</td>\n",
       "      <td>1</td>\n",
       "      <td>0.032917</td>\n",
       "    </tr>\n",
       "    <tr>\n",
       "      <th>507</th>\n",
       "      <td>b'128'</td>\n",
       "      <td>0</td>\n",
       "      <td>0</td>\n",
       "      <td>0.402128</td>\n",
       "      <td>NaN</td>\n",
       "      <td>1</td>\n",
       "      <td>0.604052</td>\n",
       "      <td>0.629122</td>\n",
       "      <td>0</td>\n",
       "      <td>0.395559</td>\n",
       "      <td>0.688893</td>\n",
       "      <td>0</td>\n",
       "      <td>0.415917</td>\n",
       "      <td>0.618755</td>\n",
       "      <td>1</td>\n",
       "      <td>0.699950</td>\n",
       "      <td>0.675023</td>\n",
       "      <td>0.503521</td>\n",
       "      <td>1</td>\n",
       "      <td>0.019575</td>\n",
       "    </tr>\n",
       "  </tbody>\n",
       "</table>\n",
       "<p>508 rows × 20 columns</p>\n",
       "</div>"
      ],
      "text/plain": [
       "     pat_id  y_test  y_pred_1  y_prob_1  cat_cross_1  y_pred_2  y_prob_2  \\\n",
       "0    b'214'       1         1  0.648868          NaN         1  0.787003   \n",
       "1    b'530'       1         1  0.979525          NaN         0  0.316994   \n",
       "2    b'458'       1         1  0.993579          NaN         1  0.962975   \n",
       "3    b'396'       1         1  0.950613          NaN         1  0.771483   \n",
       "4    b'233'       1         0  0.156692          NaN         0  0.315955   \n",
       "..      ...     ...       ...       ...          ...       ...       ...   \n",
       "503  b'108'       0         0  0.486297          NaN         1  0.797980   \n",
       "504  b'184'       0         0  0.298177          NaN         0  0.486809   \n",
       "505  b'260'       0         1  0.700794          NaN         1  0.599810   \n",
       "506  b'127'       0         1  0.601724          NaN         0  0.247425   \n",
       "507  b'128'       0         0  0.402128          NaN         1  0.604052   \n",
       "\n",
       "     cat_cross_2  y_pred_3  y_prob_3  cat_cross_3  y_pred_4  y_prob_4  \\\n",
       "0       0.644894         0  0.426100     0.762409         1  0.734037   \n",
       "1       0.644894         1  0.585746     0.762409         1  0.646319   \n",
       "2       0.644894         1  0.697914     0.762409         1  0.830974   \n",
       "3       0.644894         1  0.806141     0.762409         1  0.606691   \n",
       "4       0.644894         0  0.325972     0.762409         0  0.369222   \n",
       "..           ...       ...       ...          ...       ...       ...   \n",
       "503     0.629122         1  0.864499     0.688893         0  0.427547   \n",
       "504     0.629122         0  0.194467     0.688893         0  0.193021   \n",
       "505     0.629122         0  0.324655     0.688893         1  0.632402   \n",
       "506     0.629122         1  0.711224     0.688893         1  0.646688   \n",
       "507     0.629122         0  0.395559     0.688893         0  0.415917   \n",
       "\n",
       "     cat_cross_4  y_pred_5  y_prob_5  cat_cross_5  y_prob_mean  y_pred  \\\n",
       "0       0.703254         1  0.665187     0.629985     0.652239       1   \n",
       "1       0.703254         1  0.636919     0.629985     0.633100       1   \n",
       "2       0.703254         1  0.729043     0.629985     0.842897       1   \n",
       "3       0.703254         1  0.696687     0.629985     0.766323       1   \n",
       "4       0.703254         1  0.590114     0.629985     0.351591       0   \n",
       "..           ...       ...       ...          ...          ...     ...   \n",
       "503     0.618755         1  0.552668     0.675023     0.625798       1   \n",
       "504     0.618755         0  0.195967     0.675023     0.273688       0   \n",
       "505     0.618755         1  0.827856     0.675023     0.617103       1   \n",
       "506     0.618755         1  0.500378     0.675023     0.541488       1   \n",
       "507     0.618755         1  0.699950     0.675023     0.503521       1   \n",
       "\n",
       "     prob_var  \n",
       "0    0.019043  \n",
       "1    0.055591  \n",
       "2    0.017812  \n",
       "3    0.016477  \n",
       "4    0.024279  \n",
       "..        ...  \n",
       "503  0.037684  \n",
       "504  0.016211  \n",
       "505  0.034370  \n",
       "506  0.032917  \n",
       "507  0.019575  \n",
       "\n",
       "[508 rows x 20 columns]"
      ]
     },
     "execution_count": 3,
     "metadata": {},
     "output_type": "execute_result"
    }
   ],
   "source": [
    "#read file with predictions from 5 runs\n",
    "pred = pd.read_csv('C:/Users/Schule/OneDrive/Studium ZHAW/Bachelorarbeit/5facheCV/deepensemble.csv', sep = \";\")\n",
    "pred"
   ]
  },
  {
   "cell_type": "code",
   "execution_count": 4,
   "metadata": {},
   "outputs": [
    {
     "name": "stdout",
     "output_type": "stream",
     "text": [
      "Accuracy:  0.656  CI: [0.6132 0.6955]\n",
      "AUC:  0.597 CI: [0.543 0.651]\n",
      "Sensitivity:  0.795 CI: [0.75  0.834]\n",
      "Specificity:  0.344 CI: [0.274 0.421]\n",
      "Confusion matrix: \n",
      " [[ 54 103]\n",
      " [ 72 279]]\n",
      "Normalized Confusion matrix: \n",
      " [[0.344 0.656]\n",
      " [0.205 0.795]]\n"
     ]
    }
   ],
   "source": [
    "cm = confusion_matrix(pred.y_test, pred.y_pred)\n",
    "lower_acc, upper_acc = proportion_confint(sum(np.diag(cm)), np.sum(cm), 0.05, method = 'wilson')\n",
    "ci_acc = np.array([lower_acc, upper_acc])\n",
    "\n",
    "auc, auc_var, ci_auc = auc_ci_Delong(\n",
    "    y_true=pred.y_test,\n",
    "    y_scores=pred.y_prob_mean)\n",
    "\n",
    "sensitivity = cm[1,1]/(cm[1,1]+cm[1,0])\n",
    "lower_sens, upper_sens = proportion_confint(cm[1,1], (cm[1,1]+cm[1,0]), 0.05, method = 'wilson')\n",
    "ci_sens = np.array([lower_sens, upper_sens])\n",
    "\n",
    "specificity = cm[0,0]/(cm[0,0]+cm[0,1])\n",
    "lower_spec, upper_spec = proportion_confint(cm[0,0], (cm[0,0]+cm[0,1]), 0.05, method = 'wilson')\n",
    "ci_spec = np.array([lower_spec, upper_spec])\n",
    "\n",
    "nll = log_loss(pred.y_test, pred.y_prob_mean)\n",
    "\n",
    "print(\"Accuracy: \", round((np.mean(pred.y_pred == pred.y_test)),3), ' CI:', np.round(ci_acc,4) )\n",
    "print(\"AUC: \", round(auc, 3), 'CI:', np.round(ci_auc, 3))\n",
    "print(\"Sensitivity: \", round(sensitivity,3), 'CI:', np.round(ci_sens, 3))\n",
    "print(\"Specificity: \", round(specificity,3), 'CI:', np.round(ci_spec, 3))\n",
    "print(\"NLL: \", round(nll,4))\n",
    "print(\"Confusion matrix: \\n\", \n",
    "      cm)\n",
    "print(\"Normalized Confusion matrix: \\n\", \n",
    "      np.round(confusion_matrix(pred.y_test, pred.y_pred, normalize = 'true'),3))"
   ]
  },
  {
   "cell_type": "code",
   "execution_count": 4,
   "metadata": {},
   "outputs": [
    {
     "name": "stdout",
     "output_type": "stream",
     "text": [
      "correct_class:  0.030957815543543543\n",
      "incorrect_class:  0.03737061514857143\n",
      "correct_stroke:  0.031945236322580645\n",
      "incorrect_stroke:  0.052506570625\n",
      "correct_tia:  0.02585614151851852\n",
      "incorrect_tia:  0.026790141417475734\n"
     ]
    }
   ],
   "source": [
    "correct_class = pred.loc[lambda pred: pred['y_test'] == pred['y_pred']]\n",
    "\n",
    "print(\"correct_class: \" , correct_class['prob_var'].mean())\n",
    "\n",
    "incorrect_class = pred.loc[lambda pred: pred['y_test'] != pred['y_pred']]\n",
    "incorrect_class['prob_var'].mean()\n",
    "\n",
    "print(\"incorrect_class: \" , incorrect_class['prob_var'].mean())\n",
    "\n",
    "correct_stroke = pred.loc[(pred['y_test']== pred['y_pred']) & (pred['y_test'] == 1)]\n",
    "correct_stroke['prob_var'].mean()\n",
    "\n",
    "print(\"correct_stroke: \" , correct_stroke['prob_var'].mean())\n",
    "\n",
    "incorrect_stroke = pred.loc[(pred['y_test'] != pred['y_pred']) & (pred['y_test'] == 1)]\n",
    "incorrect_stroke['prob_var'].mean()\n",
    "\n",
    "print(\"incorrect_stroke: \" , incorrect_stroke['prob_var'].mean())\n",
    "\n",
    "correct_tia = pred.loc[(pred['y_test']== pred['y_pred']) & (pred['y_test'] == 0)]\n",
    "correct_tia['prob_var'].mean()\n",
    "\n",
    "print(\"correct_tia: \" , correct_tia['prob_var'].mean())\n",
    "\n",
    "incorrect_tia = pred.loc[(pred['y_test'] != pred['y_pred']) & (pred['y_test'] == 0)]\n",
    "incorrect_tia['prob_var'].mean()\n",
    "\n",
    "print(\"incorrect_tia: \" , incorrect_tia['prob_var'].mean())"
   ]
  },
  {
   "cell_type": "code",
   "execution_count": 12,
   "metadata": {},
   "outputs": [
    {
     "data": {
      "image/png": "[encoded data removed]",
      "text/plain": [
       "<Figure size 432x288 with 1 Axes>"
      ]
     },
     "metadata": {
      "needs_background": "light"
     },
     "output_type": "display_data"
    }
   ],
   "source": [
    "plt.hist(correct_class['prob_var'], bins = 20, color = \"#2F5597\")\n",
    "plt.title(\"Varianz der Richtig-Klassifizierungen\")\n",
    "plt.xlabel(\"Varianz der Vorhersage-Wahrscheinlichkeiten\")\n",
    "plt.ylabel(\"Anzahl Vorhersagen\")\n",
    "plt.xlim(right = 0.16)\n",
    "fig1 = plt.gcf()\n",
    "plt.show()\n",
    "p = '~/Histogramm_Varianzen_korrekte_Klasse.png'\n",
    "fig1.savefig(p, dpi = 300,bbox_inches='tight')"
   ]
  },
  {
   "cell_type": "code",
   "execution_count": 11,
   "metadata": {},
   "outputs": [
    {
     "data": {
      "image/png": "[encoded data removed]",
      "text/plain": [
       "<Figure size 432x288 with 1 Axes>"
      ]
     },
     "metadata": {
      "needs_background": "light"
     },
     "output_type": "display_data"
    }
   ],
   "source": [
    "plt.hist(incorrect_class['prob_var'], bins = 20, color = '#7F7F7F')\n",
    "plt.title(\"Varianz der Falsch-Klassifizierungen\")\n",
    "plt.xlabel(\"Varianz der Vorhersage-Wahrscheinlichkeiten\")\n",
    "plt.ylabel(\"Anzahl Vorhersagen\")\n",
    "plt.xlim(right = 0.16)\n",
    "fig1 = plt.gcf()\n",
    "plt.show()\n",
    "p = '~/Histogramm_Varianzen_inkorrekte_Klasse.png'\n",
    "fig1.savefig(p, dpi = 300,bbox_inches='tight')"
   ]
  },
  {
   "cell_type": "code",
   "execution_count": 10,
   "metadata": {},
   "outputs": [
    {
     "data": {
      "image/png": "[encoded data removed]",
      "text/plain": [
       "<Figure size 432x288 with 1 Axes>"
      ]
     },
     "metadata": {
      "needs_background": "light"
     },
     "output_type": "display_data"
    }
   ],
   "source": [
    "plt.hist(correct_stroke['prob_var'], bins = 20, color = \"#2F5597\")\n",
    "plt.title(\"Varianz Richtig-Klassifizierungen der Klasse Schlaganfall\")\n",
    "plt.xlabel(\"Varianz der Vorhersage-Wahrscheinlichkeiten\")\n",
    "plt.ylabel(\"Anzahl Vorhersagen\")\n",
    "plt.xlim(right = 0.16)\n",
    "fig1 = plt.gcf()\n",
    "plt.show()\n",
    "p = '~/Histogramm_Varianzen_korrekte_Stroke.png'\n",
    "fig1.savefig(p, dpi = 300,bbox_inches='tight')"
   ]
  },
  {
   "cell_type": "code",
   "execution_count": 9,
   "metadata": {},
   "outputs": [
    {
     "data": {
      "image/png": "[encoded data removed]",
      "text/plain": [
       "<Figure size 432x288 with 1 Axes>"
      ]
     },
     "metadata": {
      "needs_background": "light"
     },
     "output_type": "display_data"
    }
   ],
   "source": [
    "plt.hist(incorrect_stroke['prob_var'], bins = 20, color = '#7F7F7F')\n",
    "plt.title(\"Varianz Falsch-Klassifizierungen der Klasse Schlaganfall\")\n",
    "plt.xlabel(\"Varianz der Vorhersage-Wahrscheinlichkeiten\")\n",
    "plt.ylabel(\"Anzahl Vorhersagen\")\n",
    "plt.xlim(right = 0.16)\n",
    "fig1 = plt.gcf()\n",
    "plt.show()\n",
    "p = '~/Histogramm_Varianzen_inkorrekte_Stroke.png'\n",
    "fig1.savefig(p, dpi = 300,bbox_inches='tight')"
   ]
  },
  {
   "cell_type": "code",
   "execution_count": 8,
   "metadata": {},
   "outputs": [
    {
     "data": {
      "image/png": "[encoded data removed]",
      "text/plain": [
       "<Figure size 432x288 with 1 Axes>"
      ]
     },
     "metadata": {
      "needs_background": "light"
     },
     "output_type": "display_data"
    }
   ],
   "source": [
    "plt.hist(correct_tia['prob_var'], bins = 20, color = \"#2F5597\")\n",
    "plt.title(\"Varianz Richtig-Klassifizierungen der Klasse TIA\")\n",
    "plt.xlabel(\"Varianz der Vorhersage-Wahrscheinlichkeiten\")\n",
    "plt.ylabel(\"Anzahl Vorhersagen\")\n",
    "plt.xlim(right = 0.16)\n",
    "fig1 = plt.gcf()\n",
    "plt.show()\n",
    "p = '~/Histogramm_Varianzen_korrekte_TIA.png'\n",
    "fig1.savefig(p, dpi = 300,bbox_inches='tight')"
   ]
  },
  {
   "cell_type": "code",
   "execution_count": 7,
   "metadata": {},
   "outputs": [
    {
     "data": {
      "image/png": "[encoded data removed]",
      "text/plain": [
       "<Figure size 432x288 with 1 Axes>"
      ]
     },
     "metadata": {
      "needs_background": "light"
     },
     "output_type": "display_data"
    }
   ],
   "source": [
    "plt.hist(incorrect_tia['prob_var'], bins = 20,  color = '#7F7F7F')\n",
    "plt.title(\"Varianz Falsch-Klassifizierungen der Klasse TIA\")\n",
    "plt.xlabel(\"Varianz der Vorhersage-Wahrscheinlichkeiten\")\n",
    "plt.ylabel(\"Anzahl Vorhersagen\")\n",
    "plt.xlim(right = 0.16)\n",
    "fig1 = plt.gcf()\n",
    "plt.show()\n",
    "p = '~/Histogramm_Varianzen_inkorrekt_TIA.png'\n",
    "fig1.savefig(p, dpi = 300,bbox_inches='tight')"
   ]
  }
 ],
 "metadata": {
  "kernelspec": {
   "display_name": "Python 3",
   "language": "python",
   "name": "python3"
  },
  "language_info": {
   "codemirror_mode": {
    "name": "ipython",
    "version": 3
   },
   "file_extension": ".py",
   "mimetype": "text/x-python",
   "name": "python",
   "nbconvert_exporter": "python",
   "pygments_lexer": "ipython3",
   "version": "3.6.12"
  }
 },
 "nbformat": 4,
 "nbformat_minor": 2
}
