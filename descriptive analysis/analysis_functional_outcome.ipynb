{
 "cells": [
  {
   "cell_type": "code",
   "execution_count": null,
   "id": "looking-editing",
   "metadata": {},
   "outputs": [],
   "source": [
    "import pandas as pd\n",
    "import numpy as np\n",
    "from matplotlib import pyplot as plt\n",
    "import seaborn as sns"
   ]
  },
  {
   "cell_type": "code",
   "execution_count": null,
   "id": "certified-criminal",
   "metadata": {},
   "outputs": [],
   "source": [
    "pat_ids = pd.read_excel('~/patids_outcome.xlsx')\n",
    "pat_ids"
   ]
  },
  {
   "cell_type": "code",
   "execution_count": null,
   "id": "attractive-starter",
   "metadata": {},
   "outputs": [],
   "source": [
    "pat_ids['outcome_groups'].value_counts()"
   ]
  },
  {
   "cell_type": "code",
   "execution_count": null,
   "id": "excited-machine",
   "metadata": {},
   "outputs": [],
   "source": [
    "grouped = pat_ids.groupby(['mrs_3months', 'Labels'])['p_id'].count().unstack().fillna(0)\n",
    "grouped.columns = ['Schlaganfall', 'TIA'] "
   ]
  },
  {
   "cell_type": "code",
   "execution_count": null,
   "id": "absolute-minister",
   "metadata": {},
   "outputs": [],
   "source": [
    "grouped.plot(kind='bar', stacked=False, color = ['#2F5597','#7F7F7F'])\n",
    "plt.xticks(rotation=0, ha='center')\n",
    "plt.xlabel('mRS nach 3 Monaten')\n",
    "plt.ylabel('Anzahl Patienten')\n",
    "\n",
    "plt.rc('axes', labelsize=12) #fontsize of the x and y labels\n",
    "p = '~/Barplot_6outcomes.png'\n",
    "fig1 = plt.gcf()\n",
    "plt.show()\n",
    "fig1.savefig(p, dpi = 300,bbox_inches='tight')"
   ]
  },
  {
   "cell_type": "code",
   "execution_count": null,
   "id": "addressed-somewhere",
   "metadata": {},
   "outputs": [],
   "source": [
    "grouped_outcome_groups = pat_ids.groupby(['outcome_groups', 'Labels'])['p_id'].count().unstack().fillna(0)\n",
    "grouped_outcome_groups.columns = ['Schlaganfall', 'TIA'] \n",
    "grouped_outcome_groups"
   ]
  },
  {
   "cell_type": "code",
   "execution_count": null,
   "id": "commercial-algeria",
   "metadata": {},
   "outputs": [],
   "source": [
    "grouped_outcome_groups.plot(kind='bar', stacked=False, color =  ['#2F5597','#7F7F7F'])\n",
    "plt.xticks(rotation=0, ha='center')\n",
    "plt.xlabel('Zusammengefasste Gruppen')\n",
    "plt.ylabel('Anzahl Patienten')\n",
    "plt.rc('axes', labelsize=12) #fontsize of the x and y labels\n",
    "\n",
    "p = '~/Barplot_2outcomes.png'\n",
    "fig2 = plt.gcf()\n",
    "plt.show()\n",
    "fig2.savefig(p, dpi = 300,bbox_inches='tight')"
   ]
  }
 ],
 "metadata": {
  "kernelspec": {
   "display_name": "Python 3",
   "language": "python",
   "name": "python3"
  },
  "language_info": {
   "codemirror_mode": {
    "name": "ipython",
    "version": 3
   },
   "file_extension": ".py",
   "mimetype": "text/x-python",
   "name": "python",
   "nbconvert_exporter": "python",
   "pygments_lexer": "ipython3",
   "version": "3.6.12"
  }
 },
 "nbformat": 4,
 "nbformat_minor": 5
}
