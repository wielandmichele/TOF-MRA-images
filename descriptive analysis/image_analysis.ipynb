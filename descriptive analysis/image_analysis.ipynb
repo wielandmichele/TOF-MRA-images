{
 "cells": [
  {
   "cell_type": "code",
   "execution_count": null,
   "id": "funky-chuck",
   "metadata": {},
   "outputs": [],
   "source": [
    "import pandas as pd\n",
    "import numpy as np\n",
    "from matplotlib import pyplot as plt\n",
    "\n",
    "from Functions.data_import import *\n",
    "from Functions.data_augmentation import *"
   ]
  },
  {
   "cell_type": "code",
   "execution_count": null,
   "id": "intelligent-scotland",
   "metadata": {},
   "outputs": [],
   "source": [
    "path = \"~/patids_withlabel.xlsx\"\n",
    "patids_labels = pd.read_excel(path)\n",
    "patids_labels.head()"
   ]
  },
  {
   "cell_type": "code",
   "execution_count": null,
   "id": "geological-timber",
   "metadata": {},
   "outputs": [],
   "source": [
    "patids_labels['Labels'].value_counts()"
   ]
  },
  {
   "cell_type": "code",
   "execution_count": null,
   "id": "dynamic-porter",
   "metadata": {},
   "outputs": [],
   "source": [
    "paths_tof = pd.read_csv('~/file_paths_tof.csv', header=None) \n",
    "names = ['pat_id', 'path','sequence', 'thickness']\n",
    "paths_tof.columns = names\n",
    "paths_tof"
   ]
  },
  {
   "cell_type": "markdown",
   "id": "aerial-connectivity",
   "metadata": {},
   "source": [
    "### Analyse formats of TOF images"
   ]
  },
  {
   "cell_type": "code",
   "execution_count": null,
   "id": "considered-description",
   "metadata": {},
   "outputs": [],
   "source": [
    "pat_ids = (paths_tof.loc[:,'pat_id']).to_numpy()\n",
    "pat_ids = np.unique(pat_ids)\n",
    "df = pd.DataFrame()\n",
    "for index, ID in enumerate(pat_ids):\n",
    "    try:\n",
    "        X = image_to_array(ID)\n",
    "        df.loc[index, 'patient'] = ID\n",
    "        df.loc[index, 'n_images'] = X.shape[0]\n",
    "        df.loc[index, 'rows'] = X.shape[1]\n",
    "        df.loc[index, 'cols'] = X.shape[2]\n",
    "        df.loc[index, 'min'] = np.min(X)\n",
    "        df.loc[index, 'max'] = np.max(X)\n",
    "    except:\n",
    "         print(ID)\n",
    "            \n",
    "image_info_dir = 'D:\\\\format_images_tof.csv'\n",
    "if os.path.exists(image_info_dir):\n",
    "   os.remove(image_info_dir)\n",
    "with open(image_info_dir, 'a') as f:\n",
    "        df.to_csv(f, header = False, index = False)"
   ]
  },
  {
   "cell_type": "code",
   "execution_count": null,
   "id": "renewable-belfast",
   "metadata": {},
   "outputs": [],
   "source": [
    "image_info_dir = '~/format_images_tof.csv'\n",
    "formats_tof = pd.read_csv(image_info_dir, header=None) \n",
    "names = ['pat_id', 'rows', 'cols', 'n_images', 'min', 'max']\n",
    "formats_tof.columns = names\n",
    "formats_tof"
   ]
  },
  {
   "cell_type": "code",
   "execution_count": null,
   "id": "broke-familiar",
   "metadata": {},
   "outputs": [],
   "source": [
    "plt.hist(formats_tof['n_images'], bins = 15)\n",
    "plt.xlabel(\"Anzahl Bilder in Serie\")\n",
    "plt.ylabel(\"Anzahl Patienten\")\n",
    "plt.show()"
   ]
  },
  {
   "cell_type": "code",
   "execution_count": null,
   "id": "cognitive-karen",
   "metadata": {},
   "outputs": [],
   "source": [
    "formats_tof['format'] = list(zip(formats_tof.cols, formats_tof.rows))\n",
    "value_counts = formats_tof['format'].value_counts()\n",
    "df_value_counts = pd.DataFrame(value_counts)\n",
    "df_value_counts = df_value_counts.reset_index()\n",
    "df_value_counts.columns = ['format', 'count']\n",
    "df_value_counts['format'] = df_value_counts['format'].astype(str)\n",
    "plt.bar(df_value_counts['format'], df_value_counts['count'])\n",
    "plt.tick_params(axis='x', labelrotation = 60)\n",
    "plt.xlabel(\"Bildformate\")\n",
    "plt.ylabel(\"Anzahl Patienten\")\n",
    "fig2 = plt.gcf()\n",
    "plt.show()\n",
    "fig2.savefig('Hist_image_formats.png', dpi = 300,bbox_inches='tight')"
   ]
  },
  {
   "cell_type": "code",
   "execution_count": null,
   "id": "saved-perth",
   "metadata": {},
   "outputs": [],
   "source": [
    "plt.hist(formats_tof['max'])\n",
    "plt.xlabel(\"Maximaler Wert\")\n",
    "plt.ylabel(\"Anzahl Arrays\")\n",
    "plt.show()"
   ]
  },
  {
   "cell_type": "markdown",
   "id": "following-richardson",
   "metadata": {},
   "source": [
    "### Create pixel histogramms"
   ]
  },
  {
   "cell_type": "code",
   "execution_count": null,
   "id": "impaired-poster",
   "metadata": {},
   "outputs": [],
   "source": [
    "mri = image_to_array(1)\n",
    "print(mri.shape, mri.min(), mri.max())"
   ]
  },
  {
   "cell_type": "code",
   "execution_count": null,
   "id": "eligible-overhead",
   "metadata": {},
   "outputs": [],
   "source": [
    "pid = \"1 - Bild 1/190\"\n",
    "sequenz = 0\n",
    "fig, (ax1, ax2) = plt.subplots(figsize=(13, 5), ncols=2)\n",
    "plt.suptitle(\"Patient {}\".format(pid), fontsize = 20)\n",
    "values = mri[:,:,sequenz].flatten()\n",
    "slice = mri[:,:,sequenz]\n",
    "sns.distplot(ax = ax1, a = values, bins = 60, color = \"#2F5597\")\n",
    "ax1.set_xlabel('Pixel-Wert', fontsize = 14) \n",
    "ax1.set_ylabel('Dichte', fontsize = 14)\n",
    "ax1.set(xlim=(-10, 900))\n",
    "pos = ax2.imshow(slice, cmap='gray') #vmin = 0, vmax = 1,\n",
    "cbar = fig.colorbar(pos, ax=ax2)\n",
    "cbar.minorticks_on()\n",
    "p = '~/Histogramm_Pat1_Image1_190.png'\n",
    "fig.savefig(p)"
   ]
  },
  {
   "cell_type": "code",
   "execution_count": null,
   "id": "oriented-scout",
   "metadata": {},
   "outputs": [],
   "source": [
    "pid = \"1 - Bild 50/190\"\n",
    "sequenz = 49\n",
    "fig, (ax1, ax2) = plt.subplots(figsize=(13, 5), ncols=2)\n",
    "plt.suptitle(\"Patient {}\".format(pid), fontsize = 20)\n",
    "values = mri[:,:,sequenz].flatten()\n",
    "slice = mri[:,:,sequenz]\n",
    "sns.distplot(ax = ax1, a = values, bins = 60, color = \"#2F5597\")\n",
    "ax1.set_xlabel('Pixel-Wert', fontsize = 14) \n",
    "ax1.set_ylabel('Dichte', fontsize = 14)\n",
    "ax1.set(xlim=(-10, 1200))\n",
    "#ax1.set(ylim=(0,0.035))\n",
    "pos = ax2.imshow(slice, cmap='gray') #vmin = 0, vmax = 1,\n",
    "cbar = fig.colorbar(pos, ax=ax2)\n",
    "cbar.minorticks_on()\n",
    "p = '~/Histogramm_Pat1_Image50_190.png'\n",
    "fig.savefig(p)"
   ]
  },
  {
   "cell_type": "code",
   "execution_count": null,
   "id": "applied-wrong",
   "metadata": {},
   "outputs": [],
   "source": [
    "pid = \"1 - Bild 100/190\"\n",
    "sequenz = 99\n",
    "fig, (ax1, ax2) = plt.subplots(figsize=(13, 5), ncols=2)\n",
    "plt.suptitle(\"Patient {}\".format(pid), fontsize = 20)\n",
    "values = mri[:,:,sequenz].flatten()\n",
    "slice = mri[:,:,sequenz]\n",
    "sns.distplot(ax = ax1, a = values, bins = 60, color = \"#2F5597\")\n",
    "ax1.set_xlabel('Pixel-Wert', fontsize = 14) \n",
    "ax1.set_ylabel('Dichte', fontsize = 14)\n",
    "ax1.set(xlim=(-10, 1300))\n",
    "#ax1.set(ylim=(0,0.035))\n",
    "pos = ax2.imshow(slice, cmap='gray') #vmin = 0, vmax = 1,\n",
    "cbar = fig.colorbar(pos, ax=ax2)\n",
    "cbar.minorticks_on()\n",
    "p = '~/Histogramm_Pat1_Image100_190.png'\n",
    "fig.savefig(p)"
   ]
  },
  {
   "cell_type": "code",
   "execution_count": null,
   "id": "capable-immigration",
   "metadata": {},
   "outputs": [],
   "source": [
    "pid = \"1 - Bild 190/190\"\n",
    "sequenz = 189\n",
    "fig, (ax1, ax2) = plt.subplots(figsize=(13, 5), ncols=2)\n",
    "plt.suptitle(\"Patient {}\".format(pid), fontsize = 20)\n",
    "values = mri[:,:,sequenz].flatten()\n",
    "slice = mri[:,:,sequenz]\n",
    "sns.distplot(ax = ax1, a = values, bins = 60, color = \"#2F5597\")\n",
    "ax1.set_xlabel('Pixel-Wert', fontsize = 14) \n",
    "ax1.set_ylabel('Dichte', fontsize = 14)\n",
    "ax1.set(xlim=(-10, 750))\n",
    "#ax1.set(ylim=(0,0.035))\n",
    "pos = ax2.imshow(slice, cmap='gray') #vmin = 0, vmax = 1,\n",
    "cbar = fig.colorbar(pos, ax=ax2)\n",
    "cbar.minorticks_on()\n",
    "p = '~/Histogramm_Pat1_Image190_190.png'\n",
    "fig.savefig(p)"
   ]
  },
  {
   "cell_type": "markdown",
   "id": "relative-minute",
   "metadata": {},
   "source": [
    "### Plot images"
   ]
  },
  {
   "cell_type": "code",
   "execution_count": null,
   "id": "known-bristol",
   "metadata": {},
   "outputs": [],
   "source": [
    "### plot all images for one patient\n",
    "def plot_3d_images(pid, data):\n",
    "    n_slices = data.shape[2]\n",
    "    n_cols = 8\n",
    "    n_rows = math.ceil(n_slices/n_cols)\n",
    "    aspect_ratio = 1\n",
    "    base_size = 4\n",
    "    fig_size = (n_cols*base_size/aspect_ratio, n_rows*base_size)\n",
    "    fig = plt.figure(figsize=fig_size)\n",
    "    \n",
    "    sp = 1\n",
    "    for index in range(0, n_slices):\n",
    "        ax = fig.add_subplot(n_rows, n_cols, sp)\n",
    "        img = data[:,:,index]\n",
    "        plt.imshow(img, 'gray')\n",
    "        ax.set_aspect('equal', 'box')\n",
    "        ax.set_axis_off()\n",
    "        sp += 1\n",
    "        \n",
    "    fig.tight_layout(w_pad=0, h_pad=1.0)\n",
    "    \n",
    "    p = '~/{}_3D_images.png'.format(pid)\n",
    "    fig.savefig(p)\n",
    "    plt.show()"
   ]
  },
  {
   "cell_type": "code",
   "execution_count": null,
   "id": "needed-tumor",
   "metadata": {},
   "outputs": [],
   "source": [
    "#plot every tenth image for one patient\n",
    "def plot20_3d_images(pid, data):\n",
    "    n_slices = math.floor(data.shape[2]/10)\n",
    "    n_cols = 8\n",
    "    n_rows = math.ceil(n_slices/n_cols)\n",
    "    aspect_ratio = 1\n",
    "    base_size = 4\n",
    "    fig_size = (n_cols*base_size/aspect_ratio, n_rows*base_size)\n",
    "    fig = plt.figure(figsize=fig_size)\n",
    "    \n",
    "    sp = 1\n",
    "    index = 0\n",
    "    for i in range(0, n_slices):\n",
    "        ax = fig.add_subplot(n_rows, n_cols, sp)\n",
    "        img = data[:,:,index]\n",
    "        plt.imshow(img, 'gray')\n",
    "        ax.set_aspect('equal', 'box')\n",
    "        ax.set_axis_off()\n",
    "        sp += 1\n",
    "        index += 10\n",
    "        \n",
    "    fig.tight_layout(w_pad=0, h_pad=1.0)\n",
    "    \n",
    "    p = '~/{}_3D_images_10er.png'.format(pid)\n",
    "    fig.savefig(p)\n",
    "    plt.show()"
   ]
  }
 ],
 "metadata": {
  "kernelspec": {
   "display_name": "Python 3",
   "language": "python",
   "name": "python3"
  },
  "language_info": {
   "codemirror_mode": {
    "name": "ipython",
    "version": 3
   },
   "file_extension": ".py",
   "mimetype": "text/x-python",
   "name": "python",
   "nbconvert_exporter": "python",
   "pygments_lexer": "ipython3",
   "version": "3.6.12"
  }
 },
 "nbformat": 4,
 "nbformat_minor": 5
}
