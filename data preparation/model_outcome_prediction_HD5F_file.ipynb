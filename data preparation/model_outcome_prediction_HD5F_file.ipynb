{
 "cells": [
  {
   "cell_type": "code",
   "execution_count": null,
   "id": "offensive-satisfaction",
   "metadata": {},
   "outputs": [],
   "source": [
    "import os\n",
    "import pandas as pd\n",
    "import pydicom\n",
    "import h5py\n",
    "import numpy as np\n",
    "from scipy import ndimage\n",
    "import math\n",
    "import matplotlib.pyplot as plt \n",
    "\n",
    "from Functions.data_import import *"
   ]
  },
  {
   "cell_type": "markdown",
   "id": "historic-venezuela",
   "metadata": {},
   "source": [
    "### Import File with paths to images"
   ]
  },
  {
   "cell_type": "code",
   "execution_count": null,
   "id": "funny-edmonton",
   "metadata": {},
   "outputs": [],
   "source": [
    "PATH_IMAGE_INFO = '~/file_paths_tof.csv'"
   ]
  },
  {
   "cell_type": "code",
   "execution_count": null,
   "id": "sitting-messaging",
   "metadata": {},
   "outputs": [],
   "source": [
    "data_info = pd.read_csv(PATH_IMAGE_INFO)\n",
    "names = ['pat_id','path', 'sequence', 'thickness']\n",
    "data_info.columns = names\n",
    "data_info['pat_id'] = data_info['pat_id'].astype(int)\n",
    "data_info.head()"
   ]
  },
  {
   "cell_type": "code",
   "execution_count": null,
   "id": "sunrise-notification",
   "metadata": {},
   "outputs": [],
   "source": [
    "patient_list = list(set(data_info.pat_id))\n",
    "len(patient_list) # how many patients do we have?"
   ]
  },
  {
   "cell_type": "markdown",
   "id": "protecting-pharmacology",
   "metadata": {},
   "source": [
    "### Import Labels for patients"
   ]
  },
  {
   "cell_type": "code",
   "execution_count": null,
   "id": "developed-textbook",
   "metadata": {},
   "outputs": [],
   "source": [
    "path = \"~/patids_outcome.xlsx\"\n",
    "patids_outcome = pd.read_excel(path)\n",
    "patids_outcome.head()"
   ]
  },
  {
   "cell_type": "code",
   "execution_count": null,
   "id": "short-catering",
   "metadata": {},
   "outputs": [],
   "source": [
    "patids_outcome['outcome_groups'].value_counts()"
   ]
  },
  {
   "cell_type": "code",
   "execution_count": null,
   "id": "victorian-investment",
   "metadata": {},
   "outputs": [],
   "source": [
    "len(patids_outcome.p_id)"
   ]
  },
  {
   "cell_type": "markdown",
   "id": "appointed-spain",
   "metadata": {},
   "source": [
    "### Create HDF5 File"
   ]
  },
  {
   "cell_type": "code",
   "execution_count": null,
   "id": "fatty-encoding",
   "metadata": {},
   "outputs": [],
   "source": [
    "root_dir = \"D:\\Pat_\"\n",
    "def get_paths_tof(pat_id):\n",
    "    DIR = root_dir+str(pat_id)+\"\\Pat\"+str(pat_id)+\"_TOF\"\n",
    "    folder = os.listdir(DIR)[0]\n",
    "    DIR = DIR+\"\\\\\"+folder\n",
    "    folder = os.listdir(DIR)[0]\n",
    "    DIR = DIR+\"\\\\\"+folder\n",
    "    folder = os.listdir(DIR)[0]\n",
    "    DIR = DIR+\"\\\\\"+folder\n",
    "        \n",
    "    return(DIR)"
   ]
  },
  {
   "cell_type": "code",
   "execution_count": null,
   "id": "julian-potential",
   "metadata": {},
   "outputs": [],
   "source": [
    "IMAGE_DIMENSIONS_TOF = (128, 112, 40) #format for images \n",
    "PATH_3D_H5 = 'D:\\\\tof_data_128_112_40_outcome.hdf5'"
   ]
  },
  {
   "cell_type": "code",
   "execution_count": null,
   "id": "variable-lotus",
   "metadata": {},
   "outputs": [],
   "source": [
    "first_patient = True\n",
    "\n",
    "if os.path.exists(PATH_3D_H5):\n",
    "    os.remove(PATH_3D_H5)\n",
    "    \n",
    "patient_list = list(patids_outcome.p_id)\n",
    "\n",
    "with h5py.File(PATH_3D_H5, 'a') as f:\n",
    "    for patient_number in patient_list:\n",
    "        patient_data = data_info[data_info.pat_id == patient_number].copy()\n",
    "        directory = get_paths_tof(patient_number)\n",
    "\n",
    "        #image to array\n",
    "        raw_3d_image = image_to_array(patient_number)\n",
    "        \n",
    "        #remove images from z-axis\n",
    "        #array_sliced = remove_slices_zaxis(raw_3d_image)\n",
    "\n",
    "        #resize image\n",
    "        scaled_3d_image = scale_array_3D(raw_3d_image, IMAGE_DIMENSIONS_TOF)\n",
    "\n",
    "        # Image matrices\n",
    "        X = scaled_3d_image[np.newaxis, :, :, :]\n",
    "\n",
    "        # Patient ID's\n",
    "        pat = format(patient_number, '03d')\n",
    "        pat = np.string_([pat])\n",
    "\n",
    "        #path to file with all images for patient\n",
    "        path = np.string_([directory]) \n",
    "\n",
    "        #label 0 = good outcome, label 1 = bad outcome\n",
    "        Y_pat = patids_outcome.outcome_groups.loc[patids_outcome.p_id == patient_number].values\n",
    "        Y = np.array(Y_pat)\n",
    "\n",
    "        ## write to h5py sequentially\n",
    "        ms = [id for id in IMAGE_DIMENSIONS_TOF]\n",
    "        ms.insert(0, None)\n",
    "        ms = tuple(ms)\n",
    "\n",
    "        if first_patient: ## initialize dataset\n",
    "            f.create_dataset('X', data = X, maxshape = ms, chunks = True)\n",
    "            f.create_dataset('stroke', data = Y_pat, maxshape = (None,), chunks = True)\n",
    "            f.create_dataset('pat', data = pat, maxshape = (None,), chunks = True)\n",
    "            f.create_dataset('path', data = path, maxshape = (None,), chunks = True)\n",
    "            first_patient = False\n",
    "\n",
    "        else: ## append dataset\n",
    "            f['X'].resize((f['X'].shape[0] + X.shape[0]), axis = 0)\n",
    "            f['X'][-X.shape[0]:, :, :, :] = X\n",
    "            f['stroke'].resize((f['stroke'].shape[0] + Y_pat.shape[0]), axis = 0)\n",
    "            f['stroke'][-Y_pat.shape[0]:] = Y_pat\n",
    "            f['pat'].resize((f['pat'].shape[0] + pat.shape[0]), axis = 0)\n",
    "            f['pat'][-pat.shape[0]:] = pat\n",
    "            f['path'].resize((f['path'].shape[0] + path.shape[0]), axis = 0)\n",
    "            f['path'][-path.shape[0]:] = path"
   ]
  },
  {
   "cell_type": "code",
   "execution_count": null,
   "id": "special-raise",
   "metadata": {},
   "outputs": [],
   "source": [
    "f.close()"
   ]
  },
  {
   "cell_type": "markdown",
   "id": "dated-chick",
   "metadata": {},
   "source": [
    "### Checking HDF5 File"
   ]
  },
  {
   "cell_type": "code",
   "execution_count": null,
   "id": "adjacent-vertical",
   "metadata": {},
   "outputs": [],
   "source": [
    "dd = h5py.File(PATH_3D_H5, 'r')\n",
    "list(dd.keys())"
   ]
  },
  {
   "cell_type": "code",
   "execution_count": null,
   "id": "reverse-contemporary",
   "metadata": {},
   "outputs": [],
   "source": [
    "X = dd['X']\n",
    "np.max(X)"
   ]
  },
  {
   "cell_type": "code",
   "execution_count": null,
   "id": "continent-hunter",
   "metadata": {},
   "outputs": [],
   "source": [
    "patients = [p.decode() for p in dd['pat']]\n",
    "len(patients)"
   ]
  },
  {
   "cell_type": "code",
   "execution_count": null,
   "id": "thick-henry",
   "metadata": {},
   "outputs": [],
   "source": [
    "path = [p for p in dd['path']]\n",
    "path[0:10]"
   ]
  },
  {
   "cell_type": "code",
   "execution_count": null,
   "id": "million-exception",
   "metadata": {},
   "outputs": [],
   "source": [
    "labels = [p for p in dd['stroke']]\n",
    "labels"
   ]
  },
  {
   "cell_type": "code",
   "execution_count": null,
   "id": "assured-chassis",
   "metadata": {},
   "outputs": [],
   "source": [
    "dd.close()"
   ]
  }
 ],
 "metadata": {
  "kernelspec": {
   "display_name": "Python 3",
   "language": "python",
   "name": "python3"
  },
  "language_info": {
   "codemirror_mode": {
    "name": "ipython",
    "version": 3
   },
   "file_extension": ".py",
   "mimetype": "text/x-python",
   "name": "python",
   "nbconvert_exporter": "python",
   "pygments_lexer": "ipython3",
   "version": "3.6.12"
  }
 },
 "nbformat": 4,
 "nbformat_minor": 5
}
