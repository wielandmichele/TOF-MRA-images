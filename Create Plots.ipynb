{
 "cells": [
  {
   "cell_type": "code",
   "execution_count": null,
   "metadata": {},
   "outputs": [],
   "source": [
    "import os\n",
    "import pandas as pd\n",
    "import pydicom\n",
    "import h5py\n",
    "import numpy as np\n",
    "from scipy import ndimage\n",
    "from matplotlib import pyplot, cm\n",
    "from matplotlib import pyplot as plt\n",
    "import cv2\n",
    "import matplotlib.image as mpimg\n",
    "import math\n",
    "import seaborn as sns"
   ]
  },
  {
   "cell_type": "code",
   "execution_count": null,
   "metadata": {},
   "outputs": [],
   "source": [
    "PATH_IMAGE_INFO = 'D:\\\\file_paths_tof.csv'\n",
    "data_info = pd.read_csv(PATH_IMAGE_INFO)\n",
    "names = ['pat_id','path', 'sequence', 'thickness']\n",
    "data_info.columns = names\n",
    "data_info['pat_id'] = data_info['pat_id'].astype(int)\n",
    "data_info.head()"
   ]
  },
  {
   "cell_type": "code",
   "execution_count": null,
   "metadata": {},
   "outputs": [],
   "source": [
    "def image_to_array(pat_id):\n",
    "    file_list = (data_info.loc[data_info['pat_id'] == pat_id, 'path']).tolist()\n",
    "    ref_file = pydicom.read_file(file_list[0]) \n",
    "    image_dims_3d = (int(ref_file.Rows), int(ref_file.Columns), len(file_list))\n",
    "    origArray = np.zeros(image_dims_3d, dtype=ref_file.pixel_array.dtype)\n",
    "    for filename in file_list:\n",
    "        ds = pydicom.read_file(filename)\n",
    "        origArray[:, :, file_list.index(filename)] = ds.pixel_array\n",
    "        \n",
    "    return origArray"
   ]
  },
  {
   "cell_type": "code",
   "execution_count": null,
   "metadata": {},
   "outputs": [],
   "source": [
    "def normalize_array(array):\n",
    "    min = np.min(array)\n",
    "    max = np.max(array)\n",
    "    normalized = (array - min) / (max - min)\n",
    "    return normalized"
   ]
  },
  {
   "cell_type": "code",
   "execution_count": null,
   "metadata": {},
   "outputs": [],
   "source": [
    "def scale_array_3D(array, dims):\n",
    "    ## scales array to IMAGE_DIMENSIONS_3D and normalizes to [0,1]\n",
    "    \n",
    "    scaling_factor = [dims[0]/array.shape[0], dims[1]/array.shape[1], dims[2]/array.shape[2]]\n",
    "    scaledArray = ndimage.zoom(array, scaling_factor)\n",
    "    scaledArray = normalize_array(scaledArray)\n",
    "\n",
    "    print(\"Scaled image size: {}\".format(dims))\n",
    "    return scaledArray"
   ]
  },
  {
   "cell_type": "code",
   "execution_count": null,
   "metadata": {},
   "outputs": [],
   "source": [
    "IMAGE_DIMENSIONS_TOF = (640, 560, 200)"
   ]
  },
  {
   "cell_type": "code",
   "execution_count": null,
   "metadata": {},
   "outputs": [],
   "source": [
    "def plot_image_hist(pid):\n",
    "    image = image_to_array(pid)\n",
    "    image = scale_array_3D(image, IMAGE_DIMENSIONS_TOF)\n",
    "    image_count = image.shape[2]\n",
    "    fig, axes = plt.subplots(image_count,2, gridspec_kw={'width_ratios': [2, 1.5]}, figsize = (10, 3*image_count))\n",
    "    plt.suptitle(\"Patient {}\".format(pid), fontsize = 20)\n",
    "    for i in range(image_count):\n",
    "        values = image[:,:,i].flatten()\n",
    "        slice = image[:,:,i]\n",
    "        sns.distplot(ax = axes[i, 0], a = values, bins = 60)\n",
    "        ax = fig.add_subplot(image_count, 2, (i+1)*2)\n",
    "        ax.set_aspect('equal', 'box')\n",
    "        pos = ax.imshow(slice, cmap='gray', vmin = 0, vmax = 1)\n",
    "        cbar = fig.colorbar(pos, ax=axes[i,1])\n",
    "        axes[i, 0].set(xlim=(0, 1))\n",
    "        axes[i, 1].set_axis_off()\n",
    "\n",
    "    cbar.minorticks_on()\n",
    "    p = 'C:/Users/Schule/OneDrive/Studium ZHAW/Bachelorarbeit/Deskriptive Analyse der Bilder/Histogramm_Serie_Pat_{}.png'.format(pid)\n",
    "    fig.savefig(p)"
   ]
  },
  {
   "cell_type": "code",
   "execution_count": null,
   "metadata": {},
   "outputs": [],
   "source": [
    "plot_image_hist(1)"
   ]
  },
  {
   "cell_type": "code",
   "execution_count": null,
   "metadata": {},
   "outputs": [],
   "source": [
    "plot_image_hist(292)"
   ]
  },
  {
   "cell_type": "code",
   "execution_count": null,
   "metadata": {},
   "outputs": [],
   "source": [
    "image = image_to_array(292)\n",
    "image = scale_array_3D(image, IMAGE_DIMENSIONS_TOF)\n",
    "print(np.min(image), np.max(image))"
   ]
  }
 ],
 "metadata": {
  "kernelspec": {
   "display_name": "Python 3",
   "language": "python",
   "name": "python3"
  },
  "language_info": {
   "codemirror_mode": {
    "name": "ipython",
    "version": 3
   },
   "file_extension": ".py",
   "mimetype": "text/x-python",
   "name": "python",
   "nbconvert_exporter": "python",
   "pygments_lexer": "ipython3",
   "version": "3.6.9"
  }
 },
 "nbformat": 4,
 "nbformat_minor": 5
}
